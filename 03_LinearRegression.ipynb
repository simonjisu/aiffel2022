{
 "cells": [
  {
   "cell_type": "markdown",
   "id": "07902c65-dbf1-46fe-b33d-b1d98cc50eb7",
   "metadata": {},
   "source": [
    "# Linear Regression"
   ]
  },
  {
   "cell_type": "code",
   "execution_count": 4,
   "id": "021c8ee7-d6f4-44f1-8771-f8ddddb1ad59",
   "metadata": {},
   "outputs": [],
   "source": [
    "import numpy as np\n",
    "import pandas as pd"
   ]
  },
  {
   "cell_type": "markdown",
   "id": "054cc0e2-5ace-441c-b2fa-d9f7a68bfba5",
   "metadata": {},
   "source": [
    "## Finding Solution (uni-variable)"
   ]
  },
  {
   "cell_type": "code",
   "execution_count": 10,
   "id": "5c3413ca",
   "metadata": {},
   "outputs": [
    {
     "data": {
      "text/html": [
       "<div>\n",
       "<style scoped>\n",
       "    .dataframe tbody tr th:only-of-type {\n",
       "        vertical-align: middle;\n",
       "    }\n",
       "\n",
       "    .dataframe tbody tr th {\n",
       "        vertical-align: top;\n",
       "    }\n",
       "\n",
       "    .dataframe thead th {\n",
       "        text-align: right;\n",
       "    }\n",
       "</style>\n",
       "<table border=\"1\" class=\"dataframe\">\n",
       "  <thead>\n",
       "    <tr style=\"text-align: right;\">\n",
       "      <th></th>\n",
       "      <th>sales</th>\n",
       "      <th>advertising</th>\n",
       "    </tr>\n",
       "  </thead>\n",
       "  <tbody>\n",
       "    <tr>\n",
       "      <th>0</th>\n",
       "      <td>651</td>\n",
       "      <td>23</td>\n",
       "    </tr>\n",
       "    <tr>\n",
       "      <th>1</th>\n",
       "      <td>762</td>\n",
       "      <td>26</td>\n",
       "    </tr>\n",
       "    <tr>\n",
       "      <th>2</th>\n",
       "      <td>856</td>\n",
       "      <td>30</td>\n",
       "    </tr>\n",
       "    <tr>\n",
       "      <th>3</th>\n",
       "      <td>1063</td>\n",
       "      <td>34</td>\n",
       "    </tr>\n",
       "    <tr>\n",
       "      <th>4</th>\n",
       "      <td>1190</td>\n",
       "      <td>43</td>\n",
       "    </tr>\n",
       "    <tr>\n",
       "      <th>5</th>\n",
       "      <td>1298</td>\n",
       "      <td>48</td>\n",
       "    </tr>\n",
       "    <tr>\n",
       "      <th>6</th>\n",
       "      <td>1421</td>\n",
       "      <td>52</td>\n",
       "    </tr>\n",
       "    <tr>\n",
       "      <th>7</th>\n",
       "      <td>1440</td>\n",
       "      <td>57</td>\n",
       "    </tr>\n",
       "    <tr>\n",
       "      <th>8</th>\n",
       "      <td>1518</td>\n",
       "      <td>58</td>\n",
       "    </tr>\n",
       "  </tbody>\n",
       "</table>\n",
       "</div>"
      ],
      "text/plain": [
       "   sales  advertising\n",
       "0    651           23\n",
       "1    762           26\n",
       "2    856           30\n",
       "3   1063           34\n",
       "4   1190           43\n",
       "5   1298           48\n",
       "6   1421           52\n",
       "7   1440           57\n",
       "8   1518           58"
      ]
     },
     "execution_count": 10,
     "metadata": {},
     "output_type": "execute_result"
    }
   ],
   "source": [
    "df = pd.read_csv('./sales.csv', encoding='utf-8')\n",
    "df"
   ]
  },
  {
   "cell_type": "code",
   "execution_count": 12,
   "id": "0af415e8",
   "metadata": {},
   "outputs": [
    {
     "name": "stdout",
     "output_type": "stream",
     "text": [
      "(9,) (9,)\n"
     ]
    }
   ],
   "source": [
    "x = df['advertising'].to_numpy()\n",
    "y = df['sales'].to_numpy()\n",
    "print(x.shape, y.shape)"
   ]
  },
  {
   "cell_type": "code",
   "execution_count": 13,
   "id": "ea440795",
   "metadata": {},
   "outputs": [],
   "source": [
    "# Residual\n",
    "def loss_function(y, y_hat):\n",
    "    return (y - y_hat)**2\n",
    "\n",
    "# ESS \n",
    "def ess(y_hat):\n",
    "    y_hat_mean = y_hat.mean()\n",
    "    return ((y_hat - y_hat_mean)**2).sum()\n",
    "\n",
    "# RSS \n",
    "def rss(y, y_hat):\n",
    "    l = loss_function(y, y_hat)\n",
    "    return l.sum()\n",
    "\n",
    "# RSS \n",
    "def tss(y):\n",
    "    y_mean = y.mean()\n",
    "    return ((y - y_mean)**2).sum()\n",
    "\n",
    "def r_square(y, y_hat):\n",
    "    tss_ = tss(y)\n",
    "    ess_ = ess(y_hat)\n",
    "    return ess_ / tss_\n"
   ]
  },
  {
   "cell_type": "code",
   "execution_count": 16,
   "id": "6e0a9c17",
   "metadata": {},
   "outputs": [
    {
     "name": "stdout",
     "output_type": "stream",
     "text": [
      "Beta 0 = 167.6829, Beta 1 = 23.4228\n"
     ]
    }
   ],
   "source": [
    "# calculate manually\n",
    "y_mean = y.mean()\n",
    "x_mean = x.mean()\n",
    "beta_1 = ((x*y).mean() - x_mean*y_mean) / ((x**2).mean() - x_mean**2)\n",
    "beta_0 = y_mean - x_mean * beta_1\n",
    "print(f'Beta 0 = {beta_0:.4f}, Beta 1 = {beta_1:.4f}')"
   ]
  },
  {
   "cell_type": "markdown",
   "id": "a6936655",
   "metadata": {},
   "source": [
    "## Scaling up to multi-variable"
   ]
  },
  {
   "cell_type": "code",
   "execution_count": 17,
   "id": "162ab9b6",
   "metadata": {},
   "outputs": [
    {
     "name": "stderr",
     "output_type": "stream",
     "text": [
      "c:\\Users\\simon\\.virtualenvs\\aiffel2022-0SDAWiwa\\lib\\site-packages\\sklearn\\utils\\deprecation.py:87: FutureWarning: Function load_boston is deprecated; `load_boston` is deprecated in 1.0 and will be removed in 1.2.\n",
      "\n",
      "    The Boston housing prices dataset has an ethical problem. You can refer to\n",
      "    the documentation of this function for further details.\n",
      "\n",
      "    The scikit-learn maintainers therefore strongly discourage the use of this\n",
      "    dataset unless the purpose of the code is to study and educate about\n",
      "    ethical issues in data science and machine learning.\n",
      "\n",
      "    In this special case, you can fetch the dataset from the original\n",
      "    source::\n",
      "\n",
      "        import pandas as pd\n",
      "        import numpy as np\n",
      "\n",
      "        data_url = \"http://lib.stat.cmu.edu/datasets/boston\"\n",
      "        raw_df = pd.read_csv(data_url, sep=\"\\s+\", skiprows=22, header=None)\n",
      "        data = np.hstack([raw_df.values[::2, :], raw_df.values[1::2, :2]])\n",
      "        target = raw_df.values[1::2, 2]\n",
      "\n",
      "    Alternative datasets include the California housing dataset (i.e.\n",
      "    :func:`~sklearn.datasets.fetch_california_housing`) and the Ames housing\n",
      "    dataset. You can load the datasets as follows::\n",
      "\n",
      "        from sklearn.datasets import fetch_california_housing\n",
      "        housing = fetch_california_housing()\n",
      "\n",
      "    for the California housing dataset and::\n",
      "\n",
      "        from sklearn.datasets import fetch_openml\n",
      "        housing = fetch_openml(name=\"house_prices\", as_frame=True)\n",
      "\n",
      "    for the Ames housing dataset.\n",
      "  warnings.warn(msg, category=FutureWarning)\n"
     ]
    },
    {
     "data": {
      "text/html": [
       "<div>\n",
       "<style scoped>\n",
       "    .dataframe tbody tr th:only-of-type {\n",
       "        vertical-align: middle;\n",
       "    }\n",
       "\n",
       "    .dataframe tbody tr th {\n",
       "        vertical-align: top;\n",
       "    }\n",
       "\n",
       "    .dataframe thead th {\n",
       "        text-align: right;\n",
       "    }\n",
       "</style>\n",
       "<table border=\"1\" class=\"dataframe\">\n",
       "  <thead>\n",
       "    <tr style=\"text-align: right;\">\n",
       "      <th></th>\n",
       "      <th>CRIM</th>\n",
       "      <th>ZN</th>\n",
       "      <th>INDUS</th>\n",
       "      <th>CHAS</th>\n",
       "      <th>NOX</th>\n",
       "      <th>RM</th>\n",
       "      <th>AGE</th>\n",
       "      <th>DIS</th>\n",
       "      <th>RAD</th>\n",
       "      <th>TAX</th>\n",
       "      <th>PTRATIO</th>\n",
       "      <th>B</th>\n",
       "      <th>LSTAT</th>\n",
       "    </tr>\n",
       "  </thead>\n",
       "  <tbody>\n",
       "    <tr>\n",
       "      <th>0</th>\n",
       "      <td>4.81213</td>\n",
       "      <td>0.0</td>\n",
       "      <td>18.10</td>\n",
       "      <td>0.0</td>\n",
       "      <td>0.713</td>\n",
       "      <td>6.701</td>\n",
       "      <td>90.0</td>\n",
       "      <td>2.5975</td>\n",
       "      <td>24.0</td>\n",
       "      <td>666.0</td>\n",
       "      <td>20.2</td>\n",
       "      <td>255.23</td>\n",
       "      <td>16.42</td>\n",
       "    </tr>\n",
       "    <tr>\n",
       "      <th>1</th>\n",
       "      <td>0.11425</td>\n",
       "      <td>0.0</td>\n",
       "      <td>13.89</td>\n",
       "      <td>1.0</td>\n",
       "      <td>0.550</td>\n",
       "      <td>6.373</td>\n",
       "      <td>92.4</td>\n",
       "      <td>3.3633</td>\n",
       "      <td>5.0</td>\n",
       "      <td>276.0</td>\n",
       "      <td>16.4</td>\n",
       "      <td>393.74</td>\n",
       "      <td>10.50</td>\n",
       "    </tr>\n",
       "    <tr>\n",
       "      <th>2</th>\n",
       "      <td>5.70818</td>\n",
       "      <td>0.0</td>\n",
       "      <td>18.10</td>\n",
       "      <td>0.0</td>\n",
       "      <td>0.532</td>\n",
       "      <td>6.750</td>\n",
       "      <td>74.9</td>\n",
       "      <td>3.3317</td>\n",
       "      <td>24.0</td>\n",
       "      <td>666.0</td>\n",
       "      <td>20.2</td>\n",
       "      <td>393.07</td>\n",
       "      <td>7.74</td>\n",
       "    </tr>\n",
       "    <tr>\n",
       "      <th>3</th>\n",
       "      <td>0.07503</td>\n",
       "      <td>33.0</td>\n",
       "      <td>2.18</td>\n",
       "      <td>0.0</td>\n",
       "      <td>0.472</td>\n",
       "      <td>7.420</td>\n",
       "      <td>71.9</td>\n",
       "      <td>3.0992</td>\n",
       "      <td>7.0</td>\n",
       "      <td>222.0</td>\n",
       "      <td>18.4</td>\n",
       "      <td>396.90</td>\n",
       "      <td>6.47</td>\n",
       "    </tr>\n",
       "    <tr>\n",
       "      <th>4</th>\n",
       "      <td>0.67191</td>\n",
       "      <td>0.0</td>\n",
       "      <td>8.14</td>\n",
       "      <td>0.0</td>\n",
       "      <td>0.538</td>\n",
       "      <td>5.813</td>\n",
       "      <td>90.3</td>\n",
       "      <td>4.6820</td>\n",
       "      <td>4.0</td>\n",
       "      <td>307.0</td>\n",
       "      <td>21.0</td>\n",
       "      <td>376.88</td>\n",
       "      <td>14.81</td>\n",
       "    </tr>\n",
       "  </tbody>\n",
       "</table>\n",
       "</div>"
      ],
      "text/plain": [
       "      CRIM    ZN  INDUS  CHAS    NOX     RM   AGE     DIS   RAD    TAX  \\\n",
       "0  4.81213   0.0  18.10   0.0  0.713  6.701  90.0  2.5975  24.0  666.0   \n",
       "1  0.11425   0.0  13.89   1.0  0.550  6.373  92.4  3.3633   5.0  276.0   \n",
       "2  5.70818   0.0  18.10   0.0  0.532  6.750  74.9  3.3317  24.0  666.0   \n",
       "3  0.07503  33.0   2.18   0.0  0.472  7.420  71.9  3.0992   7.0  222.0   \n",
       "4  0.67191   0.0   8.14   0.0  0.538  5.813  90.3  4.6820   4.0  307.0   \n",
       "\n",
       "   PTRATIO       B  LSTAT  \n",
       "0     20.2  255.23  16.42  \n",
       "1     16.4  393.74  10.50  \n",
       "2     20.2  393.07   7.74  \n",
       "3     18.4  396.90   6.47  \n",
       "4     21.0  376.88  14.81  "
      ]
     },
     "execution_count": 17,
     "metadata": {},
     "output_type": "execute_result"
    }
   ],
   "source": [
    "from sklearn.datasets import load_boston\n",
    "from sklearn import model_selection\n",
    "import pandas as pd\n",
    "import numpy as np\n",
    "\n",
    "# load data\n",
    "boston = load_boston()\n",
    "data, price = boston['data'], boston['target']\n",
    "x_train, x_test, y_train, y_test = model_selection.train_test_split(data, price, test_size=0.2)\n",
    "\n",
    "df = pd.DataFrame(x_train, columns=boston['feature_names'])\n",
    "df.head()"
   ]
  },
  {
   "cell_type": "code",
   "execution_count": 26,
   "id": "96bae819",
   "metadata": {},
   "outputs": [
    {
     "name": "stdout",
     "output_type": "stream",
     "text": [
      "Shape of X_train = (404, 13)\n",
      "Shape of Y = (404,)\n"
     ]
    }
   ],
   "source": [
    "print(f'Shape of X_train = {x_train.shape}')\n",
    "print(f'Shape of Y = {y.shape}')"
   ]
  },
  {
   "cell_type": "code",
   "execution_count": 41,
   "id": "4e5d790d",
   "metadata": {},
   "outputs": [
    {
     "name": "stdout",
     "output_type": "stream",
     "text": [
      "Intercept: 31.262\n",
      "Coefficient: \n",
      "[-0.121, 0.055, 0.035, 2.332, -16.199, 4.166, -0.012, -1.5, 0.305, -0.012, -0.891, 0.012, -0.458]\n"
     ]
    }
   ],
   "source": [
    "X = np.hstack((np.ones(shape=(x_train.shape[0], 1)), x_train))\n",
    "y = y_train\n",
    "# np.matmul(X.T, X) = X.T @ T\n",
    "w = np.linalg.inv(X.T @ X) @ X.T @ y\n",
    "\n",
    "print(f'Intercept: {w[0]:.3f}')\n",
    "print(f'Coefficient: \\n{[round(wei,3) for wei in w[1:]]}')"
   ]
  },
  {
   "cell_type": "code",
   "execution_count": 56,
   "id": "f2374a6e",
   "metadata": {},
   "outputs": [
    {
     "name": "stdout",
     "output_type": "stream",
     "text": [
      "prediction shape of y_hat = (404,)\n",
      "ESS = 24714.5435\n",
      "RSS = 8809.1852\n",
      "TSS = 33523.7287\n",
      "R^2 = 0.7372\n"
     ]
    }
   ],
   "source": [
    "y_hat = np.dot(X, w)\n",
    "print(f'prediction shape of y_hat = {y_hat.shape}')\n",
    "print(f'ESS = {ess(y_hat):.4f}')\n",
    "print(f'RSS = {rss(y, y_hat):.4f}')\n",
    "print(f'TSS = {tss(y):.4f}')\n",
    "print(f'R^2 = {r_square(y, y_hat):.4f}')"
   ]
  },
  {
   "cell_type": "code",
   "execution_count": 59,
   "id": "05f092b1",
   "metadata": {},
   "outputs": [
    {
     "name": "stdout",
     "output_type": "stream",
     "text": [
      "Intercept: 31.262\n",
      "Coefficient: \n",
      "[-0.121, 0.055, 0.035, 2.332, -16.199, 4.166, -0.012, -1.5, 0.305, -0.012, -0.891, 0.012, -0.458]\n",
      "R^2 = 0.7372\n"
     ]
    }
   ],
   "source": [
    "from sklearn.linear_model import LinearRegression\n",
    "from sklearn.metrics import r2_score\n",
    "\n",
    "model = LinearRegression(fit_intercept=True)\n",
    "model.fit(x_train, y)\n",
    "print(f'Intercept: {model.intercept_:.3f}')\n",
    "print(f'Coefficient: \\n{[round(wei,3) for wei in model.coef_]}')\n",
    "y_hat = model.predict(x_train)\n",
    "print(f'R^2 = {r2_score(y, y_hat):.4f}')"
   ]
  },
  {
   "cell_type": "markdown",
   "id": "53567ed6",
   "metadata": {},
   "source": [
    "---\n",
    "\n",
    "## Additional materials\n",
    "\n",
    "https://datascienceschool.net/03%20machine%20learning/04.01%20%ED%9A%8C%EA%B7%80%EB%B6%84%EC%84%9D%20%EC%98%88%EC%A0%9C.html"
   ]
  }
 ],
 "metadata": {
  "kernelspec": {
   "display_name": "Python 3.10.4 ('aiffel2022-0SDAWiwa')",
   "language": "python",
   "name": "python3"
  },
  "language_info": {
   "codemirror_mode": {
    "name": "ipython",
    "version": 3
   },
   "file_extension": ".py",
   "mimetype": "text/x-python",
   "name": "python",
   "nbconvert_exporter": "python",
   "pygments_lexer": "ipython3",
   "version": "3.10.4"
  },
  "vscode": {
   "interpreter": {
    "hash": "d1a1b9479b242366efcd00035e60f2e24dbc2c54df35946856cbb4607e74fc36"
   }
  }
 },
 "nbformat": 4,
 "nbformat_minor": 5
}
