{
 "cells": [
  {
   "cell_type": "markdown",
   "id": "07902c65-dbf1-46fe-b33d-b1d98cc50eb7",
   "metadata": {},
   "source": [
    "# Logistic Regression"
   ]
  },
  {
   "cell_type": "code",
   "execution_count": 20,
   "id": "021c8ee7-d6f4-44f1-8771-f8ddddb1ad59",
   "metadata": {},
   "outputs": [],
   "source": [
    "import numpy as np\n",
    "import pandas as pd\n",
    "from sklearn.datasets import make_classification\n",
    "import matplotlib.pyplot as plt\n",
    "\n",
    "seed = 6"
   ]
  },
  {
   "cell_type": "code",
   "execution_count": 21,
   "id": "5c3413ca",
   "metadata": {},
   "outputs": [
    {
     "data": {
      "image/png": "[encoded data removed]",
      "text/plain": [
       "<Figure size 720x432 with 1 Axes>"
      ]
     },
     "metadata": {
      "needs_background": "light"
     },
     "output_type": "display_data"
    }
   ],
   "source": [
    "X, y = make_classification(\n",
    "    n_samples=100, n_features=2, n_informative=2, n_redundant=0, n_classes=2, random_state=seed\n",
    ")\n",
    "\n",
    "fig, ax = plt.subplots(1,1,figsize=(10, 6))\n",
    "ax.scatter(X[:, 0], X[:, 1], marker='o', c=y, s=20, edgecolor=\"k\", linewidth=1)\n",
    "ax.set_xlabel(\"$X_1$\")\n",
    "ax.set_ylabel(\"$X_2$\")\n",
    "plt.show()"
   ]
  },
  {
   "cell_type": "code",
   "execution_count": 30,
   "id": "78ebae6e",
   "metadata": {},
   "outputs": [
    {
     "name": "stdout",
     "output_type": "stream",
     "text": [
      "              precision    recall  f1-score   support\n",
      "\n",
      "           0       1.00      0.94      0.97        50\n",
      "           1       0.94      1.00      0.97        50\n",
      "\n",
      "    accuracy                           0.97       100\n",
      "   macro avg       0.97      0.97      0.97       100\n",
      "weighted avg       0.97      0.97      0.97       100\n",
      "\n"
     ]
    }
   ],
   "source": [
    "from sklearn.linear_model import LogisticRegression\n",
    "from sklearn.metrics import classification_report\n",
    "\n",
    "model = LogisticRegression()\n",
    "model.fit(X, y)\n",
    "pred = model.predict(X)\n",
    "\n",
    "print(classification_report(y, pred))"
   ]
  },
  {
   "cell_type": "code",
   "execution_count": 57,
   "id": "63bae505",
   "metadata": {},
   "outputs": [
    {
     "name": "stdout",
     "output_type": "stream",
     "text": [
      "log odds ratio = 2.1972, p = 0.9000\n"
     ]
    }
   ],
   "source": [
    "def logit_func(p):\n",
    "    return np.log(p/(1-p))\n",
    "\n",
    "def logistic_func(logit):\n",
    "    return 1 / (1+np.exp(-logit))\n",
    "\n",
    "# inverse function\n",
    "p = 0.9\n",
    "logit = logit_func(p)\n",
    "logistic = logistic_func(logit)\n",
    "\n",
    "print(f'log odds ratio = {logit:.4f}, p = {logistic:.4f}')"
   ]
  },
  {
   "cell_type": "code",
   "execution_count": 62,
   "id": "6662c4fc",
   "metadata": {},
   "outputs": [
    {
     "name": "stdout",
     "output_type": "stream",
     "text": [
      "Intercept: [-0.47188394]\n",
      "Coefficient: \n",
      "[[-0.0906822   3.11403594]]\n",
      "\n",
      "Logit x1 = -0.5626, Logit x2 = -0.6532\n",
      "Logistic x1 = 0.3630, Logistic x2 = 0.3423\n",
      "Difference = 0.0907\n"
     ]
    }
   ],
   "source": [
    "# 계수 설명\n",
    "print(f'Intercept: {model.intercept_}')\n",
    "print(f'Coefficient: \\n{model.coef_}')\n",
    "\n",
    "x1 = np.array([[1, 0]])\n",
    "x2 = np.array([[2, 0]])\n",
    "logit1 = model.decision_function(x1)[0]\n",
    "logit2 = model.decision_function(x2)[0]\n",
    "logistic1 = logistic_func(logit1)\n",
    "logistic2 = logistic_func(logit2)\n",
    "print()\n",
    "print(f'Logit x1 = {logit1:.4f}, Logit x2 = {logit2:.4f}')\n",
    "print(f'Logistic x1 = {logistic1:.4f}, Logistic x2 = {logistic2:.4f}')\n",
    "print(f'Difference = {(logit1-logit2):.4f}')"
   ]
  },
  {
   "cell_type": "code",
   "execution_count": 78,
   "id": "711826c8",
   "metadata": {},
   "outputs": [],
   "source": [
    "from matplotlib.colors import ListedColormap \n",
    "\n",
    "def draw_decision(model, X, y):\n",
    "    \"\"\"draw the dicision boundary\"\"\"\n",
    "    markers = (\"o\", \"s\")\n",
    "    colors = (\"red\", \"blue\")\n",
    "    cmap = ListedColormap(colors)\n",
    "    \n",
    "    lim = 0.5\n",
    "    x1_min, x1_max = X[:, 0].min() - lim, X[:, 0].max() + lim\n",
    "    x2_min, x2_max = X[:, 1].min() - lim, X[:, 1].max() + lim\n",
    "    xx1, xx2 = np.meshgrid(np.arange(x1_min, x1_max, 0.01),\n",
    "                           np.arange(x2_min, x2_max, 0.01))\n",
    "    xx = np.hstack([xx1.reshape(-1, 1), xx2.reshape(-1, 1)])\n",
    "    outputs = model.predict(xx)\n",
    "    Z = outputs.reshape(xx1.shape)\n",
    "    \n",
    "    fig, ax = plt.subplots(1, 1, figsize=(8, 5))\n",
    "    ax.contourf(xx1, xx2, Z, alpha=0.4, cmap=cmap)\n",
    "    ax.set_xlim(xx1.min(), xx1.max())\n",
    "    ax.set_ylim(xx2.min(), xx2.max())\n",
    "\n",
    "    for idx, (cl, color) in enumerate(zip([0, 1], colors)):\n",
    "        ax.scatter(\n",
    "            x=X[y == cl, 0], \n",
    "            y=X[y == cl, 1],\n",
    "            alpha=0.6, \n",
    "            c=color,\n",
    "            edgecolor='black',\n",
    "            marker=markers[idx], \n",
    "            label=cl,\n",
    "        )\n",
    "    plt.legend()\n",
    "    plt.show()"
   ]
  },
  {
   "cell_type": "code",
   "execution_count": 79,
   "id": "14fed3a8",
   "metadata": {},
   "outputs": [
    {
     "data": {
      "image/png": "[encoded data removed]",
      "text/plain": [
       "<Figure size 576x360 with 1 Axes>"
      ]
     },
     "metadata": {
      "needs_background": "light"
     },
     "output_type": "display_data"
    }
   ],
   "source": [
    "# 결정 평면 plot\n",
    "draw_decision(model, X, y)"
   ]
  }
 ],
 "metadata": {
  "kernelspec": {
   "display_name": "Python 3.10.4 ('aiffel2022-0SDAWiwa')",
   "language": "python",
   "name": "python3"
  },
  "language_info": {
   "codemirror_mode": {
    "name": "ipython",
    "version": 3
   },
   "file_extension": ".py",
   "mimetype": "text/x-python",
   "name": "python",
   "nbconvert_exporter": "python",
   "pygments_lexer": "ipython3",
   "version": "3.10.4"
  },
  "vscode": {
   "interpreter": {
    "hash": "d1a1b9479b242366efcd00035e60f2e24dbc2c54df35946856cbb4607e74fc36"
   }
  }
 },
 "nbformat": 4,
 "nbformat_minor": 5
}
