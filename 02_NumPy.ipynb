{
 "cells": [
  {
   "cell_type": "markdown",
   "id": "07902c65-dbf1-46fe-b33d-b1d98cc50eb7",
   "metadata": {},
   "source": [
    "# NumPy Practices"
   ]
  },
  {
   "cell_type": "code",
   "execution_count": 2,
   "id": "021c8ee7-d6f4-44f1-8771-f8ddddb1ad59",
   "metadata": {},
   "outputs": [],
   "source": [
    "import numpy as np"
   ]
  },
  {
   "cell_type": "markdown",
   "id": "054cc0e2-5ace-441c-b2fa-d9f7a68bfba5",
   "metadata": {},
   "source": [
    "## Create a NumPy array"
   ]
  },
  {
   "cell_type": "code",
   "execution_count": 9,
   "id": "d9336e76-6e37-4caf-895c-898bf212388f",
   "metadata": {},
   "outputs": [],
   "source": [
    "# matlab: [ 1 2 3; 4 5 6 ]  -> float?\n",
    "\n",
    "# create np.int64: 2**64 = 1.8446744e+19 \n",
    " \n",
    "x = np.array([[1, 2, 3], \n",
    "              [4, 5, 6]])"
   ]
  },
  {
   "cell_type": "code",
   "execution_count": 16,
   "id": "0c407dad-0217-4362-8478-be0368194508",
   "metadata": {},
   "outputs": [
    {
     "name": "stdout",
     "output_type": "stream",
     "text": [
      "Type: <class 'numpy.ndarray'>\n",
      "Data Type: int64\n",
      "Number of dimension: 2\n",
      "Number of elements: 6\n",
      "Dimension: (2, 3)\n"
     ]
    }
   ],
   "source": [
    "print(f\"Type: {type(x)}\")\n",
    "print(f\"Data Type: {x.dtype}\") # datatype\n",
    "print(f\"Number of dimension: {x.ndim}\") # number of dimension\n",
    "print(f\"Number of elements: {x.size}\") # number of elements\n",
    "print(f\"Dimension: {x.shape}\") # Dimension"
   ]
  },
  {
   "cell_type": "code",
   "execution_count": 19,
   "id": "cc77f396-4392-4890-b9af-b1fca3355b17",
   "metadata": {},
   "outputs": [
    {
     "name": "stdout",
     "output_type": "stream",
     "text": [
      "x1 ndim = 1 | (3,)\n",
      "x1 ndim = 2 | (1, 3)\n"
     ]
    }
   ],
   "source": [
    "# not always 2 dim mension\n",
    "x1 = np.array([1, 2, 3])\n",
    "x2 = np.array([[1, 2, 3]])\n",
    "\n",
    "print(f\"x1 ndim = {x1.ndim} | {x1.shape}\")  # (3, ) is tuple, (3) equals 3, int\n",
    "print(f\"x1 ndim = {x2.ndim} | {x2.shape}\")"
   ]
  },
  {
   "cell_type": "code",
   "execution_count": 39,
   "id": "391deb5c-081d-46f8-a8d0-a56c69c75c94",
   "metadata": {},
   "outputs": [
    {
     "data": {
      "text/plain": [
       "array([[1., 2., 3.],\n",
       "       [4., 5., 6.]], dtype=float32)"
      ]
     },
     "execution_count": 39,
     "metadata": {},
     "output_type": "execute_result"
    }
   ],
   "source": [
    "# create other type tensor\n",
    "x = np.array([[1, 2, 3], [4, 5, 6]], dtype=np.float32)\n",
    "x"
   ]
  },
  {
   "cell_type": "markdown",
   "id": "0575a2c2-07ab-46aa-8212-12858bc0fb25",
   "metadata": {},
   "source": [
    "### often used methods"
   ]
  },
  {
   "cell_type": "code",
   "execution_count": 24,
   "id": "c33f1c1c-b3ff-4b99-8cd1-e3d3d4dbe2ee",
   "metadata": {},
   "outputs": [
    {
     "data": {
      "text/plain": [
       "array([0, 1, 2, 3, 4, 5, 6, 7, 8])"
      ]
     },
     "execution_count": 24,
     "metadata": {},
     "output_type": "execute_result"
    }
   ],
   "source": [
    "# = range\n",
    "np.arange(0, 9, 1)"
   ]
  },
  {
   "cell_type": "code",
   "execution_count": 26,
   "id": "7fa3ff37-26e6-4c27-9dd5-805e6cd6fba5",
   "metadata": {},
   "outputs": [
    {
     "data": {
      "text/plain": [
       "array([1. , 1.5, 2. , 2.5, 3. , 3.5, 4. , 4.5, 5. ])"
      ]
     },
     "execution_count": 26,
     "metadata": {},
     "output_type": "execute_result"
    }
   ],
   "source": [
    "# linspace\n",
    "np.linspace(1, 5, 9)"
   ]
  },
  {
   "cell_type": "code",
   "execution_count": 31,
   "id": "266f29ca-f9f4-4cf2-b784-935245009351",
   "metadata": {},
   "outputs": [
    {
     "data": {
      "text/plain": [
       "array([[1., 0., 0.],\n",
       "       [0., 1., 0.],\n",
       "       [0., 0., 1.]])"
      ]
     },
     "execution_count": 31,
     "metadata": {},
     "output_type": "execute_result"
    }
   ],
   "source": [
    "# identity matrix\n",
    "np.eye(3)"
   ]
  },
  {
   "cell_type": "code",
   "execution_count": 35,
   "id": "83390103-3556-4aa2-8901-0ca466b54c22",
   "metadata": {},
   "outputs": [
    {
     "data": {
      "text/plain": [
       "array([[1., 1.],\n",
       "       [1., 1.]])"
      ]
     },
     "execution_count": 35,
     "metadata": {},
     "output_type": "execute_result"
    }
   ],
   "source": [
    "# ones matrix\n",
    "np.ones(shape=(2,2))"
   ]
  },
  {
   "cell_type": "code",
   "execution_count": 36,
   "id": "44e6cab5-6356-42cc-9755-299a21e62791",
   "metadata": {},
   "outputs": [
    {
     "data": {
      "text/plain": [
       "array([[0., 0.],\n",
       "       [0., 0.]])"
      ]
     },
     "execution_count": 36,
     "metadata": {},
     "output_type": "execute_result"
    }
   ],
   "source": [
    "# zeros matrix\n",
    "np.zeros(shape=(2,2))"
   ]
  },
  {
   "cell_type": "code",
   "execution_count": 45,
   "id": "d098b89c-6430-4ece-837e-792d71469660",
   "metadata": {},
   "outputs": [
    {
     "data": {
      "text/plain": [
       "array([3.], dtype=float32)"
      ]
     },
     "execution_count": 45,
     "metadata": {},
     "output_type": "execute_result"
    }
   ],
   "source": [
    "# get dialog matrix elem\n",
    "np.diag(x, 2)"
   ]
  },
  {
   "cell_type": "code",
   "execution_count": 77,
   "id": "b3c5572a-2f35-48d7-b486-2eacd6dfe539",
   "metadata": {},
   "outputs": [
    {
     "data": {
      "text/plain": [
       "array([[0.38656803, 0.3171012 , 0.05712714, 0.0089144 , 0.28984494],\n",
       "       [0.12406282, 0.2338381 , 0.89610451, 0.13549445, 0.40979219],\n",
       "       [0.15671899, 0.4167    , 0.46405575, 0.42624289, 0.56451287]])"
      ]
     },
     "execution_count": 77,
     "metadata": {},
     "output_type": "execute_result"
    }
   ],
   "source": [
    "# create random numpy array\n",
    "# random samples from a uniform distribution: Uniform [0, 1)\n",
    "np.random.rand(3, 5)"
   ]
  },
  {
   "cell_type": "code",
   "execution_count": 78,
   "id": "4ff0eb33-5c49-48ef-88da-2939c06143e4",
   "metadata": {},
   "outputs": [
    {
     "data": {
      "text/plain": [
       "array([[-1.10642359, -0.11137323,  1.28787433, -0.09711504, -0.68655805],\n",
       "       [ 0.27990781,  1.66678672,  0.11378623,  1.20713174,  0.03440031],\n",
       "       [-0.49653675,  0.94879641,  1.01591378, -2.0413474 ,  0.10078489]])"
      ]
     },
     "execution_count": 78,
     "metadata": {},
     "output_type": "execute_result"
    }
   ],
   "source": [
    "# create random numpy array\n",
    "# random samples from a normal distribution: Gaussian (mean=0, std=1)\n",
    "np.random.randn(3, 5)"
   ]
  },
  {
   "cell_type": "code",
   "execution_count": 80,
   "id": "1d0deea3-8552-441d-85ec-e746ff955c8f",
   "metadata": {},
   "outputs": [
    {
     "data": {
      "text/plain": [
       "array([5, 6, 6, 5, 6])"
      ]
     },
     "execution_count": 80,
     "metadata": {},
     "output_type": "execute_result"
    }
   ],
   "source": [
    "# create random numpy array\n",
    "# random samples from a normal distribution: Gaussian (mean=0, std=1)\n",
    "np.random.randint(0, 9, size=(5,), dtype=np.int64)"
   ]
  },
  {
   "cell_type": "code",
   "execution_count": 169,
   "id": "b1824385-a557-41da-a0a0-12b7dac0b34a",
   "metadata": {},
   "outputs": [
    {
     "data": {
      "text/plain": [
       "array([7, 2, 9, 3])"
      ]
     },
     "execution_count": 169,
     "metadata": {},
     "output_type": "execute_result"
    }
   ],
   "source": [
    "# random choice\n",
    "x = np.arange(0, 10)\n",
    "np.random.choice(x, size=(4,), replace=False)"
   ]
  },
  {
   "cell_type": "code",
   "execution_count": 175,
   "id": "d339c1e4-9df6-4127-a377-9b17ea45dd55",
   "metadata": {},
   "outputs": [
    {
     "data": {
      "text/plain": [
       "array([7, 6, 7, 1, 7])"
      ]
     },
     "execution_count": 175,
     "metadata": {},
     "output_type": "execute_result"
    }
   ],
   "source": [
    "np.random.seed(777)\n",
    "# fix seed to create constant result\n",
    "np.random.randint(0, 9, size=(5,), dtype=np.int64)"
   ]
  },
  {
   "cell_type": "markdown",
   "id": "0b67a55f-42c5-472b-92a1-77f94645762a",
   "metadata": {},
   "source": [
    "## Access elements"
   ]
  },
  {
   "cell_type": "code",
   "execution_count": 108,
   "id": "1958cf23-5398-4a3a-8db9-48ebb08c1c22",
   "metadata": {},
   "outputs": [
    {
     "name": "stdout",
     "output_type": "stream",
     "text": [
      "[ 0  1  2  3  4  5  6  7  8  9 10 11 12 13 14]\n",
      "\n",
      "x.reshape(5, 3)\n",
      "[[ 0  1  2]\n",
      " [ 3  4  5]\n",
      " [ 6  7  8]\n",
      " [ 9 10 11]\n",
      " [12 13 14]]\n",
      "\n",
      "x.reshape(5, -1)\n",
      "[[ 0  1  2]\n",
      " [ 3  4  5]\n",
      " [ 6  7  8]\n",
      " [ 9 10 11]\n",
      " [12 13 14]]\n"
     ]
    }
   ],
   "source": [
    "# reshape\n",
    "x = np.arange(0, 15)  # 0, 1, ..., 14  | size(numel) = 15\n",
    "print(x)\n",
    "print()\n",
    "print(\"x.reshape(5, 3)\")  \n",
    "print(x.reshape(5, 3))\n",
    "print()\n",
    "print(\"x.reshape(5, -1)\")\n",
    "print(x.reshape(5, -1))"
   ]
  },
  {
   "cell_type": "code",
   "execution_count": 57,
   "id": "9eb6816f-7048-4b31-bc10-e0f844cb645d",
   "metadata": {},
   "outputs": [
    {
     "data": {
      "text/plain": [
       "array([[ 0,  1,  2],\n",
       "       [ 3,  4,  5],\n",
       "       [ 6,  7,  8],\n",
       "       [ 9, 10, 11],\n",
       "       [12, 13, 14]])"
      ]
     },
     "execution_count": 57,
     "metadata": {},
     "output_type": "execute_result"
    }
   ],
   "source": [
    "# reshape\n",
    "x = np.arange(0, 15).reshape(5, 3)\n",
    "x"
   ]
  },
  {
   "cell_type": "markdown",
   "id": "8070c4eb-b61c-47e7-8c4b-d5f7f6d394f6",
   "metadata": {},
   "source": [
    "```\n",
    "          0   1   2\n",
    "   0   [[ 0,  1,  2],\n",
    "   1    [ 3,  4,  5],\n",
    "   2    [ 6,  7,  8],\n",
    "   3    [ 9, 10, 11],\n",
    "   4    [12, 13, 14]])\n",
    "```"
   ]
  },
  {
   "cell_type": "code",
   "execution_count": 60,
   "id": "de5d6fa5-2fde-47e9-952a-7095b820026f",
   "metadata": {},
   "outputs": [
    {
     "data": {
      "text/plain": [
       "1"
      ]
     },
     "execution_count": 60,
     "metadata": {},
     "output_type": "execute_result"
    }
   ],
   "source": [
    "# select single element\n",
    "x[0, 1]  # scalar(integer)"
   ]
  },
  {
   "cell_type": "code",
   "execution_count": 62,
   "id": "94f648ae-a2b4-463c-8b2d-02d874169298",
   "metadata": {},
   "outputs": [
    {
     "data": {
      "text/plain": [
       "array([0, 1, 2])"
      ]
     },
     "execution_count": 62,
     "metadata": {},
     "output_type": "execute_result"
    }
   ],
   "source": [
    "# select first row\n",
    "x[0, :]  # ndim = 1"
   ]
  },
  {
   "cell_type": "code",
   "execution_count": 63,
   "id": "92f910ec-7b21-416a-8487-53e8455fd116",
   "metadata": {},
   "outputs": [
    {
     "data": {
      "text/plain": [
       "array([ 1,  4,  7, 10, 13])"
      ]
     },
     "execution_count": 63,
     "metadata": {},
     "output_type": "execute_result"
    }
   ],
   "source": [
    "# select second column\n",
    "x[:, 1]  # ndim = 1"
   ]
  },
  {
   "cell_type": "code",
   "execution_count": 59,
   "id": "2d584dd9-2f28-4494-9d02-8022e254c157",
   "metadata": {},
   "outputs": [
    {
     "data": {
      "text/plain": [
       "array([[1],\n",
       "       [4]])"
      ]
     },
     "execution_count": 59,
     "metadata": {},
     "output_type": "execute_result"
    }
   ],
   "source": [
    "# select row: 0~2, colulm: 1\n",
    "x[0:2, 1:2]"
   ]
  },
  {
   "cell_type": "code",
   "execution_count": 66,
   "id": "80e0bd7a-f720-4ed2-ba2b-7228e399b41a",
   "metadata": {},
   "outputs": [
    {
     "data": {
      "text/plain": [
       "array([[ 0,  2],\n",
       "       [ 6,  8],\n",
       "       [12, 14]])"
      ]
     },
     "execution_count": 66,
     "metadata": {},
     "output_type": "execute_result"
    }
   ],
   "source": [
    "# select even index row, column\n",
    "x[0:5:2, 0:3:2]   # equals to x[::2, ::2]"
   ]
  },
  {
   "cell_type": "code",
   "execution_count": 71,
   "id": "4a60e153-9b51-4f18-997e-db7c0c27da69",
   "metadata": {},
   "outputs": [
    {
     "data": {
      "text/plain": [
       "array([[12, 13, 14],\n",
       "       [ 9, 10, 11],\n",
       "       [ 6,  7,  8],\n",
       "       [ 3,  4,  5],\n",
       "       [ 0,  1,  2]])"
      ]
     },
     "execution_count": 71,
     "metadata": {},
     "output_type": "execute_result"
    }
   ],
   "source": [
    "# filp\n",
    "x[::-1, :]"
   ]
  },
  {
   "cell_type": "code",
   "execution_count": 75,
   "id": "cd8f48a9-f756-4a0b-9519-6498a1dc6243",
   "metadata": {},
   "outputs": [
    {
     "name": "stdout",
     "output_type": "stream",
     "text": [
      "Select index 0 from x1: 1\n",
      "Select index 0 from x2: [1 2 3]\n",
      "Select index 1 from x1: 2\n"
     ]
    },
    {
     "ename": "IndexError",
     "evalue": "index 1 is out of bounds for axis 0 with size 1",
     "output_type": "error",
     "traceback": [
      "\u001b[0;31m---------------------------------------------------------------------------\u001b[0m",
      "\u001b[0;31mIndexError\u001b[0m                                Traceback (most recent call last)",
      "\u001b[0;32m<ipython-input-75-abe2e7fdbdd9>\u001b[0m in \u001b[0;36m<module>\u001b[0;34m\u001b[0m\n\u001b[1;32m      7\u001b[0m \u001b[0;34m\u001b[0m\u001b[0m\n\u001b[1;32m      8\u001b[0m \u001b[0mprint\u001b[0m\u001b[0;34m(\u001b[0m\u001b[0;34mf\"Select index 1 from x1: {x1[1]}\"\u001b[0m\u001b[0;34m)\u001b[0m\u001b[0;34m\u001b[0m\u001b[0;34m\u001b[0m\u001b[0m\n\u001b[0;32m----> 9\u001b[0;31m \u001b[0mprint\u001b[0m\u001b[0;34m(\u001b[0m\u001b[0;34mf\"Select index 1 from x2: {x2[1]}\"\u001b[0m\u001b[0;34m)\u001b[0m\u001b[0;34m\u001b[0m\u001b[0;34m\u001b[0m\u001b[0m\n\u001b[0m",
      "\u001b[0;31mIndexError\u001b[0m: index 1 is out of bounds for axis 0 with size 1"
     ]
    }
   ],
   "source": [
    "# differrence between ndim=1, ndim=2\n",
    "x1 = np.array([1, 2, 3])   # shape = (3, )\n",
    "x2 = np.array([[1, 2, 3]])  # shape = (1, 3)\n",
    "\n",
    "print(f\"Select index 0 from x1: {x1[0]}\")\n",
    "print(f\"Select index 0 from x2: {x2[0]}\")\n",
    "\n",
    "print(f\"Select index 1 from x1: {x1[1]}\")\n",
    "print(f\"Select index 1 from x2: {x2[1]}\")"
   ]
  },
  {
   "cell_type": "code",
   "execution_count": 76,
   "id": "f077e477-bdd3-4cb7-bba2-1f0a1489c196",
   "metadata": {},
   "outputs": [
    {
     "name": "stdout",
     "output_type": "stream",
     "text": [
      "Select index 1 from x2: 2\n"
     ]
    }
   ],
   "source": [
    "print(f\"Select index 1 from x2: {x2[0, 1]}\")"
   ]
  },
  {
   "cell_type": "markdown",
   "id": "d168beed-cb19-4411-a7e9-75a1149effa3",
   "metadata": {},
   "source": [
    "## Operations"
   ]
  },
  {
   "cell_type": "code",
   "execution_count": 186,
   "id": "6043ab2a-39da-44dd-ac1e-9c321aee7468",
   "metadata": {},
   "outputs": [
    {
     "data": {
      "text/plain": [
       "(2, 4)"
      ]
     },
     "execution_count": 186,
     "metadata": {},
     "output_type": "execute_result"
    }
   ],
   "source": [
    "x = np.array([\n",
    "    [1, 2, 3, 4], \n",
    "    [5, 6, 7, 8]\n",
    "])\n",
    "x.shape"
   ]
  },
  {
   "cell_type": "code",
   "execution_count": 195,
   "id": "f4e52c5c-a69e-4034-92bd-a4df8d464038",
   "metadata": {},
   "outputs": [
    {
     "data": {
      "text/plain": [
       "array([[ True, False, False, False],\n",
       "       [False, False, False, False]])"
      ]
     },
     "execution_count": 195,
     "metadata": {},
     "output_type": "execute_result"
    }
   ],
   "source": [
    "# relation operation, returns boolean array\n",
    "x == 1"
   ]
  },
  {
   "cell_type": "code",
   "execution_count": 190,
   "id": "b92ac15c-7c1f-400d-8496-67ed13210543",
   "metadata": {},
   "outputs": [
    {
     "data": {
      "text/plain": [
       "array([1])"
      ]
     },
     "execution_count": 190,
     "metadata": {},
     "output_type": "execute_result"
    }
   ],
   "source": [
    "# can use it to select array\n",
    "x[x == 1]"
   ]
  },
  {
   "cell_type": "code",
   "execution_count": 96,
   "id": "7e8aae11-7d69-496c-a310-21fac5e02442",
   "metadata": {},
   "outputs": [
    {
     "name": "stdout",
     "output_type": "stream",
     "text": [
      "[[1 2 3 4]\n",
      " [5 6 7 8]]\n",
      "Sum all elements: 36\n",
      "\n",
      "np.sum(x, axis=0): \n",
      "[ 6  8 10 12]\n",
      "\n",
      "np.sum(x, axis=1): \n",
      "[10 26]\n"
     ]
    }
   ],
   "source": [
    "# summation\n",
    "print(x)\n",
    "print(f\"Sum all elements: {x.sum()}\")\n",
    "print()\n",
    "print(\"np.sum(x, axis=0): \")\n",
    "print(np.sum(x, axis=0))  # same as x.sum(0)\n",
    "print()\n",
    "print(\"np.sum(x, axis=1): \")\n",
    "print(np.sum(x, axis=1))  # same as x.sum(1)"
   ]
  },
  {
   "cell_type": "code",
   "execution_count": 97,
   "id": "6dae0aff-2add-4466-a92d-36decf5f868d",
   "metadata": {},
   "outputs": [
    {
     "name": "stdout",
     "output_type": "stream",
     "text": [
      "[[1 2 3 4]\n",
      " [5 6 7 8]]\n",
      "Mean all elements: 4.5\n",
      "\n",
      "np.mean(x, axis=0): \n",
      "[3. 4. 5. 6.]\n",
      "\n",
      "np.mean(x, axis=1): \n",
      "[2.5 6.5]\n",
      "Mean all elements: 4.5\n"
     ]
    }
   ],
   "source": [
    "# mean\n",
    "print(x)\n",
    "print(f\"Mean all elements: {x.mean()}\")\n",
    "print()\n",
    "print(\"np.mean(x, axis=0): \")\n",
    "print(np.mean(x, axis=0))  # same as x.mean(0)\n",
    "print()\n",
    "print(\"np.mean(x, axis=1): \")\n",
    "print(np.mean(x, axis=1))  # same as x.mean(1)"
   ]
  },
  {
   "cell_type": "markdown",
   "id": "5e46c1a9-4301-461d-8101-6aa751ad4de4",
   "metadata": {},
   "source": [
    "max, min is also same as sum, mean"
   ]
  },
  {
   "cell_type": "code",
   "execution_count": 98,
   "id": "6fb6f185-e3b8-406b-8894-66712d8f1c37",
   "metadata": {},
   "outputs": [
    {
     "data": {
      "text/plain": [
       "array([[1, 5],\n",
       "       [2, 6],\n",
       "       [3, 7],\n",
       "       [4, 8]])"
      ]
     },
     "execution_count": 98,
     "metadata": {},
     "output_type": "execute_result"
    }
   ],
   "source": [
    "# transpose\n",
    "x = np.array([\n",
    "    [1, 2, 3, 4], \n",
    "    [5, 6, 7, 8]\n",
    "])\n",
    "\n",
    "x.T  # x.shape = (4, 2)"
   ]
  },
  {
   "cell_type": "code",
   "execution_count": 99,
   "id": "6df7dd11-73f3-4651-adcd-4719cdea4c44",
   "metadata": {},
   "outputs": [
    {
     "data": {
      "text/plain": [
       "array([1, 2, 3, 4, 5, 6, 7, 8])"
      ]
     },
     "execution_count": 99,
     "metadata": {},
     "output_type": "execute_result"
    }
   ],
   "source": [
    "# flatten\n",
    "x.flatten()  # x.ndim = 1"
   ]
  },
  {
   "cell_type": "markdown",
   "id": "48971d83-82cb-41c2-bae4-6a9bf6e669a8",
   "metadata": {},
   "source": [
    "### element-wise product"
   ]
  },
  {
   "cell_type": "code",
   "execution_count": 158,
   "id": "403b1182-28bd-4103-a065-6a3d5736dacc",
   "metadata": {},
   "outputs": [
    {
     "data": {
      "text/plain": [
       "array([[1],\n",
       "       [4],\n",
       "       [9]])"
      ]
     },
     "execution_count": 158,
     "metadata": {},
     "output_type": "execute_result"
    }
   ],
   "source": [
    "x = np.array([[1], [2], [3]])\n",
    "x * x"
   ]
  },
  {
   "cell_type": "markdown",
   "id": "427cf038-d85a-45bb-8f82-2f2640304c27",
   "metadata": {},
   "source": [
    "broad casting: http://www.astroml.org/book_figures/appendix/fig_broadcast_visual.html"
   ]
  },
  {
   "cell_type": "code",
   "execution_count": 161,
   "id": "8f1b45d1-52c1-48b9-ab80-d5a861e46292",
   "metadata": {},
   "outputs": [
    {
     "data": {
      "text/plain": [
       "array([[3],\n",
       "       [6],\n",
       "       [9]])"
      ]
     },
     "execution_count": 161,
     "metadata": {},
     "output_type": "execute_result"
    }
   ],
   "source": [
    "x * 3"
   ]
  },
  {
   "cell_type": "markdown",
   "id": "15fad76b-5d74-4be7-a583-60f28f27ac39",
   "metadata": {},
   "source": [
    "### dot product\n",
    "`help(np.dot)`\n",
    "\n",
    "Dot product of two arrays. Specifically,\n",
    "\n",
    "- If both `a` and `b` are 1-D arrays, it is inner product of vectors\n",
    "  (without complex conjugation).\n",
    "\n",
    "- If both `a` and `b` are 2-D arrays, it is matrix multiplication,\n",
    "  but using :func:`matmul` or ``a @ b`` is preferred.\n",
    "\n",
    "- If either `a` or `b` is 0-D (scalar), it is equivalent to :func:`multiply`\n",
    "  and using ``numpy.multiply(a, b)`` or ``a * b`` is preferred.\n",
    "\n",
    "- If `a` is an N-D array and `b` is a 1-D array, it is a sum product over\n",
    "  the last axis of `a` and `b`.\n",
    "\n",
    "- If `a` is an N-D array and `b` is an M-D array (where ``M>=2``), it is a\n",
    "  sum product over the last axis of `a` and the second-to-last axis of `b`::\n"
   ]
  },
  {
   "cell_type": "code",
   "execution_count": 130,
   "id": "6d04ea29-5b3c-4a2b-8854-417426db40a8",
   "metadata": {},
   "outputs": [
    {
     "name": "stdout",
     "output_type": "stream",
     "text": [
      "np.dot(a, b) = 1x4 + 2x5 + 3x6\n"
     ]
    },
    {
     "data": {
      "text/plain": [
       "32"
      ]
     },
     "execution_count": 130,
     "metadata": {},
     "output_type": "execute_result"
    }
   ],
   "source": [
    "# 1. a and b are both 1-D array  -> inner product\n",
    "a = np.array([1, 2, 3])  # shape: (3,)\n",
    "b = np.array([4, 5, 6])  # shape: (3,)\n",
    "\n",
    "print(\"np.dot(a, b) = 1*4 + 2*5 + 3*6\")\n",
    "np.dot(a, b)"
   ]
  },
  {
   "cell_type": "code",
   "execution_count": 134,
   "id": "60611693-1f1d-4fd3-9ecb-9a76adf52f0f",
   "metadata": {},
   "outputs": [
    {
     "name": "stdout",
     "output_type": "stream",
     "text": [
      "np.dot(a, b)\n"
     ]
    },
    {
     "data": {
      "text/plain": [
       "array([[40, 46]])"
      ]
     },
     "execution_count": 134,
     "metadata": {},
     "output_type": "execute_result"
    }
   ],
   "source": [
    "# 2. a and b are both 2-D array -> matrix multiplication\n",
    "a = np.array([[1, 2, 3]])  # shape: (1, 3)\n",
    "b = np.array([[4, 5],\n",
    "              [6, 7],\n",
    "              [8, 9]])  # shape: (3, 2)\n",
    "\n",
    "print(\"np.dot(a, b) -> shape = (1, 3) x (3, 2) = (1, 2)\")\n",
    "np.dot(a, b)  # same as: a @ b, np.matmul(a, b)"
   ]
  },
  {
   "cell_type": "code",
   "execution_count": 151,
   "id": "77a16a8d-04a4-4261-9a31-f1a00311bbec",
   "metadata": {},
   "outputs": [
    {
     "name": "stdout",
     "output_type": "stream",
     "text": [
      "np.dot(a, b) -> shape = (1, 3, 2) x (2,) = (1, 3)\n"
     ]
    },
    {
     "data": {
      "text/plain": [
       "array([[ 5, 11, 17]])"
      ]
     },
     "execution_count": 151,
     "metadata": {},
     "output_type": "execute_result"
    }
   ],
   "source": [
    "# 3. a is an N-D array and b is a 1-D array,\n",
    "# it is a sum product over the last axis of a and b\n",
    "a = np.array([[[1, 2], \n",
    "               [3, 4], \n",
    "               [5, 6]]])  # shape: (1, 3, 2)\n",
    "b = np.array([1, 2])  # shape: (2,)\n",
    "\n",
    "print(\"np.dot(a, b) -> shape = (1, 3, 2) x (2,) = (1, 3)\")\n",
    "# first element: 1*1 + 2*2 \n",
    "# second element: 3*1 + 4*2 \n",
    "# third element: 5*1 + 6*2\n",
    "np.dot(a, b)"
   ]
  },
  {
   "cell_type": "code",
   "execution_count": 162,
   "id": "a10dfb80-c001-4144-aa90-b355b4a54caa",
   "metadata": {},
   "outputs": [
    {
     "name": "stdout",
     "output_type": "stream",
     "text": [
      "np.dot(a, b) -> shape = (1, 3, 2) x (2, 4) = (1, 3, 4)\n"
     ]
    },
    {
     "data": {
      "text/plain": [
       "array([[[11, 14, 17, 20],\n",
       "        [23, 30, 37, 44],\n",
       "        [35, 46, 57, 68]]])"
      ]
     },
     "execution_count": 162,
     "metadata": {},
     "output_type": "execute_result"
    }
   ],
   "source": [
    "# If a is an N-D array and b is an M-D array (where M>=2), \n",
    "# it is a sum product over the last axis of a and the second-to-last axis of b::\n",
    "a = np.array([[[1, 2], \n",
    "               [3, 4], \n",
    "               [5, 6]]])  # shape: (1, 3, 2)\n",
    "b = np.array([[1, 2, 3, 4], [5, 6, 7, 8]])  # shape: (2, 4)\n",
    "\n",
    "print(\"np.dot(a, b) -> shape = (1, 3, 2) x (2, 4) = (1, 3, 4)\")\n",
    "np.dot(a, b)"
   ]
  },
  {
   "cell_type": "markdown",
   "id": "d4a6047d-6adc-488b-bf44-66a4a52ac28b",
   "metadata": {},
   "source": [
    "## merge arrays"
   ]
  },
  {
   "cell_type": "code",
   "execution_count": 119,
   "id": "f37239a2-981e-4ce5-b3c4-caaca030b6b5",
   "metadata": {},
   "outputs": [
    {
     "name": "stdout",
     "output_type": "stream",
     "text": [
      "np.concatenate([a, b])\n",
      "[1 2 3 4 5 6]\n",
      "[1 2 3 4 5 6]\n"
     ]
    }
   ],
   "source": [
    "# concatenate\n",
    "a = np.array([1, 2, 3])\n",
    "b = np.array([4, 5, 6])\n",
    "print(\"np.concatenate([a, b])\")\n",
    "print(f\"{np.concatenate([a, b])}\")  # ndim = 1\n",
    "print(f\"{np.concatenate([a, b], axis=0)}\")  # ndim = 1"
   ]
  },
  {
   "cell_type": "code",
   "execution_count": 120,
   "id": "6a6ad552-67b5-4b77-8832-3595f218863a",
   "metadata": {},
   "outputs": [
    {
     "name": "stdout",
     "output_type": "stream",
     "text": [
      "Must reshape to 2 ndim array to concatenate by axis=0\n",
      "method 1: reshape\n",
      "[[1 2 3]\n",
      " [4 5 6]]\n",
      "method 2: np.newaxis\n",
      "[[1 2 3]\n",
      " [4 5 6]]\n"
     ]
    }
   ],
   "source": [
    "print(\"Must reshape to 2 ndim array to concatenate by axis=0\")\n",
    "print(\"method 1: reshape\")\n",
    "print(f\"{np.concatenate([a.reshape(1, 3), b.reshape(1, 3)], axis=0)}\")\n",
    "print(\"method 2: np.newaxis\")\n",
    "print(f\"{np.concatenate([a[np.newaxis, :], b[np.newaxis, :]], axis=0)}\")"
   ]
  },
  {
   "cell_type": "code",
   "execution_count": 123,
   "id": "ce150844-2254-4a81-9021-7dd3907a9507",
   "metadata": {},
   "outputs": [
    {
     "data": {
      "text/plain": [
       "array([[1, 2, 3],\n",
       "       [4, 5, 6]])"
      ]
     },
     "execution_count": 123,
     "metadata": {},
     "output_type": "execute_result"
    }
   ],
   "source": [
    "np.vstack([a, b])"
   ]
  },
  {
   "cell_type": "code",
   "execution_count": 124,
   "id": "6d8920c7-ef5a-4fce-87d4-bf8eca6ef28d",
   "metadata": {},
   "outputs": [
    {
     "data": {
      "text/plain": [
       "array([1, 2, 3, 4, 5, 6])"
      ]
     },
     "execution_count": 124,
     "metadata": {},
     "output_type": "execute_result"
    }
   ],
   "source": [
    "np.hstack([a, b])"
   ]
  }
 ],
 "metadata": {
  "kernelspec": {
   "display_name": "Python 3.10.4 ('aiffel2022-0SDAWiwa')",
   "language": "python",
   "name": "python3"
  },
  "language_info": {
   "codemirror_mode": {
    "name": "ipython",
    "version": 3
   },
   "file_extension": ".py",
   "mimetype": "text/x-python",
   "name": "python",
   "nbconvert_exporter": "python",
   "pygments_lexer": "ipython3",
   "version": "3.10.4"
  },
  "vscode": {
   "interpreter": {
    "hash": "d1a1b9479b242366efcd00035e60f2e24dbc2c54df35946856cbb4607e74fc36"
   }
  }
 },
 "nbformat": 4,
 "nbformat_minor": 5
}
