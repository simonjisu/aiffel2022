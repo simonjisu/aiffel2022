{
 "cells": [
  {
   "cell_type": "markdown",
   "id": "4beaaf7f",
   "metadata": {},
   "source": [
    "# Python"
   ]
  },
  {
   "cell_type": "markdown",
   "id": "5545a27b-a4f1-4cbb-a740-2f7ae6d714e1",
   "metadata": {},
   "source": [
    "## Don't Afraid Errors\n",
    "\n",
    "When error happens, first read the error. Most errors occurs by just a simple mistake."
   ]
  },
  {
   "cell_type": "code",
   "execution_count": 1,
   "id": "86fbbd68-e184-4779-a47a-c3a116cbb7e7",
   "metadata": {},
   "outputs": [
    {
     "ename": "NameError",
     "evalue": "name 'mv_number' is not defined",
     "output_type": "error",
     "traceback": [
      "\u001b[1;31m---------------------------------------------------------------------------\u001b[0m",
      "\u001b[1;31mNameError\u001b[0m                                 Traceback (most recent call last)",
      "\u001b[1;32m<ipython-input-1-570e7786dcf5>\u001b[0m in \u001b[0;36m<module>\u001b[1;34m\u001b[0m\n\u001b[0;32m      1\u001b[0m \u001b[0mmy_number\u001b[0m \u001b[1;33m=\u001b[0m \u001b[1;36m94123583\u001b[0m\u001b[1;33m\u001b[0m\u001b[1;33m\u001b[0m\u001b[0m\n\u001b[1;32m----> 2\u001b[1;33m \u001b[0mmv_number\u001b[0m\u001b[1;33m\u001b[0m\u001b[1;33m\u001b[0m\u001b[0m\n\u001b[0m",
      "\u001b[1;31mNameError\u001b[0m: name 'mv_number' is not defined"
     ]
    }
   ],
   "source": [
    "my_number = 94123583\n",
    "mv_number"
   ]
  },
  {
   "cell_type": "code",
   "execution_count": 2,
   "id": "379173c7-b006-4269-a459-5294488b5c1f",
   "metadata": {},
   "outputs": [
    {
     "ename": "SyntaxError",
     "evalue": "invalid syntax (<ipython-input-2-2b688bc740d7>, line 1)",
     "output_type": "error",
     "traceback": [
      "\u001b[1;36m  File \u001b[1;32m\"<ipython-input-2-2b688bc740d7>\"\u001b[1;36m, line \u001b[1;32m1\u001b[0m\n\u001b[1;33m    while True print('Hello world')\u001b[0m\n\u001b[1;37m               ^\u001b[0m\n\u001b[1;31mSyntaxError\u001b[0m\u001b[1;31m:\u001b[0m invalid syntax\n"
     ]
    }
   ],
   "source": [
    "while True print('Hello world')"
   ]
  },
  {
   "cell_type": "markdown",
   "id": "ba03660a-0b1d-45cc-9f0e-3302d60b6a79",
   "metadata": {},
   "source": [
    "\n",
    "If you don't know what error it it, you can find solutions in Internet:\n",
    "\n",
    "1. Google & StackOverflow\n",
    "2. Official Document\n",
    "\n",
    "Or you can excute your code line by line"
   ]
  },
  {
   "cell_type": "markdown",
   "id": "4b554654",
   "metadata": {},
   "source": [
    "## Vairable Assignment"
   ]
  },
  {
   "cell_type": "code",
   "execution_count": 3,
   "id": "438929c6",
   "metadata": {},
   "outputs": [
    {
     "name": "stdout",
     "output_type": "stream",
     "text": [
      "1 2 3 4\n"
     ]
    }
   ],
   "source": [
    "a = 1 \n",
    "b = 2\n",
    "c = a + 2\n",
    "d = b + 2   \n",
    "\n",
    "print(a, b, c, d)"
   ]
  },
  {
   "cell_type": "markdown",
   "id": "e75ce6a6",
   "metadata": {},
   "source": [
    "\n",
    "## Operators"
   ]
  },
  {
   "cell_type": "markdown",
   "id": "508920e0",
   "metadata": {},
   "source": [
    "Operators: `+`, `-`, `*`, `/`, `%`, `//`, `**`"
   ]
  },
  {
   "cell_type": "code",
   "execution_count": 4,
   "id": "b281191f",
   "metadata": {},
   "outputs": [
    {
     "data": {
      "text/plain": [
       "4"
      ]
     },
     "execution_count": 4,
     "metadata": {},
     "output_type": "execute_result"
    }
   ],
   "source": [
    "# plus\n",
    "1 + 3"
   ]
  },
  {
   "cell_type": "code",
   "execution_count": 5,
   "id": "26413e6c",
   "metadata": {},
   "outputs": [
    {
     "data": {
      "text/plain": [
       "2"
      ]
     },
     "execution_count": 5,
     "metadata": {},
     "output_type": "execute_result"
    }
   ],
   "source": [
    "# minus\n",
    "3 - 1"
   ]
  },
  {
   "cell_type": "code",
   "execution_count": 6,
   "id": "359c0472",
   "metadata": {},
   "outputs": [
    {
     "data": {
      "text/plain": [
       "12"
      ]
     },
     "execution_count": 6,
     "metadata": {},
     "output_type": "execute_result"
    }
   ],
   "source": [
    "# multiplication\n",
    "3 * 4"
   ]
  },
  {
   "cell_type": "code",
   "execution_count": 7,
   "id": "a07d5a14",
   "metadata": {},
   "outputs": [
    {
     "data": {
      "text/plain": [
       "0.75"
      ]
     },
     "execution_count": 7,
     "metadata": {},
     "output_type": "execute_result"
    }
   ],
   "source": [
    "# devision\n",
    "3 / 4"
   ]
  },
  {
   "cell_type": "code",
   "execution_count": 8,
   "id": "058a15a3",
   "metadata": {},
   "outputs": [
    {
     "data": {
      "text/plain": [
       "7"
      ]
     },
     "execution_count": 8,
     "metadata": {},
     "output_type": "execute_result"
    }
   ],
   "source": [
    "# quotient\n",
    "43 // 6"
   ]
  },
  {
   "cell_type": "code",
   "execution_count": 9,
   "id": "bd86b449",
   "metadata": {},
   "outputs": [
    {
     "data": {
      "text/plain": [
       "1"
      ]
     },
     "execution_count": 9,
     "metadata": {},
     "output_type": "execute_result"
    }
   ],
   "source": [
    "# Remainder, Mod\n",
    "43 % 6"
   ]
  },
  {
   "cell_type": "markdown",
   "id": "8ade62a5",
   "metadata": {},
   "source": [
    "## Types\n",
    "\n",
    "- Integer\n",
    "- Floating point\n",
    "- Boolean\n",
    "- String\n",
    "- NoneType\n",
    "- Tuple\n",
    "- List\n",
    "- Set\n",
    "- Dictionary\n"
   ]
  },
  {
   "cell_type": "markdown",
   "id": "7904dd21",
   "metadata": {},
   "source": [
    "### String"
   ]
  },
  {
   "cell_type": "code",
   "execution_count": 10,
   "id": "f2124051",
   "metadata": {},
   "outputs": [
    {
     "data": {
      "text/plain": [
       "(str, str)"
      ]
     },
     "execution_count": 10,
     "metadata": {},
     "output_type": "execute_result"
    }
   ],
   "source": [
    "# two types of declaring a string\n",
    "type(\"abc\"), type('abc')"
   ]
  },
  {
   "cell_type": "code",
   "execution_count": 11,
   "id": "3563b61b",
   "metadata": {},
   "outputs": [
    {
     "name": "stdout",
     "output_type": "stream",
     "text": [
      "I said 'hi' at that moment.\n",
      "I said 'hi' at that moment.\n"
     ]
    }
   ],
   "source": [
    "# if you want to use ' letter in the string use \", vice versea / or add \\(escape letter) with '\n",
    "print(\"I said 'hi' at that moment.\")\n",
    "print('I said \\'hi\\' at that moment.')"
   ]
  },
  {
   "cell_type": "code",
   "execution_count": 12,
   "id": "714bd9a1",
   "metadata": {},
   "outputs": [
    {
     "data": {
      "text/plain": [
       "'hello'"
      ]
     },
     "execution_count": 12,
     "metadata": {},
     "output_type": "execute_result"
    }
   ],
   "source": [
    "# can add two strings\n",
    "\"he\" + \"llo\""
   ]
  },
  {
   "cell_type": "code",
   "execution_count": 13,
   "id": "d8b76cb3",
   "metadata": {},
   "outputs": [
    {
     "data": {
      "text/plain": [
       "7"
      ]
     },
     "execution_count": 13,
     "metadata": {},
     "output_type": "execute_result"
    }
   ],
   "source": [
    "# can calculate length of string\n",
    "len(\"abcdefg\")"
   ]
  },
  {
   "cell_type": "code",
   "execution_count": 14,
   "id": "2e699036",
   "metadata": {},
   "outputs": [
    {
     "data": {
      "text/plain": [
       "'abc def'"
      ]
     },
     "execution_count": 14,
     "metadata": {},
     "output_type": "execute_result"
    }
   ],
   "source": [
    "# can use `strip` to remove some parts on the left&right side of string, like newline letter `\\n`\n",
    "\"abc def\\n\".strip('\\n')"
   ]
  },
  {
   "cell_type": "code",
   "execution_count": 15,
   "id": "a5fb56d0",
   "metadata": {},
   "outputs": [
    {
     "data": {
      "text/plain": [
       "['abc', ' def']"
      ]
     },
     "execution_count": 15,
     "metadata": {},
     "output_type": "execute_result"
    }
   ],
   "source": [
    "# can use `split` split the string\n",
    "\"abc, def\".split(\",\")"
   ]
  },
  {
   "cell_type": "code",
   "execution_count": 16,
   "id": "15fd0b72",
   "metadata": {},
   "outputs": [
    {
     "name": "stdout",
     "output_type": "stream",
     "text": [
      "Integer\n",
      "034\n",
      "034\n",
      "-----\n",
      "Floating Point\n",
      "34.5100\n",
      "34.5100\n"
     ]
    }
   ],
   "source": [
    "# format string: when you want to use a certain format for a variable\n",
    "# add 'f' letter in the front of astring / use `.format` method at the back of a string\n",
    "# 정수 = d\n",
    "x = 34\n",
    "print(\"Integer\")\n",
    "print(f\"{x:03d}\")\n",
    "print(\"{:03d}\".format(x))\n",
    "print(\"-----\")\n",
    "# 소수점 4자리 = .4f\n",
    "x = 34.51\n",
    "print(\"Floating Point\")\n",
    "print(f\"{x:.4f}\")\n",
    "print(\"{:.4f}\".format(x))"
   ]
  },
  {
   "cell_type": "markdown",
   "id": "8d0e98db",
   "metadata": {},
   "source": [
    "### Integer"
   ]
  },
  {
   "cell_type": "code",
   "execution_count": 17,
   "id": "1a1e30ef",
   "metadata": {},
   "outputs": [
    {
     "data": {
      "text/plain": [
       "int"
      ]
     },
     "execution_count": 17,
     "metadata": {},
     "output_type": "execute_result"
    }
   ],
   "source": [
    "type(1)"
   ]
  },
  {
   "cell_type": "code",
   "execution_count": 18,
   "id": "b9c597c8",
   "metadata": {},
   "outputs": [
    {
     "data": {
      "text/plain": [
       "'1'"
      ]
     },
     "execution_count": 18,
     "metadata": {},
     "output_type": "execute_result"
    }
   ],
   "source": [
    "# type change\n",
    "x = 1\n",
    "str(x)"
   ]
  },
  {
   "cell_type": "markdown",
   "id": "be50020b",
   "metadata": {},
   "source": [
    "### Floating Point"
   ]
  },
  {
   "cell_type": "code",
   "execution_count": 19,
   "id": "a6343169",
   "metadata": {},
   "outputs": [
    {
     "data": {
      "text/plain": [
       "float"
      ]
     },
     "execution_count": 19,
     "metadata": {},
     "output_type": "execute_result"
    }
   ],
   "source": [
    "type(3.4)"
   ]
  },
  {
   "cell_type": "code",
   "execution_count": 20,
   "id": "b811f60c",
   "metadata": {},
   "outputs": [
    {
     "data": {
      "text/plain": [
       "(inf, -inf)"
      ]
     },
     "execution_count": 20,
     "metadata": {},
     "output_type": "execute_result"
    }
   ],
   "source": [
    "# declare infinity\n",
    "float(\"inf\"), float(\"-inf\")"
   ]
  },
  {
   "cell_type": "code",
   "execution_count": 21,
   "id": "17b3d493",
   "metadata": {},
   "outputs": [
    {
     "data": {
      "text/plain": [
       "0.8823529411764706"
      ]
     },
     "execution_count": 21,
     "metadata": {},
     "output_type": "execute_result"
    }
   ],
   "source": [
    "# from python3, interger will be automatically transfter to float type\n",
    "3 / 3.4"
   ]
  },
  {
   "cell_type": "markdown",
   "id": "04348388",
   "metadata": {},
   "source": [
    "### Boolean\n",
    "\n",
    "`True` 와 `False`가 있음"
   ]
  },
  {
   "cell_type": "code",
   "execution_count": 22,
   "id": "ab838959",
   "metadata": {},
   "outputs": [
    {
     "data": {
      "text/plain": [
       "(bool, bool)"
      ]
     },
     "execution_count": 22,
     "metadata": {},
     "output_type": "execute_result"
    }
   ],
   "source": [
    "type(True), type(False)"
   ]
  },
  {
   "cell_type": "markdown",
   "id": "00179c65",
   "metadata": {},
   "source": [
    "### None"
   ]
  },
  {
   "cell_type": "code",
   "execution_count": 23,
   "id": "1ed7147b",
   "metadata": {},
   "outputs": [
    {
     "data": {
      "text/plain": [
       "NoneType"
      ]
     },
     "execution_count": 23,
     "metadata": {},
     "output_type": "execute_result"
    }
   ],
   "source": [
    "type(None)"
   ]
  },
  {
   "cell_type": "markdown",
   "id": "66b49cae",
   "metadata": {},
   "source": [
    "### Tuple\n",
    "\n",
    "* 순서가 있는 데이터를 담는 자료구조\n",
    "* 특징: immutable(한 번 생성하면 데이터를 바꿀 수 없음), ordered, iterable, subscriptable"
   ]
  },
  {
   "cell_type": "code",
   "execution_count": 24,
   "id": "800e6445",
   "metadata": {},
   "outputs": [
    {
     "data": {
      "text/plain": [
       "int"
      ]
     },
     "execution_count": 24,
     "metadata": {},
     "output_type": "execute_result"
    }
   ],
   "source": [
    "x_tuple = (1, 2, 3)\n",
    "type(x)"
   ]
  },
  {
   "cell_type": "code",
   "execution_count": 25,
   "id": "a92e54e0",
   "metadata": {},
   "outputs": [
    {
     "ename": "TypeError",
     "evalue": "'tuple' object does not support item assignment",
     "output_type": "error",
     "traceback": [
      "\u001b[1;31m---------------------------------------------------------------------------\u001b[0m",
      "\u001b[1;31mTypeError\u001b[0m                                 Traceback (most recent call last)",
      "\u001b[1;32m<ipython-input-25-2c028fb7b40c>\u001b[0m in \u001b[0;36m<module>\u001b[1;34m\u001b[0m\n\u001b[0;32m      1\u001b[0m \u001b[1;31m# `tuple` is immutable data structure\u001b[0m\u001b[1;33m\u001b[0m\u001b[1;33m\u001b[0m\u001b[1;33m\u001b[0m\u001b[0m\n\u001b[1;32m----> 2\u001b[1;33m \u001b[0mx_tuple\u001b[0m\u001b[1;33m[\u001b[0m\u001b[1;36m2\u001b[0m\u001b[1;33m]\u001b[0m \u001b[1;33m=\u001b[0m \u001b[1;36m4\u001b[0m\u001b[1;33m\u001b[0m\u001b[1;33m\u001b[0m\u001b[0m\n\u001b[0m",
      "\u001b[1;31mTypeError\u001b[0m: 'tuple' object does not support item assignment"
     ]
    }
   ],
   "source": [
    "# `tuple` is immutable data structure\n",
    "x_tuple[2] = 4"
   ]
  },
  {
   "cell_type": "code",
   "execution_count": 26,
   "id": "b96fb639",
   "metadata": {},
   "outputs": [
    {
     "data": {
      "text/plain": [
       "3"
      ]
     },
     "execution_count": 26,
     "metadata": {},
     "output_type": "execute_result"
    }
   ],
   "source": [
    "# using len function to get the length of `tuple`\n",
    "len(x_tuple)"
   ]
  },
  {
   "cell_type": "markdown",
   "id": "f3a59b76",
   "metadata": {},
   "source": [
    "### List\n",
    "\n",
    "* 순서가 있는 데이터를 담는 자료구조\n",
    "* 특징: mutable(생성 후에도 데이터를 바꿀 수 있음), ordered, iterable, subscriptable"
   ]
  },
  {
   "cell_type": "code",
   "execution_count": 27,
   "id": "915b1387",
   "metadata": {},
   "outputs": [
    {
     "data": {
      "text/plain": [
       "list"
      ]
     },
     "execution_count": 27,
     "metadata": {},
     "output_type": "execute_result"
    }
   ],
   "source": [
    "x_list = [1, 2, 3]\n",
    "type(x_list)"
   ]
  },
  {
   "cell_type": "code",
   "execution_count": 28,
   "id": "149beb4d",
   "metadata": {},
   "outputs": [
    {
     "name": "stdout",
     "output_type": "stream",
     "text": [
      "[1, 2, 3, 4]\n",
      "[1, 2, 3]\n"
     ]
    }
   ],
   "source": [
    "# add new element at end of list\n",
    "x_list.append(4)\n",
    "print(x_list)\n",
    "# remove a certain index in the list\n",
    "x_list.remove(4)\n",
    "print(x_list)"
   ]
  },
  {
   "cell_type": "code",
   "execution_count": 29,
   "id": "f99a8dc6",
   "metadata": {},
   "outputs": [
    {
     "data": {
      "text/plain": [
       "True"
      ]
     },
     "execution_count": 29,
     "metadata": {},
     "output_type": "execute_result"
    }
   ],
   "source": [
    "# check if an element is in a list\n",
    "4 in [1, 2, 3, 4]"
   ]
  },
  {
   "cell_type": "code",
   "execution_count": 30,
   "id": "73610de8",
   "metadata": {},
   "outputs": [
    {
     "data": {
      "text/plain": [
       "[3, 3, 3, 3, 3, 3, 3, 3, 3, 3, 3, 3, 3, 3, 3, 3, 3, 3, 3, 3]"
      ]
     },
     "execution_count": 30,
     "metadata": {},
     "output_type": "execute_result"
    }
   ],
   "source": [
    "# create a list with duplicated numbers\n",
    "[3] * 20"
   ]
  },
  {
   "cell_type": "code",
   "execution_count": 31,
   "id": "56ecb1f2",
   "metadata": {},
   "outputs": [
    {
     "data": {
      "text/plain": [
       "[1, 2, 5]"
      ]
     },
     "execution_count": 31,
     "metadata": {},
     "output_type": "execute_result"
    }
   ],
   "source": [
    "# `list` is mutable data structure\n",
    "x_list[2] = 5\n",
    "x_list"
   ]
  },
  {
   "cell_type": "code",
   "execution_count": 32,
   "id": "9c407c54",
   "metadata": {},
   "outputs": [
    {
     "data": {
      "text/plain": [
       "3"
      ]
     },
     "execution_count": 32,
     "metadata": {},
     "output_type": "execute_result"
    }
   ],
   "source": [
    "# using len function to get the length of `list`\n",
    "len(x_list)"
   ]
  },
  {
   "cell_type": "markdown",
   "id": "fb99a508",
   "metadata": {},
   "source": [
    "Python에서 index는 0부터 시작한다"
   ]
  },
  {
   "cell_type": "code",
   "execution_count": 33,
   "id": "97aa307c",
   "metadata": {},
   "outputs": [
    {
     "data": {
      "text/plain": [
       "[2, 3, 4, 5]"
      ]
     },
     "execution_count": 33,
     "metadata": {},
     "output_type": "execute_result"
    }
   ],
   "source": [
    "x_list = [1, 2, 3, 4, 5, 6]\n",
    "# slice index from 1 ~ 4 \n",
    "#      1  2  3  4\n",
    "#  [1, 2, 3, 4, 5, 6]\n",
    "x_list[1:5]"
   ]
  },
  {
   "cell_type": "code",
   "execution_count": 34,
   "id": "3aa43f78",
   "metadata": {},
   "outputs": [
    {
     "data": {
      "text/plain": [
       "[1, 2, 3]"
      ]
     },
     "execution_count": 34,
     "metadata": {},
     "output_type": "execute_result"
    }
   ],
   "source": [
    "# slice index from begining ~ 2 \n",
    "#   0  1  2\n",
    "#  [1, 2, 3, 4, 5, 6]\n",
    "x_list[:3]"
   ]
  },
  {
   "cell_type": "code",
   "execution_count": 35,
   "id": "254bb06f",
   "metadata": {},
   "outputs": [
    {
     "data": {
      "text/plain": [
       "[5, 6]"
      ]
     },
     "execution_count": 35,
     "metadata": {},
     "output_type": "execute_result"
    }
   ],
   "source": [
    "# slice index from behind\n",
    "#              -2  -1\n",
    "#  [1, 2, 3, 4, 5, 6]\n",
    "x_list[-2:]"
   ]
  },
  {
   "cell_type": "code",
   "execution_count": 36,
   "id": "e8f3d1fd",
   "metadata": {},
   "outputs": [
    {
     "data": {
      "text/plain": [
       "[1, 3, 5]"
      ]
     },
     "execution_count": 36,
     "metadata": {},
     "output_type": "execute_result"
    }
   ],
   "source": [
    "# slice even index(0, 2, 4)\n",
    "#   0     2     4 \n",
    "#  [1, 2, 3, 4, 5, 6]\n",
    "x_list[0:6:2]"
   ]
  },
  {
   "cell_type": "code",
   "execution_count": 37,
   "id": "555a3ed8",
   "metadata": {},
   "outputs": [
    {
     "name": "stdout",
     "output_type": "stream",
     "text": [
      "Memory size of `x_tuple`: 64 bytes\n",
      "Memory size of `x_list`: 104 bytes\n"
     ]
    }
   ],
   "source": [
    "# tuple VS list\n",
    "import sys\n",
    "print(f\"Memory size of `x_tuple`: {sys.getsizeof(x_tuple)} bytes\")\n",
    "print(f\"Memory size of `x_list`: {sys.getsizeof(x_list)} bytes\")"
   ]
  },
  {
   "cell_type": "code",
   "execution_count": 38,
   "id": "7fae85ba",
   "metadata": {},
   "outputs": [
    {
     "name": "stdout",
     "output_type": "stream",
     "text": [
      "860 ns ± 47.5 ns per loop (mean ± std. dev. of 7 runs, 1000000 loops each)\n"
     ]
    }
   ],
   "source": [
    "%%timeit\n",
    "\n",
    "# list comprehension: Faster way to create list\n",
    "data = []\n",
    "for i in range(10):\n",
    "    data.append(i)"
   ]
  },
  {
   "cell_type": "code",
   "execution_count": 39,
   "id": "f640bcd2",
   "metadata": {},
   "outputs": [
    {
     "name": "stdout",
     "output_type": "stream",
     "text": [
      "601 ns ± 13.2 ns per loop (mean ± std. dev. of 7 runs, 1000000 loops each)\n"
     ]
    }
   ],
   "source": [
    "%%timeit\n",
    "\n",
    "data = [i for i in range(10)]"
   ]
  },
  {
   "cell_type": "code",
   "execution_count": 40,
   "id": "4d63429f-7e72-45d4-8d0a-841905b32d3b",
   "metadata": {},
   "outputs": [
    {
     "name": "stdout",
     "output_type": "stream",
     "text": [
      "('img1', 'img2', 'img3')\n",
      "(0, 1, 0)\n"
     ]
    }
   ],
   "source": [
    "# useful combination: list + zip\n",
    "data_and_label = [\n",
    "    ('img1', 0), \n",
    "    ('img2', 1), \n",
    "    ('img3', 0)\n",
    "]\n",
    "\n",
    "# if we want to collect data and label seperately\n",
    "data, label = list(zip(*data_and_label))\n",
    "print(data)\n",
    "print(label)"
   ]
  },
  {
   "cell_type": "code",
   "execution_count": 41,
   "id": "373a496d-df44-4728-91cf-328ce9093657",
   "metadata": {},
   "outputs": [
    {
     "name": "stdout",
     "output_type": "stream",
     "text": [
      "result: [2, 3, 4]\n",
      "result using map: [2, 3, 4]\n"
     ]
    }
   ],
   "source": [
    "# useful combination: list + map \n",
    "\n",
    "# lambda: single line function\n",
    "lambda_func = lambda x: x + 1\n",
    "li = [1, 2, 3]\n",
    "\n",
    "# todo\n",
    "result = []\n",
    "for i in li:\n",
    "    result.append(lambda_func(i))\n",
    "\n",
    "# use map function\n",
    "result_map = list(map(lambda_func, li))\n",
    "\n",
    "print(f\"result: {result}\")\n",
    "print(f\"result using map: {result_map}\")"
   ]
  },
  {
   "cell_type": "markdown",
   "id": "3bd97b35",
   "metadata": {},
   "source": [
    "### Set\n",
    "\n",
    "* 정렬되지 않고(unordered, not after python3.6) 고유한(distinct) 데이터으로 이루어진 자료 구조\n",
    "* 특징: mutable, unordered(not after python3.6), iterable"
   ]
  },
  {
   "cell_type": "code",
   "execution_count": 42,
   "id": "4766a020",
   "metadata": {},
   "outputs": [
    {
     "data": {
      "text/plain": [
       "set"
      ]
     },
     "execution_count": 42,
     "metadata": {},
     "output_type": "execute_result"
    }
   ],
   "source": [
    "x_set = {5, 2, 3}\n",
    "type(x_set)"
   ]
  },
  {
   "cell_type": "code",
   "execution_count": 43,
   "id": "3f7bfbfb",
   "metadata": {},
   "outputs": [
    {
     "ename": "TypeError",
     "evalue": "'set' object does not support item assignment",
     "output_type": "error",
     "traceback": [
      "\u001b[1;31m---------------------------------------------------------------------------\u001b[0m",
      "\u001b[1;31mTypeError\u001b[0m                                 Traceback (most recent call last)",
      "\u001b[1;32m<ipython-input-43-bea5fa590766>\u001b[0m in \u001b[0;36m<module>\u001b[1;34m\u001b[0m\n\u001b[0;32m      1\u001b[0m \u001b[1;31m# `set` is immutable data structure\u001b[0m\u001b[1;33m\u001b[0m\u001b[1;33m\u001b[0m\u001b[1;33m\u001b[0m\u001b[0m\n\u001b[1;32m----> 2\u001b[1;33m \u001b[0mx_set\u001b[0m\u001b[1;33m[\u001b[0m\u001b[1;36m2\u001b[0m\u001b[1;33m]\u001b[0m \u001b[1;33m=\u001b[0m \u001b[1;36m4\u001b[0m\u001b[1;33m\u001b[0m\u001b[1;33m\u001b[0m\u001b[0m\n\u001b[0m",
      "\u001b[1;31mTypeError\u001b[0m: 'set' object does not support item assignment"
     ]
    }
   ],
   "source": [
    "# `set` is immutable data structure\n",
    "x_set[2] = 4"
   ]
  },
  {
   "cell_type": "code",
   "execution_count": 44,
   "id": "1548ea0f",
   "metadata": {},
   "outputs": [
    {
     "data": {
      "text/plain": [
       "3"
      ]
     },
     "execution_count": 44,
     "metadata": {},
     "output_type": "execute_result"
    }
   ],
   "source": [
    "# using len function to get the length of `set`\n",
    "len(x_set)"
   ]
  },
  {
   "cell_type": "markdown",
   "id": "d6ba0594",
   "metadata": {},
   "source": [
    "### Dictionary\n",
    "\n",
    "* 중복되지 않는 key와 value 쌍을 데이터로 가진 정렬되지 않은(unordered) 변경가능한(mutable) 자료구조\n",
    "* 특징: mutable, unordered(python3.6, not after python3.6), iterable"
   ]
  },
  {
   "cell_type": "code",
   "execution_count": 45,
   "id": "a57266cc",
   "metadata": {},
   "outputs": [
    {
     "data": {
      "text/plain": [
       "dict"
      ]
     },
     "execution_count": 45,
     "metadata": {},
     "output_type": "execute_result"
    }
   ],
   "source": [
    "x_dict = {\"a\": 1, \"b\": 2}\n",
    "type(x_dict)"
   ]
  },
  {
   "cell_type": "code",
   "execution_count": 46,
   "id": "3569cbec",
   "metadata": {},
   "outputs": [
    {
     "data": {
      "text/plain": [
       "{'a': 1, 'b': 2, 'c': 3}"
      ]
     },
     "execution_count": 46,
     "metadata": {},
     "output_type": "execute_result"
    }
   ],
   "source": [
    "# add a new key-value pair\n",
    "x_dict[\"c\"] = 3\n",
    "x_dict"
   ]
  },
  {
   "cell_type": "code",
   "execution_count": 47,
   "id": "a2f1dd86",
   "metadata": {},
   "outputs": [
    {
     "name": "stdout",
     "output_type": "stream",
     "text": [
      "1\n",
      "None\n"
     ]
    }
   ],
   "source": [
    "# can get dictionary value by using get method\n",
    "# if there is nothing with a certain key it will return `None` value\n",
    "print(x_dict.get(\"a\"))\n",
    "print(x_dict.get(\"d\"))"
   ]
  },
  {
   "cell_type": "code",
   "execution_count": 48,
   "id": "bee96271",
   "metadata": {},
   "outputs": [
    {
     "name": "stdout",
     "output_type": "stream",
     "text": [
      "2\n"
     ]
    },
    {
     "ename": "KeyError",
     "evalue": "'d'",
     "output_type": "error",
     "traceback": [
      "\u001b[1;31m---------------------------------------------------------------------------\u001b[0m",
      "\u001b[1;31mKeyError\u001b[0m                                  Traceback (most recent call last)",
      "\u001b[1;32m<ipython-input-48-7ca1dd1fd55e>\u001b[0m in \u001b[0;36m<module>\u001b[1;34m\u001b[0m\n\u001b[0;32m      2\u001b[0m \u001b[1;31m# if there is nothing with a certain key it will return KeyError\u001b[0m\u001b[1;33m\u001b[0m\u001b[1;33m\u001b[0m\u001b[1;33m\u001b[0m\u001b[0m\n\u001b[0;32m      3\u001b[0m \u001b[0mprint\u001b[0m\u001b[1;33m(\u001b[0m\u001b[0mx_dict\u001b[0m\u001b[1;33m[\u001b[0m\u001b[1;34m\"b\"\u001b[0m\u001b[1;33m]\u001b[0m\u001b[1;33m)\u001b[0m\u001b[1;33m\u001b[0m\u001b[1;33m\u001b[0m\u001b[0m\n\u001b[1;32m----> 4\u001b[1;33m \u001b[0mx_dict\u001b[0m\u001b[1;33m[\u001b[0m\u001b[1;34m\"d\"\u001b[0m\u001b[1;33m]\u001b[0m\u001b[1;33m\u001b[0m\u001b[1;33m\u001b[0m\u001b[0m\n\u001b[0m",
      "\u001b[1;31mKeyError\u001b[0m: 'd'"
     ]
    }
   ],
   "source": [
    "# can insert key into '[]' to get dictionary value\n",
    "# if there is nothing with a certain key it will return KeyError\n",
    "print(x_dict[\"b\"])\n",
    "x_dict[\"d\"]"
   ]
  },
  {
   "cell_type": "code",
   "execution_count": 49,
   "id": "6e51f544",
   "metadata": {},
   "outputs": [
    {
     "data": {
      "text/plain": [
       "dict_keys(['a', 'b', 'c'])"
      ]
     },
     "execution_count": 49,
     "metadata": {},
     "output_type": "execute_result"
    }
   ],
   "source": [
    "x_dict.keys()"
   ]
  },
  {
   "cell_type": "code",
   "execution_count": 50,
   "id": "6c8b3ac0",
   "metadata": {},
   "outputs": [
    {
     "data": {
      "text/plain": [
       "dict_values([1, 2, 3])"
      ]
     },
     "execution_count": 50,
     "metadata": {},
     "output_type": "execute_result"
    }
   ],
   "source": [
    "x_dict.values()"
   ]
  },
  {
   "cell_type": "code",
   "execution_count": 51,
   "id": "8f1a24cc",
   "metadata": {},
   "outputs": [
    {
     "data": {
      "text/plain": [
       "dict_items([('a', 1), ('b', 2), ('c', 3)])"
      ]
     },
     "execution_count": 51,
     "metadata": {},
     "output_type": "execute_result"
    }
   ],
   "source": [
    "x_dict.items()"
   ]
  },
  {
   "cell_type": "markdown",
   "id": "3f98f722",
   "metadata": {},
   "source": [
    "---"
   ]
  },
  {
   "cell_type": "markdown",
   "id": "62d04091",
   "metadata": {},
   "source": [
    "## Useful Operations\n",
    "\n",
    "* Logical operation\n",
    "* Relation operation\n",
    "* If\n",
    "* Iterator for & while"
   ]
  },
  {
   "cell_type": "markdown",
   "id": "bae3224e",
   "metadata": {},
   "source": [
    "### Logical operation\n",
    "\n",
    "**AND**: `A and B`\n",
    "\n",
    "|A|B|Result|\n",
    "|---|---|---|\n",
    "|True|True|True|\n",
    "|True|False|False|\n",
    "|False|True|False|\n",
    "|False|False|False|\n",
    "\n",
    "**OR**: `A or B`\n",
    "\n",
    "|A|B|Result|\n",
    "|---|---|---|\n",
    "|True|True|True|\n",
    "|True|False|True|\n",
    "|False|True|True|\n",
    "|False|False|False|\n",
    "\n",
    "**NOT**: `not A`\n",
    "\n",
    "|A|Result|\n",
    "|---|---|\n",
    "|True|False|\n",
    "|False|True|"
   ]
  },
  {
   "cell_type": "code",
   "execution_count": 52,
   "id": "8558e2bd",
   "metadata": {},
   "outputs": [
    {
     "data": {
      "text/plain": [
       "0"
      ]
     },
     "execution_count": 52,
     "metadata": {},
     "output_type": "execute_result"
    }
   ],
   "source": [
    "# In Python `1=True`, `0=False`\n",
    "1 and 0"
   ]
  },
  {
   "cell_type": "code",
   "execution_count": 53,
   "id": "80759e37",
   "metadata": {},
   "outputs": [
    {
     "data": {
      "text/plain": [
       "True"
      ]
     },
     "execution_count": 53,
     "metadata": {},
     "output_type": "execute_result"
    }
   ],
   "source": [
    "True or False"
   ]
  },
  {
   "cell_type": "code",
   "execution_count": 54,
   "id": "eab4df2a",
   "metadata": {},
   "outputs": [
    {
     "data": {
      "text/plain": [
       "False"
      ]
     },
     "execution_count": 54,
     "metadata": {},
     "output_type": "execute_result"
    }
   ],
   "source": [
    "not True"
   ]
  },
  {
   "cell_type": "markdown",
   "id": "8823acd9",
   "metadata": {},
   "source": [
    "### Relation operations\n",
    "\n",
    "* `>`, `<`, `>=`, `<=`, `==`, `!=` \n",
    "* `is`"
   ]
  },
  {
   "cell_type": "code",
   "execution_count": 55,
   "id": "d236b8ec",
   "metadata": {},
   "outputs": [
    {
     "data": {
      "text/plain": [
       "False"
      ]
     },
     "execution_count": 55,
     "metadata": {},
     "output_type": "execute_result"
    }
   ],
   "source": [
    "213 == 3"
   ]
  },
  {
   "cell_type": "code",
   "execution_count": 56,
   "id": "0afd6cfa",
   "metadata": {},
   "outputs": [
    {
     "data": {
      "text/plain": [
       "False"
      ]
     },
     "execution_count": 56,
     "metadata": {},
     "output_type": "execute_result"
    }
   ],
   "source": [
    "2 != 2"
   ]
  },
  {
   "cell_type": "code",
   "execution_count": 57,
   "id": "a119f5ce",
   "metadata": {},
   "outputs": [
    {
     "data": {
      "text/plain": [
       "True"
      ]
     },
     "execution_count": 57,
     "metadata": {},
     "output_type": "execute_result"
    }
   ],
   "source": [
    "# check if it is empty list\n",
    "[] is not None"
   ]
  },
  {
   "cell_type": "code",
   "execution_count": 58,
   "id": "926c1e95",
   "metadata": {},
   "outputs": [
    {
     "data": {
      "text/plain": [
       "False"
      ]
     },
     "execution_count": 58,
     "metadata": {},
     "output_type": "execute_result"
    }
   ],
   "source": [
    "[] == True"
   ]
  },
  {
   "cell_type": "code",
   "execution_count": 59,
   "id": "dd768b1a",
   "metadata": {},
   "outputs": [
    {
     "data": {
      "text/plain": [
       "True"
      ]
     },
     "execution_count": 59,
     "metadata": {},
     "output_type": "execute_result"
    }
   ],
   "source": [
    "# if something exist it will return True\n",
    "[\"d\", 2] is not None"
   ]
  },
  {
   "cell_type": "code",
   "execution_count": 60,
   "id": "7b7ad0e3",
   "metadata": {},
   "outputs": [
    {
     "name": "stdout",
     "output_type": "stream",
     "text": [
      "Are `a` and `b` same objects? True\n",
      "  ID a: 2484283054016 | ID b: 2484283054016\n",
      "Are `a` and `c` same objects? False\n",
      "  ID a: 2484283054016 | ID c: 2484283054208\n",
      "\n",
      "Do `a` and `b` have same values? True\n",
      "Do `a` and `c` have same values? True\n"
     ]
    }
   ],
   "source": [
    "# `is` VS `==`\n",
    "# `is`: if variables are pointing same object return True (same object means pointing same memory point)\n",
    "# `==`: if variables have same value return True\n",
    "a = [1, 2, 3]\n",
    "b = a\n",
    "c = [1, 2, 3]\n",
    "print(f\"Are `a` and `b` same objects? {a is b}\")\n",
    "print(f\"  ID a: {id(a)} | ID b: {id(b)}\")\n",
    "print(f\"Are `a` and `c` same objects? {a is c}\")\n",
    "print(f\"  ID a: {id(a)} | ID c: {id(c)}\")\n",
    "print()\n",
    "print(f\"Do `a` and `b` have same values? {a == b}\")\n",
    "print(f\"Do `a` and `c` have same values? {a == c}\")"
   ]
  },
  {
   "cell_type": "code",
   "execution_count": 61,
   "id": "1de572c6",
   "metadata": {},
   "outputs": [
    {
     "name": "stdout",
     "output_type": "stream",
     "text": [
      "1) Runned\n",
      "2) 1\n",
      "3) Runned\n",
      "4) 1\n",
      "5) 1\n"
     ]
    }
   ],
   "source": [
    "# Short-circuit evaluation\n",
    "def check_if_run():\n",
    "    return \"Runned\"\n",
    "\n",
    "print(f\"1) {1 and check_if_run()}\")       # need to check both condition\n",
    "print(f\"2) {1 or check_if_run()}\")        # can skip second condition since first is always True\n",
    "print(f\"3) {0 or check_if_run() or 1}\")   # can skip third condition since second is always True\n",
    "print(f\"4) {0 or 1 or check_if_run()}\")   # can skip third condition since second is always True\n",
    "print(f\"5) {0 or check_if_run() and 1}\")  # need to check all condition"
   ]
  },
  {
   "cell_type": "markdown",
   "id": "e5db2898",
   "metadata": {},
   "source": [
    "### If"
   ]
  },
  {
   "cell_type": "code",
   "execution_count": 62,
   "id": "b0f8c431",
   "metadata": {},
   "outputs": [
    {
     "name": "stdout",
     "output_type": "stream",
     "text": [
      "This is True\n"
     ]
    }
   ],
   "source": [
    "if True:\n",
    "    print(\"This is True\")\n",
    "elif True:\n",
    "    print(\"This is elif True\")\n",
    "else:\n",
    "    print(\"This is else\")"
   ]
  },
  {
   "cell_type": "code",
   "execution_count": 63,
   "id": "c04a907e",
   "metadata": {},
   "outputs": [
    {
     "name": "stdout",
     "output_type": "stream",
     "text": [
      "equivalent to `False` in if statement\n",
      "None\n",
      "Empty List\n",
      "Empty Set\n",
      "Zeros\n"
     ]
    }
   ],
   "source": [
    "# equivalent to `False` in if statement\n",
    "print(\"equivalent to `False` in if statement\")\n",
    "if not None:\n",
    "    print(\"None\")\n",
    "if not []:\n",
    "    print(\"Empty List\")\n",
    "if not {}:\n",
    "    print(\"Empty Set\")\n",
    "if not 0:\n",
    "    print(\"Zeros\")"
   ]
  },
  {
   "cell_type": "markdown",
   "id": "788e93e8",
   "metadata": {},
   "source": [
    "### Iterator and for, while\n",
    "\n",
    "* Iterable: 반복 가능한 객체\n",
    "* `list`, `dict`, `set`, `str`, `tuple`, `range`, `enumerate`\n",
    "* 모든 Iterable 객체는 `iter` 함수로 iteration을 할 수 있다."
   ]
  },
  {
   "cell_type": "code",
   "execution_count": 64,
   "id": "a428763c",
   "metadata": {},
   "outputs": [
    {
     "name": "stdout",
     "output_type": "stream",
     "text": [
      "<list_iterator object at 0x000002426AC52A00>\n"
     ]
    },
    {
     "data": {
      "text/plain": [
       "1"
      ]
     },
     "execution_count": 64,
     "metadata": {},
     "output_type": "execute_result"
    }
   ],
   "source": [
    "# all iterable objects, can be iterated by `iter` function\n",
    "x = [1, 2, 3]\n",
    "iterable_object = iter(x)\n",
    "print(iterable_object)\n",
    "# use `next` function to call\n",
    "next(iterable_object)"
   ]
  },
  {
   "cell_type": "code",
   "execution_count": 65,
   "id": "236f73d5",
   "metadata": {},
   "outputs": [
    {
     "name": "stdout",
     "output_type": "stream",
     "text": [
      "1\n",
      "2\n",
      "3\n"
     ]
    }
   ],
   "source": [
    "# range: include first value, not include the last value\n",
    "for i in range(1, 4):\n",
    "    print(i)"
   ]
  },
  {
   "cell_type": "code",
   "execution_count": 66,
   "id": "b009c24c",
   "metadata": {},
   "outputs": [
    {
     "name": "stdout",
     "output_type": "stream",
     "text": [
      "1\n",
      "3\n",
      "5\n",
      "7\n",
      "9\n"
     ]
    }
   ],
   "source": [
    "# loop 1 to 9 by 2 step\n",
    "for i in range(1, 10, 2):\n",
    "    print(i)"
   ]
  },
  {
   "cell_type": "code",
   "execution_count": 67,
   "id": "f4a268a0",
   "metadata": {},
   "outputs": [
    {
     "name": "stdout",
     "output_type": "stream",
     "text": [
      "0\n",
      "2\n",
      "4\n",
      "6\n",
      "8\n"
     ]
    }
   ],
   "source": [
    "# while loop: find the even number from 0 ~ 9\n",
    "i = 0\n",
    "while (i < 10):\n",
    "    if i % 2 == 0:\n",
    "        print(i)\n",
    "    i += 1"
   ]
  },
  {
   "cell_type": "code",
   "execution_count": 68,
   "id": "3746b1f9",
   "metadata": {},
   "outputs": [
    {
     "name": "stdout",
     "output_type": "stream",
     "text": [
      "0 1\n",
      "1 2\n",
      "2 3\n"
     ]
    }
   ],
   "source": [
    "# use enumerate when you want to iterate the index with the values\n",
    "for i, v in enumerate([1, 2, 3]):\n",
    "    print(i, v)"
   ]
  },
  {
   "cell_type": "markdown",
   "id": "505686b6",
   "metadata": {},
   "source": [
    "* `in` operation"
   ]
  },
  {
   "cell_type": "markdown",
   "id": "c4d1f20c",
   "metadata": {},
   "source": [
    "### other functions"
   ]
  },
  {
   "cell_type": "code",
   "execution_count": 69,
   "id": "1b665cd1",
   "metadata": {},
   "outputs": [
    {
     "name": "stdout",
     "output_type": "stream",
     "text": [
      "Summation: 6\n",
      "Maximum: 3\n",
      "Minimum: 1\n"
     ]
    }
   ],
   "source": [
    "x = [1, 2, 3]\n",
    "print(f\"Summation: {sum(x)}\")\n",
    "print(f\"Maximum: {max(x)}\")\n",
    "print(f\"Minimum: {min(x)}\")"
   ]
  },
  {
   "cell_type": "markdown",
   "id": "3e3e53ea",
   "metadata": {},
   "source": [
    "# Exercise 1"
   ]
  },
  {
   "cell_type": "code",
   "execution_count": null,
   "id": "4492a5fb",
   "metadata": {},
   "outputs": [],
   "source": [
    "def get_id_number(data: dict) -> str:\n",
    "    r\"\"\"\n",
    "    Given dictionary data\n",
    "    - year, month, day: int, assume no error data in month=(1~12), day=(1~31)\n",
    "    - gender: str (male / female), always lower form\n",
    "    return the personal id\n",
    "        \n",
    "    format id: A-B\n",
    "        part A: last 2 digits of year + 2 digits month(with zero padded) + 2 digits day(with zero padded)\n",
    "        part B: 1 digit calculated by gender and birth + post_id_number\n",
    "        \n",
    "        1 digit in part B is calculated by following table\n",
    "        \n",
    "        |  year   | male | female |\n",
    "        |---------|------|--------|\n",
    "        |  < 2000 |  1   |    2   |\n",
    "        | >= 2000 |  3   |    4   |\n",
    "    \n",
    "    example)\n",
    "    ```\n",
    "    data = {\n",
    "        'year': 2002,\n",
    "        'month': 4,\n",
    "        'day': 3,\n",
    "        'gender': 'male',\n",
    "        'post_id_number': 681355\n",
    "    }\n",
    "    ```\n",
    "\n",
    "    return the id '020403-3681355' with string type\n",
    "    \"\"\"\n",
    "    # write the code from here, guide to determine what to do\n",
    "    # Part A\n",
    "    # 1. convert year to string and take last 2 characters\n",
    "    # 2. convert month to string, if smaller than 10 you need to add 0 in front of it\n",
    "    # 3. convert day to string, if smaller than 10 you need to add 0 in front of it\n",
    "    # Part B\n",
    "    # 1. see the table in the description, convert the first string of part B\n",
    "    # Result\n",
    "    # concatenate all the string\n",
    "    \n",
    "    return "
   ]
  },
  {
   "cell_type": "code",
   "execution_count": null,
   "id": "72a351bf",
   "metadata": {},
   "outputs": [],
   "source": [
    "# Test the function\n",
    "\n",
    "test_data = [\n",
    "    ({'year': 2002,'month':  4,'day':  3, 'gender':   'male', 'post_id_number': 681355}, '020403-3681355'),\n",
    "    ({'year': 1990,'month': 12,'day':  1, 'gender': 'female', 'post_id_number': 654682}, '901201-2654682'),\n",
    "    ({'year': 1998,'month':  9,'day': 13, 'gender':   'male', 'post_id_number': 987132}, '980913-1987132'),\n",
    "    ({'year': 2010,'month':  3,'day': 31, 'gender': 'female', 'post_id_number': 874682}, '100331-4874682')\n",
    "]\n",
    "\n",
    "answer_list = []\n",
    "for data, answer in test_data:\n",
    "    answer_list.append(get_id_number(data) == answer)\n",
    "\n",
    "print(f\"Correct: {sum(answer_list)}\")"
   ]
  },
  {
   "cell_type": "markdown",
   "id": "072eefd0",
   "metadata": {},
   "source": [
    "---"
   ]
  },
  {
   "cell_type": "markdown",
   "id": "3323fb5e",
   "metadata": {},
   "source": [
    "# Modules, Functions and Class "
   ]
  },
  {
   "cell_type": "markdown",
   "id": "e8268694",
   "metadata": {},
   "source": [
    "## How to write a custom functions?\n",
    "\n",
    "```python\n",
    "def my_func_name(parameter1, parameter2, ...):\n",
    "    \n",
    "    # do something\n",
    "    return\n",
    "\n",
    "# Example\n",
    "def plus_absolute(x, y):\n",
    "    return abs(x + y)\n",
    "```"
   ]
  },
  {
   "cell_type": "code",
   "execution_count": 71,
   "id": "a2adad3c",
   "metadata": {},
   "outputs": [
    {
     "ename": "IndentationError",
     "evalue": "unindent does not match any outer indentation level (<tokenize>, line 4)",
     "output_type": "error",
     "traceback": [
      "\u001b[1;36m  File \u001b[1;32m\"<tokenize>\"\u001b[1;36m, line \u001b[1;32m4\u001b[0m\n\u001b[1;33m    return 3\u001b[0m\n\u001b[1;37m    ^\u001b[0m\n\u001b[1;31mIndentationError\u001b[0m\u001b[1;31m:\u001b[0m unindent does not match any outer indentation level\n"
     ]
    }
   ],
   "source": [
    "# same Intendant block is important in python coding\n",
    "def a():\n",
    "    print(3)\n",
    "  return 3"
   ]
  },
  {
   "cell_type": "code",
   "execution_count": 72,
   "id": "69c26d23",
   "metadata": {},
   "outputs": [
    {
     "name": "stdout",
     "output_type": "stream",
     "text": [
      "<class 'tuple'>\n",
      "(1, 3, 4)\n"
     ]
    }
   ],
   "source": [
    "def function_with_args(*args):\n",
    "    \"\"\"args: arugments\"\"\"\n",
    "    print(type(args))\n",
    "    print(args)\n",
    "    return \n",
    "\n",
    "function_with_args(1, 3, 4)"
   ]
  },
  {
   "cell_type": "code",
   "execution_count": 73,
   "id": "3f7d4891",
   "metadata": {},
   "outputs": [
    {
     "name": "stdout",
     "output_type": "stream",
     "text": [
      "<class 'dict'>\n",
      "{'a': 3, 'b': 2, 'arg': 'a'}\n"
     ]
    }
   ],
   "source": [
    "def function_with_kwargs(**kwargs):\n",
    "    \"\"\"kwargs: keyword arguments\"\"\"\n",
    "    print(type(kwargs))\n",
    "    print(kwargs)\n",
    "    return \n",
    "\n",
    "function_with_kwargs(a=3, b=2, arg=\"a\")"
   ]
  },
  {
   "cell_type": "markdown",
   "id": "2b59f307",
   "metadata": {},
   "source": [
    "## How to import Modules?"
   ]
  },
  {
   "cell_type": "code",
   "execution_count": 74,
   "id": "b8f3a1cb",
   "metadata": {},
   "outputs": [
    {
     "data": {
      "text/plain": [
       "module"
      ]
     },
     "execution_count": 74,
     "metadata": {},
     "output_type": "execute_result"
    }
   ],
   "source": [
    "import math\n",
    "type(math)"
   ]
  },
  {
   "cell_type": "code",
   "execution_count": 75,
   "id": "e466d6de",
   "metadata": {},
   "outputs": [
    {
     "name": "stdout",
     "output_type": "stream",
     "text": [
      "# Attributes\n",
      "This module provides access to the mathematical functions\n",
      "defined by the C standard.\n",
      "3.141592653589793\n",
      "\n",
      "# Methods\n",
      "2.0\n"
     ]
    }
   ],
   "source": [
    "# module is also an object defined by `class`, it has attributes and methods\n",
    "print(\"# Attributes\")\n",
    "print(math.__doc__)\n",
    "print(math.pi)\n",
    "print()\n",
    "print(\"# Methods\")\n",
    "\n",
    "print(math.sqrt(4))"
   ]
  },
  {
   "cell_type": "code",
   "execution_count": 76,
   "id": "e3623f54",
   "metadata": {},
   "outputs": [
    {
     "name": "stdout",
     "output_type": "stream",
     "text": [
      "sqrt function from math module: 2.0\n"
     ]
    },
    {
     "ename": "TypeError",
     "evalue": "'int' object is not callable",
     "output_type": "error",
     "traceback": [
      "\u001b[1;31m---------------------------------------------------------------------------\u001b[0m",
      "\u001b[1;31mTypeError\u001b[0m                                 Traceback (most recent call last)",
      "\u001b[1;32m<ipython-input-76-61d0f6d23d05>\u001b[0m in \u001b[0;36m<module>\u001b[1;34m\u001b[0m\n\u001b[0;32m      7\u001b[0m \u001b[0msqrt\u001b[0m \u001b[1;33m=\u001b[0m \u001b[1;36m123\u001b[0m\u001b[1;33m\u001b[0m\u001b[1;33m\u001b[0m\u001b[0m\n\u001b[0;32m      8\u001b[0m \u001b[1;33m\u001b[0m\u001b[0m\n\u001b[1;32m----> 9\u001b[1;33m \u001b[0mprint\u001b[0m\u001b[1;33m(\u001b[0m\u001b[1;34mf\"overrided `sqrt` {sqrt(4)}\"\u001b[0m\u001b[1;33m)\u001b[0m\u001b[1;33m\u001b[0m\u001b[1;33m\u001b[0m\u001b[0m\n\u001b[0m",
      "\u001b[1;31mTypeError\u001b[0m: 'int' object is not callable"
     ]
    }
   ],
   "source": [
    "# can also import certain function from module\n",
    "from math import sqrt\n",
    "\n",
    "print(f\"sqrt function from math module: {sqrt(4)}\")  \n",
    "\n",
    "# but do not override the imported function\n",
    "sqrt = 123\n",
    "\n",
    "print(f\"overrided `sqrt` {sqrt(4)}\")"
   ]
  },
  {
   "cell_type": "markdown",
   "id": "aa2d25e2",
   "metadata": {},
   "source": [
    "## How to create a module?\n",
    "\n",
    "1. create a new file\n",
    "2. write a function\n",
    "\n",
    "    ```python\n",
    "    def calculate_square_root(x):\n",
    "        return x**(1/2)\n",
    "    ```\n",
    "3. save with \".py\" extention\n",
    "4. import the module"
   ]
  },
  {
   "cell_type": "code",
   "execution_count": 77,
   "id": "9c0bd5c8",
   "metadata": {},
   "outputs": [
    {
     "data": {
      "text/plain": [
       "2.0"
      ]
     },
     "execution_count": 77,
     "metadata": {},
     "output_type": "execute_result"
    }
   ],
   "source": [
    "from custom_model import calculate_square_root\n",
    "\n",
    "calculate_square_root(4)"
   ]
  },
  {
   "cell_type": "markdown",
   "id": "0cbfb795",
   "metadata": {},
   "source": [
    "## Class\n",
    "\n",
    "* Class is another type of object that has variables and functions similar to module\n",
    "* Class VS Class object\n",
    "    - A class is a blueprint, definition of its attributes and methods (but not real yet)\n",
    "    - A class object is a class' instance (realization of a blueprint)"
   ]
  },
  {
   "cell_type": "code",
   "execution_count": 78,
   "id": "1f007bf2",
   "metadata": {},
   "outputs": [
    {
     "name": "stdout",
     "output_type": "stream",
     "text": [
      "<class '__main__.Power'>\n"
     ]
    }
   ],
   "source": [
    "# Blue print\n",
    "class Power():\n",
    "    def __init__(self, k):\n",
    "        self.document = \"calculate x to the k power\"  # attributes\n",
    "        self.k = k\n",
    "        \n",
    "    def calculate(self, x):  # methods, first argument must be `self` to point the class object\n",
    "        return x**(self.k)\n",
    "    \n",
    "print(Power)"
   ]
  },
  {
   "cell_type": "code",
   "execution_count": 79,
   "id": "d24f11ae",
   "metadata": {},
   "outputs": [
    {
     "name": "stdout",
     "output_type": "stream",
     "text": [
      "<class '__main__.Power'>\n",
      "calculate x to the k power\n",
      "k = 2\n",
      "16\n"
     ]
    }
   ],
   "source": [
    "# declare a class instance object\n",
    "# `__init__` function will be called when it declared \n",
    "power = Power(2)\n",
    "print(type(power))\n",
    "print(power.document) # can get the attribute `document`\n",
    "print(f\"k = {power.k}\")\n",
    "print(power.calculate(4))"
   ]
  },
  {
   "cell_type": "markdown",
   "id": "9d38d07f",
   "metadata": {},
   "source": [
    "### transfer attributes and methods from parent class"
   ]
  },
  {
   "cell_type": "code",
   "execution_count": 80,
   "id": "75086893",
   "metadata": {},
   "outputs": [],
   "source": [
    "class Sqrt(Power):\n",
    "    def __init__(self):\n",
    "        super().__init__(k=1/2)  # it will take over all attributes and methods from `Power` class\n",
    "        \n",
    "    def __call__(self, x):  # use __call__ function to make a class instance like a function style\n",
    "        return self.calculate(x)"
   ]
  },
  {
   "cell_type": "code",
   "execution_count": 81,
   "id": "c4534b35",
   "metadata": {},
   "outputs": [
    {
     "name": "stdout",
     "output_type": "stream",
     "text": [
      "<class '__main__.Sqrt'>\n",
      "calculate x to the k power\n",
      "k = 0.5\n",
      "use parent class(Power) method: 2.0\n",
      "use Sqrt __call__ method: 4.0\n"
     ]
    }
   ],
   "source": [
    "sqrt = Sqrt()\n",
    "print(type(sqrt))\n",
    "print(sqrt.document)\n",
    "print(f\"k = {sqrt.k}\")\n",
    "print(f\"use parent class(Power) method: {sqrt.calculate(4)}\")\n",
    "print(f\"use Sqrt __call__ method: {sqrt(16)}\")"
   ]
  },
  {
   "cell_type": "markdown",
   "id": "a1c5281f",
   "metadata": {},
   "source": [
    "# File IO\n",
    "\n",
    "## How to read a file?\n",
    "\n",
    "\"cardata.txt\"\n",
    "\n",
    "```text\n",
    "Model, Company, Type, Price\n",
    "Model3, Tesla, electronic, 55000000\n",
    "Genesis GV70, Hyundai, diesel, 48000000\n",
    "K7, Kia, gasoline, 40000000\n",
    "```"
   ]
  },
  {
   "cell_type": "code",
   "execution_count": 82,
   "id": "c4bd04e1",
   "metadata": {},
   "outputs": [
    {
     "data": {
      "text/plain": [
       "'Model, Company, Type, Price\\nModel3, Tesla, electronic, 55000000\\nGenesis GV70, Hyundai, diesel, 48000000\\nK7, Kia, gasoline, 40000000\\n'"
      ]
     },
     "execution_count": 82,
     "metadata": {},
     "output_type": "execute_result"
    }
   ],
   "source": [
    "# open a file\n",
    "fileIO = open('./cardata.txt', mode='r', encoding=\"utf-8\")\n",
    "fileIO.read() "
   ]
  },
  {
   "cell_type": "code",
   "execution_count": 83,
   "id": "f1533d5f",
   "metadata": {},
   "outputs": [
    {
     "data": {
      "text/plain": [
       "''"
      ]
     },
     "execution_count": 83,
     "metadata": {},
     "output_type": "execute_result"
    }
   ],
   "source": [
    "# once read, fileIO will not contains any data \n",
    "fileIO.read()"
   ]
  },
  {
   "cell_type": "code",
   "execution_count": 84,
   "id": "ce9fe564",
   "metadata": {},
   "outputs": [],
   "source": [
    "fileIO.close()"
   ]
  },
  {
   "cell_type": "code",
   "execution_count": 85,
   "id": "4471dfaa",
   "metadata": {},
   "outputs": [
    {
     "data": {
      "text/plain": [
       "['Model, Company, Type, Price\\n',\n",
       " 'Model3, Tesla, electronic, 55000000\\n',\n",
       " 'Genesis GV70, Hyundai, diesel, 48000000\\n',\n",
       " 'K7, Kia, gasoline, 40000000\\n']"
      ]
     },
     "execution_count": 85,
     "metadata": {},
     "output_type": "execute_result"
    }
   ],
   "source": [
    "# using `with` statement can open file without close the file manually\n",
    "with open('./cardata.txt', mode='r', encoding=\"utf-8\") as fileIO:\n",
    "    data = fileIO.readlines()  # readlines will return a list by new line\n",
    "    \n",
    "data"
   ]
  },
  {
   "cell_type": "markdown",
   "id": "90a398f3",
   "metadata": {},
   "source": [
    "## How to write a file?"
   ]
  },
  {
   "cell_type": "code",
   "execution_count": 86,
   "id": "06ebf3ba",
   "metadata": {},
   "outputs": [],
   "source": [
    "with open('./write_excercise.txt', mode='w', encoding='utf-8') as fileIO:\n",
    "    # 2 ways to do it\n",
    "    # if using fileIO must add newline letter '\\n'\n",
    "    fileIO.write(\"Write using `write` method.\")\n",
    "    # when using print it will automatically create a new line\n",
    "    print(\"Write using `print` function.\", file=fileIO)\n",
    "    \n",
    "    fileIO.write(\"End of document\")"
   ]
  },
  {
   "cell_type": "code",
   "execution_count": 87,
   "id": "638d2b9b",
   "metadata": {},
   "outputs": [
    {
     "name": "stdout",
     "output_type": "stream",
     "text": [
      "Write using `write` method.Write using `print` function.\n",
      "End of document\n"
     ]
    }
   ],
   "source": [
    "with open('./write_excercise.txt', mode='r', encoding='utf-8') as fileIO:\n",
    "    print(fileIO.read())"
   ]
  },
  {
   "cell_type": "markdown",
   "id": "b494bcb3-9544-4b3f-83f8-c896783b68fe",
   "metadata": {},
   "source": [
    "## os & Pathlib"
   ]
  },
  {
   "cell_type": "code",
   "execution_count": 13,
   "id": "7da6f603-47f8-4294-bc34-171519e27f51",
   "metadata": {},
   "outputs": [],
   "source": [
    "import os\n",
    "from pathlib import Path"
   ]
  },
  {
   "cell_type": "code",
   "execution_count": 2,
   "id": "28e18e91-137a-4944-b850-9ba22bf074de",
   "metadata": {},
   "outputs": [
    {
     "data": {
      "text/plain": [
       "WindowsPath('.')"
      ]
     },
     "execution_count": 2,
     "metadata": {},
     "output_type": "execute_result"
    }
   ],
   "source": [
    "current_path = Path()\n",
    "current_path"
   ]
  },
  {
   "cell_type": "code",
   "execution_count": 6,
   "id": "6159bf2d-ad52-4006-a97a-4a942e63879c",
   "metadata": {},
   "outputs": [
    {
     "data": {
      "text/plain": [
       "WindowsPath('test_dir')"
      ]
     },
     "execution_count": 6,
     "metadata": {},
     "output_type": "execute_result"
    }
   ],
   "source": [
    "test_path = current_path / 'test_dir'\n",
    "test_path"
   ]
  },
  {
   "cell_type": "code",
   "execution_count": 18,
   "id": "7f39c480-3da1-4253-bcd4-5e1579a0580e",
   "metadata": {},
   "outputs": [
    {
     "data": {
      "text/plain": [
       "WindowsPath('C:/Users/simon/Desktop/Codes/hankyong-university/test_dir')"
      ]
     },
     "execution_count": 18,
     "metadata": {},
     "output_type": "execute_result"
    }
   ],
   "source": [
    "# want to see the whole path\n",
    "test_path.absolute()"
   ]
  },
  {
   "cell_type": "code",
   "execution_count": 19,
   "id": "812bdb23-ee31-4a49-94ee-d6a528064daa",
   "metadata": {},
   "outputs": [
    {
     "data": {
      "text/plain": [
       "'C:\\\\Users\\\\simon\\\\Desktop\\\\Codes\\\\hankyong-university\\\\test_dir'"
      ]
     },
     "execution_count": 19,
     "metadata": {},
     "output_type": "execute_result"
    }
   ],
   "source": [
    "str(test_path.absolute())"
   ]
  },
  {
   "cell_type": "code",
   "execution_count": 20,
   "id": "faf404bc-aad6-4803-89e8-aa85f46d97d1",
   "metadata": {},
   "outputs": [
    {
     "data": {
      "text/plain": [
       "False"
      ]
     },
     "execution_count": 20,
     "metadata": {},
     "output_type": "execute_result"
    }
   ],
   "source": [
    "# if dir or file is exists\n",
    "test_path.exists()"
   ]
  },
  {
   "cell_type": "code",
   "execution_count": 23,
   "id": "3039cb14-9648-41a3-9674-b00fa50f3e49",
   "metadata": {},
   "outputs": [],
   "source": [
    "# make directory\n",
    "test_path.mkdir()"
   ]
  },
  {
   "cell_type": "code",
   "execution_count": 24,
   "id": "4e5d1521-aba0-48e9-a822-124fbded56b0",
   "metadata": {},
   "outputs": [],
   "source": [
    "# delete directory\n",
    "# window may cause error\n",
    "# https://stackoverflow.com/questions/36360167/when-using-python-os-rmdir-get-permissionerror-winerror-5-access-is-denied\n",
    "try:\n",
    "    test_path.unlink()\n",
    "except:\n",
    "    import shutil\n",
    "    shutil.rmtree(test_path)"
   ]
  },
  {
   "cell_type": "markdown",
   "id": "da8a34ae",
   "metadata": {},
   "source": [
    "# Excercise 2"
   ]
  },
  {
   "cell_type": "code",
   "execution_count": null,
   "id": "4f77cf5c",
   "metadata": {},
   "outputs": [],
   "source": [
    "class CarDataset():\n",
    "    def __init__(self, data_path):\n",
    "        \"\"\"\n",
    "        1. read data from `data_path` and save it to `self.data` attribute\n",
    "        2. complete `calculate_average_price`\n",
    "            (55000000 + 48000000 + 40000000) / 3\n",
    "        \n",
    "        \"cardata.txt\"\n",
    "\n",
    "        ```\n",
    "        Model, Company, Type, Price\n",
    "        Model3, Tesla, electronic, 55000000\n",
    "        Genesis GV70, Hyundai, diesel, 48000000\n",
    "        K7, Kia, gasoline, 40000000\n",
    "        ```\n",
    "        \n",
    "        fill all ??? marks\n",
    "        \"\"\"\n",
    "        # read data\n",
    "        with open(data_path, mode='r', encoding='utf-8') as file:\n",
    "            # use readline method to read data line by line\n",
    "            data = ???\n",
    "            \n",
    "        self.data = data\n",
    "        \n",
    "    def calculate_average_price(self):\n",
    "        price_list = []\n",
    "        for line in self.data[1:]:  # start to iter after the header of table data\n",
    "            # split line with ','\n",
    "            row_data = ???\n",
    "            # append price data\n",
    "            price_list.append( ??? )\n",
    "        \n",
    "        # calcuate average\n",
    "        result = ???\n",
    "        return result"
   ]
  },
  {
   "cell_type": "code",
   "execution_count": null,
   "id": "b61c6c3e",
   "metadata": {},
   "outputs": [],
   "source": [
    "car_ds = CarDataset(data_path=\"./cardata.txt\")\n",
    "car_ds.calculate_average_price()"
   ]
  },
  {
   "cell_type": "markdown",
   "id": "57fc8813-dbc9-4b67-8487-ecf7478f1004",
   "metadata": {},
   "source": [
    "---"
   ]
  },
  {
   "cell_type": "markdown",
   "id": "0a1a4c48-b8c6-443e-89fe-8f7c8646d549",
   "metadata": {},
   "source": [
    "### 객체 지향(Object Oriented) vs 절차 지향(Procedural Oriented)\n",
    "\n",
    "**절차 지향(Procedural Oriented)**\n",
    "- 장점: 컴퓨터의 처리구조와 유사해서 실행속도가 빠름\n",
    "- 단점:\n",
    "    - 유지보수가 어려움\n",
    "    - 실행 순서가 정해져 있으므로 코드의 순서가 바뀌면 동일한 결과를 보장하기 어려움\n",
    "    - 디버깅이 어려움\n",
    "    \n",
    "\n",
    "**객체 지향(Object Oriented)**\n",
    "- 장점: \n",
    "    - 코드의 재활용성이 높음\n",
    "    - 코딩이 절차지향보다 간편함\n",
    "    - 디버깅이 쉬움\n",
    "- 단점:\n",
    "    - 처리속도가 절차지향보다 느림\n",
    "    - 설계에 많은 시간소요가 들어감\n",
    "    \n",
    "    \n",
    "둘이 정 반대의 개념은 아니다. 구현 방식의 차이\n",
    "- 절차 지향(Procedural Oriented): 데이터 중심으로 함수 구현\n",
    "- 객체 지향(Object Oriented): 기능 중심으로 method(함수) 구현\n",
    "\n",
    "https://brownbears.tistory.com/407"
   ]
  },
  {
   "cell_type": "code",
   "execution_count": null,
   "id": "80f891ae-389a-484d-9e3b-ad9775a995ba",
   "metadata": {},
   "outputs": [
    {
     "name": "stdout",
     "output_type": "stream",
     "text": [
      "20\n"
     ]
    }
   ],
   "source": [
    "# example: 오늘 얼마큼 걸었는지 기록하고 싶음\n",
    "# tracking my walks, i walk 20 step (for each forward function called)\n",
    "# Procedural Oriented\n",
    "walks = 0 \n",
    "def forward(walks):\n",
    "    return walks + 20\n",
    "walks = forward(walks)\n",
    "print(walks)"
   ]
  },
  {
   "cell_type": "code",
   "execution_count": null,
   "id": "9b5ed3f1-8620-4484-b8e4-294af67f656b",
   "metadata": {},
   "outputs": [
    {
     "name": "stdout",
     "output_type": "stream",
     "text": [
      "20\n"
     ]
    }
   ],
   "source": [
    "# Object Oriented: focus on object\n",
    "class WalkTracker:\n",
    "    def __init__(self):\n",
    "        self.walks = 0\n",
    "        \n",
    "    def forward(self):\n",
    "        self.walks = self.walks + 20\n",
    "\n",
    "tracker = WalkTracker()\n",
    "tracker.forward()\n",
    "print(tracker.walks)"
   ]
  },
  {
   "cell_type": "markdown",
   "id": "d9298099-b963-429c-947b-353a373aad47",
   "metadata": {},
   "source": [
    "---"
   ]
  },
  {
   "cell_type": "markdown",
   "id": "a8768efb-d355-42d6-a264-d222eb779ad4",
   "metadata": {},
   "source": [
    "# Additional Excercises\n",
    "\n",
    "- (Easy) Hacker Rank: https://www.hackerrank.com/domains/python\n",
    "- (Hard) Leet Code: https://leetcode.com/"
   ]
  }
 ],
 "metadata": {
  "kernelspec": {
   "display_name": "Python 3.10.4 ('aiffel2022-0SDAWiwa')",
   "language": "python",
   "name": "python3"
  },
  "language_info": {
   "codemirror_mode": {
    "name": "ipython",
    "version": 3
   },
   "file_extension": ".py",
   "mimetype": "text/x-python",
   "name": "python",
   "nbconvert_exporter": "python",
   "pygments_lexer": "ipython3",
   "version": "3.10.4"
  },
  "vscode": {
   "interpreter": {
    "hash": "d1a1b9479b242366efcd00035e60f2e24dbc2c54df35946856cbb4607e74fc36"
   }
  }
 },
 "nbformat": 4,
 "nbformat_minor": 5
}
