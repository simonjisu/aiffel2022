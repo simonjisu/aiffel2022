{
 "cells": [
  {
   "cell_type": "code",
   "execution_count": 53,
   "metadata": {},
   "outputs": [],
   "source": [
    "import tensorflow as tf\n",
    "import numpy as np\n",
    "import matplotlib.pyplot as plt\n",
    "import tensorflow_datasets as tfds\n",
    "from pathlib import Path\n",
    "\n",
    "seed = 60\n",
    "# Load data\n",
    "(raw_train, raw_validation, raw_test), metadata = tfds.load(\n",
    "    name='fashion_mnist',\n",
    "    data_dir='./data/fashion/',\n",
    "    split=['train[:90%]', 'train[10%:]', 'test'],\n",
    "    download=True,\n",
    "    with_info=True,\n",
    "    as_supervised=True,\n",
    ")"
   ]
  },
  {
   "cell_type": "markdown",
   "metadata": {},
   "source": [
    "## Data"
   ]
  },
  {
   "cell_type": "code",
   "execution_count": 52,
   "metadata": {},
   "outputs": [
    {
     "name": "stdout",
     "output_type": "stream",
     "text": [
      "<class 'tensorflow.python.data.ops.dataset_ops.PrefetchDataset'>\n",
      "FeaturesDict({\n",
      "    'image': Image(shape=(28, 28, 1), dtype=tf.uint8),\n",
      "    'label': ClassLabel(shape=(), dtype=tf.int64, num_classes=10),\n",
      "})\n"
     ]
    }
   ],
   "source": [
    "print(type(raw_train))\n",
    "print(metadata.features)\n",
    "get_label_name = metadata.features['label'].int2str\n",
    "# image (28, 28, 1)"
   ]
  },
  {
   "cell_type": "code",
   "execution_count": 41,
   "metadata": {},
   "outputs": [
    {
     "data": {
      "image/png": "[encoded data removed]",
      "text/plain": [
       "<Figure size 864x360 with 10 Axes>"
      ]
     },
     "metadata": {
      "needs_background": "light"
     },
     "output_type": "display_data"
    }
   ],
   "source": [
    "def plot_data(images, labels):\n",
    "    fig, axes = plt.subplots(2, 5, figsize=(12, 5))\n",
    "    for img, label, ax in zip(images, labels, axes.flatten()):\n",
    "        ax.imshow(img, cmap='gray')\n",
    "        ax.set_title(f'{get_label_name(label)}')\n",
    "        ax.axis('off')\n",
    "    plt.show()\n",
    "\n",
    "tf.random.set_seed(seed)\n",
    "images, labels = next(raw_train.batch(10).as_numpy_iterator())\n",
    "plot_data(images, labels)"
   ]
  },
  {
   "cell_type": "code",
   "execution_count": 54,
   "metadata": {},
   "outputs": [],
   "source": [
    "# preprocessing\n",
    "def formatting(image, label):\n",
    "    image = tf.cast(image, tf.float32)  # cast to tf.float32\n",
    "    image = image / 255.0\n",
    "    return image, label\n",
    "\n",
    "BATCH_SIZE = 64\n",
    "SHUFFLE_BUFFER_SIZE = 1000\n",
    "train_data = raw_train.map(formatting).shuffle(SHUFFLE_BUFFER_SIZE).batch(BATCH_SIZE)\n",
    "validation_data = raw_validation.map(formatting).batch(BATCH_SIZE)\n",
    "test_data = raw_test.map(formatting).batch(BATCH_SIZE)"
   ]
  },
  {
   "cell_type": "code",
   "execution_count": 47,
   "metadata": {},
   "outputs": [],
   "source": [
    "# TODO: How many data do we have?\n",
    "# check size of the `train_data`, `validation_data` and `test_data`\n",
    "# hint: use `len` function"
   ]
  },
  {
   "cell_type": "markdown",
   "metadata": {},
   "source": [
    "# Modeling\n",
    "\n",
    "Spec: use sequantial model\n",
    "\n",
    "1. Flatten Layer: make (28, 28) > (28*28)\n",
    "2. Fully-Connected Layer: `hidden size = 512`, `activation function = relu` \n",
    "3. Dropout Layer: `drop rate = 0.3`\n",
    "4. Fully-Connected Layer: `output size = number of class`"
   ]
  },
  {
   "cell_type": "code",
   "execution_count": 60,
   "metadata": {},
   "outputs": [],
   "source": [
    "# TODO: Build Model\n",
    "model = None"
   ]
  },
  {
   "cell_type": "markdown",
   "metadata": {},
   "source": [
    "Use `cross-entropy loss` and `Adam` optimizer, use `'accuracy'` metric"
   ]
  },
  {
   "cell_type": "code",
   "execution_count": 61,
   "metadata": {},
   "outputs": [],
   "source": [
    "# TODO: Compile the model\n",
    "optimizer = None\n",
    "loss_function = None\n",
    "model.compile(   )"
   ]
  },
  {
   "cell_type": "markdown",
   "metadata": {},
   "source": [
    "build checkpoints object"
   ]
  },
  {
   "cell_type": "code",
   "execution_count": 62,
   "metadata": {},
   "outputs": [],
   "source": [
    "checkpoint_dir = Path('./checkpoints') \n",
    "checkpoint_path = checkpoint_dir / 'fashion'\n",
    "\n",
    "cp_callback = tf.keras.callbacks.ModelCheckpoint(\n",
    "    filepath=checkpoint_path,\n",
    "    monitor='val_accuracy',  # use validation accuracy to save model\n",
    "    save_best_only=True,\n",
    "    save_weight_only=False\n",
    ")"
   ]
  },
  {
   "cell_type": "code",
   "execution_count": 63,
   "metadata": {},
   "outputs": [
    {
     "name": "stdout",
     "output_type": "stream",
     "text": [
      "Epoch 1/10\n",
      "835/844 [============================>.] - ETA: 0s - loss: 0.5292 - accuracy: 0.8127INFO:tensorflow:Assets written to: checkpoints\\fashion\\assets\n"
     ]
    },
    {
     "name": "stderr",
     "output_type": "stream",
     "text": [
      "INFO:tensorflow:Assets written to: checkpoints\\fashion\\assets\n"
     ]
    },
    {
     "name": "stdout",
     "output_type": "stream",
     "text": [
      "844/844 [==============================] - 5s 5ms/step - loss: 0.5284 - accuracy: 0.8129 - val_loss: 0.3918 - val_accuracy: 0.8596\n",
      "Epoch 2/10\n",
      "832/844 [============================>.] - ETA: 0s - loss: 0.4001 - accuracy: 0.8554INFO:tensorflow:Assets written to: checkpoints\\fashion\\assets\n"
     ]
    },
    {
     "name": "stderr",
     "output_type": "stream",
     "text": [
      "INFO:tensorflow:Assets written to: checkpoints\\fashion\\assets\n"
     ]
    },
    {
     "name": "stdout",
     "output_type": "stream",
     "text": [
      "844/844 [==============================] - 4s 5ms/step - loss: 0.3998 - accuracy: 0.8554 - val_loss: 0.3531 - val_accuracy: 0.8693\n",
      "Epoch 3/10\n",
      "841/844 [============================>.] - ETA: 0s - loss: 0.3651 - accuracy: 0.8675INFO:tensorflow:Assets written to: checkpoints\\fashion\\assets\n"
     ]
    },
    {
     "name": "stderr",
     "output_type": "stream",
     "text": [
      "INFO:tensorflow:Assets written to: checkpoints\\fashion\\assets\n"
     ]
    },
    {
     "name": "stdout",
     "output_type": "stream",
     "text": [
      "844/844 [==============================] - 4s 5ms/step - loss: 0.3650 - accuracy: 0.8675 - val_loss: 0.3171 - val_accuracy: 0.8842\n",
      "Epoch 4/10\n",
      "842/844 [============================>.] - ETA: 0s - loss: 0.3438 - accuracy: 0.8730INFO:tensorflow:Assets written to: checkpoints\\fashion\\assets\n"
     ]
    },
    {
     "name": "stderr",
     "output_type": "stream",
     "text": [
      "INFO:tensorflow:Assets written to: checkpoints\\fashion\\assets\n"
     ]
    },
    {
     "name": "stdout",
     "output_type": "stream",
     "text": [
      "844/844 [==============================] - 4s 5ms/step - loss: 0.3437 - accuracy: 0.8730 - val_loss: 0.2972 - val_accuracy: 0.8914\n",
      "Epoch 5/10\n",
      "837/844 [============================>.] - ETA: 0s - loss: 0.3272 - accuracy: 0.8799INFO:tensorflow:Assets written to: checkpoints\\fashion\\assets\n"
     ]
    },
    {
     "name": "stderr",
     "output_type": "stream",
     "text": [
      "INFO:tensorflow:Assets written to: checkpoints\\fashion\\assets\n"
     ]
    },
    {
     "name": "stdout",
     "output_type": "stream",
     "text": [
      "844/844 [==============================] - 4s 5ms/step - loss: 0.3271 - accuracy: 0.8799 - val_loss: 0.2805 - val_accuracy: 0.8966\n",
      "Epoch 6/10\n",
      "844/844 [==============================] - 4s 5ms/step - loss: 0.3163 - accuracy: 0.8820 - val_loss: 0.2815 - val_accuracy: 0.8957\n",
      "Epoch 7/10\n",
      "837/844 [============================>.] - ETA: 0s - loss: 0.3042 - accuracy: 0.8882INFO:tensorflow:Assets written to: checkpoints\\fashion\\assets\n"
     ]
    },
    {
     "name": "stderr",
     "output_type": "stream",
     "text": [
      "INFO:tensorflow:Assets written to: checkpoints\\fashion\\assets\n"
     ]
    },
    {
     "name": "stdout",
     "output_type": "stream",
     "text": [
      "844/844 [==============================] - 4s 5ms/step - loss: 0.3043 - accuracy: 0.8882 - val_loss: 0.2696 - val_accuracy: 0.8986\n",
      "Epoch 8/10\n",
      "844/844 [==============================] - ETA: 0s - loss: 0.2949 - accuracy: 0.8912INFO:tensorflow:Assets written to: checkpoints\\fashion\\assets\n"
     ]
    },
    {
     "name": "stderr",
     "output_type": "stream",
     "text": [
      "INFO:tensorflow:Assets written to: checkpoints\\fashion\\assets\n"
     ]
    },
    {
     "name": "stdout",
     "output_type": "stream",
     "text": [
      "844/844 [==============================] - 4s 5ms/step - loss: 0.2949 - accuracy: 0.8912 - val_loss: 0.2525 - val_accuracy: 0.9061\n",
      "Epoch 9/10\n",
      "834/844 [============================>.] - ETA: 0s - loss: 0.2856 - accuracy: 0.8935INFO:tensorflow:Assets written to: checkpoints\\fashion\\assets\n"
     ]
    },
    {
     "name": "stderr",
     "output_type": "stream",
     "text": [
      "INFO:tensorflow:Assets written to: checkpoints\\fashion\\assets\n"
     ]
    },
    {
     "name": "stdout",
     "output_type": "stream",
     "text": [
      "844/844 [==============================] - 4s 5ms/step - loss: 0.2851 - accuracy: 0.8938 - val_loss: 0.2506 - val_accuracy: 0.9063\n",
      "Epoch 10/10\n",
      "844/844 [==============================] - 4s 5ms/step - loss: 0.2805 - accuracy: 0.8940 - val_loss: 0.2587 - val_accuracy: 0.9022\n"
     ]
    }
   ],
   "source": [
    "# fit model\n",
    "EPOCHS = 10\n",
    "history = model.fit(\n",
    "    train_data, \n",
    "    epochs=EPOCHS, \n",
    "    validation_data=validation_data, \n",
    "    callbacks=[cp_callback]\n",
    ")"
   ]
  },
  {
   "cell_type": "code",
   "execution_count": 64,
   "metadata": {},
   "outputs": [
    {
     "name": "stdout",
     "output_type": "stream",
     "text": [
      "Model: \"sequential_1\"\n",
      "_________________________________________________________________\n",
      " Layer (type)                Output Shape              Param #   \n",
      "=================================================================\n",
      " flatten_1 (Flatten)         (None, 784)               0         \n",
      "                                                                 \n",
      " dense_2 (Dense)             (None, 512)               401920    \n",
      "                                                                 \n",
      " dropout (Dropout)           (None, 512)               0         \n",
      "                                                                 \n",
      " dense_3 (Dense)             (None, 10)                5130      \n",
      "                                                                 \n",
      "=================================================================\n",
      "Total params: 407,050\n",
      "Trainable params: 407,050\n",
      "Non-trainable params: 0\n",
      "_________________________________________________________________\n"
     ]
    }
   ],
   "source": [
    "# TODO: load model to `new_model`\n",
    "# hint: use `tf.keras.models.load_model`\n",
    "new_model = None\n",
    "new_model.summary()"
   ]
  },
  {
   "cell_type": "code",
   "execution_count": 65,
   "metadata": {},
   "outputs": [
    {
     "name": "stdout",
     "output_type": "stream",
     "text": [
      "157/157 [==============================] - 0s 3ms/step - loss: 0.3380 - accuracy: 0.8786\n"
     ]
    },
    {
     "data": {
      "text/plain": [
       "[0.33795109391212463, 0.878600001335144]"
      ]
     },
     "execution_count": 65,
     "metadata": {},
     "output_type": "execute_result"
    }
   ],
   "source": [
    "# Evaluate model performance\n",
    "new_model.evaluate(test_data)"
   ]
  }
 ],
 "metadata": {
  "kernelspec": {
   "display_name": "Python 3.10.4 ('aiffel2022-0SDAWiwa')",
   "language": "python",
   "name": "python3"
  },
  "language_info": {
   "codemirror_mode": {
    "name": "ipython",
    "version": 3
   },
   "file_extension": ".py",
   "mimetype": "text/x-python",
   "name": "python",
   "nbconvert_exporter": "python",
   "pygments_lexer": "ipython3",
   "version": "3.10.4"
  },
  "orig_nbformat": 4,
  "vscode": {
   "interpreter": {
    "hash": "d1a1b9479b242366efcd00035e60f2e24dbc2c54df35946856cbb4607e74fc36"
   }
  }
 },
 "nbformat": 4,
 "nbformat_minor": 2
}
