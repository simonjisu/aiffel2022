{
 "cells": [
  {
   "cell_type": "code",
   "execution_count": 1,
   "id": "bde05991-8ab7-4d99-b191-308d82f88fc4",
   "metadata": {},
   "outputs": [],
   "source": [
    "import torch\n",
    "import torch.nn as nn\n",
    "import torch.optim as optim\n",
    "from torch.utils.data import Dataset, DataLoader\n",
    "\n",
    "import numpy as np\n",
    "import pandas as pd\n",
    "import seaborn as sns\n",
    "import matplotlib.pyplot as plt\n",
    "\n",
    "from sklearn.metrics import confusion_matrix\n",
    "\n",
    "from pathlib import Path\n",
    "from collections import defaultdict"
   ]
  },
  {
   "cell_type": "markdown",
   "id": "7f1cbd7b-0e4d-47c9-816e-f1a4bb179020",
   "metadata": {
    "colab_type": "text",
    "id": "odrahCJWiHVf"
   },
   "source": [
    "# Recurrent Neural Network\n",
    "\n",
    "## Layers\n",
    "\n",
    "### RNN Layer\n",
    "\n",
    "[`nn.RNN`](https://pytorch.org/docs/stable/nn.html#rnn) needs following arguments.\n",
    "\n",
    "* `input_size`: input size \n",
    "* `hidden_size`: hidden size\n",
    "* `num_layers`: number of layers\n",
    "* `nonlinearity`: activation function, default as tanh\n",
    "* `batch_first`: if batch dimension come to first check it as True, default input size is `(T, B, input_size)`, if `True`, should give input size as `(B, T, input_size)`\n",
    "* `bidirectional`: check if want to use bidirection RNN \n",
    "\n",
    "**single layer rnn**"
   ]
  },
  {
   "cell_type": "code",
   "execution_count": 2,
   "id": "62b21822-e6d6-4ddd-9d33-72f414bda9d9",
   "metadata": {
    "colab": {},
    "colab_type": "code",
    "id": "fJFk0mPfiHVg"
   },
   "outputs": [],
   "source": [
    "input_size = 10\n",
    "hidden_size = 20\n",
    "rnn_layer = nn.RNN(input_size=input_size, \n",
    "                   hidden_size=hidden_size, \n",
    "                   batch_first=True)"
   ]
  },
  {
   "cell_type": "code",
   "execution_count": 3,
   "id": "b4e27bd9-370f-41d5-883c-f50aea5c0421",
   "metadata": {
    "colab": {
     "base_uri": "https://localhost:8080/",
     "height": 36
    },
    "colab_type": "code",
    "executionInfo": {
     "elapsed": 883,
     "status": "ok",
     "timestamp": 1575966826045,
     "user": {
      "displayName": "ROCK HYUN CHOI",
      "photoUrl": "https://lh3.googleusercontent.com/a-/AAuE7mB5wtT-fIEWz-aT0bAUPpYscyKfrk-Osqn-JKHu=s64",
      "userId": "14080414791584977144"
     },
     "user_tz": -540
    },
    "id": "_onJDqwFz5DZ",
    "outputId": "11444a11-6466-4d36-8e00-57bb2dfd3a86"
   },
   "outputs": [
    {
     "data": {
      "text/plain": [
       "torch.Size([20, 10])"
      ]
     },
     "execution_count": 3,
     "metadata": {},
     "output_type": "execute_result"
    }
   ],
   "source": [
    "rnn_layer.weight_ih_l0.size()"
   ]
  },
  {
   "cell_type": "code",
   "execution_count": 4,
   "id": "3a504823-6cc3-4038-a922-ec9531f46d8a",
   "metadata": {},
   "outputs": [
    {
     "name": "stdout",
     "output_type": "stream",
     "text": [
      "outputs: torch.Size([5, 4, 20])\n",
      "hiddens: torch.Size([1, 5, 20])\n"
     ]
    }
   ],
   "source": [
    "batch = 5\n",
    "time_step = 4\n",
    "inputs = torch.rand(batch, time_step, input_size)\n",
    "hiddens = torch.zeros(1, batch, hidden_size)\n",
    "outputs, hiddens = rnn_layer(inputs, hiddens)\n",
    "\n",
    "# inputs: (B, T, I)\n",
    "# outputs: (B, T, H)\n",
    "# hiddens: (num_layer, B, H)\n",
    "\n",
    "print(f\"outputs: {outputs.size()}\\nhiddens: {hiddens.size()}\")"
   ]
  },
  {
   "cell_type": "markdown",
   "id": "11489ac8-e85c-46bf-aaa0-94f9e3fa99b7",
   "metadata": {
    "colab_type": "text",
    "id": "CXi7aur9iHVo"
   },
   "source": [
    "**multi-layer rnn**"
   ]
  },
  {
   "cell_type": "code",
   "execution_count": 5,
   "id": "5bed73d0-2527-43fb-9d37-9669a5ac3f55",
   "metadata": {
    "colab": {},
    "colab_type": "code",
    "id": "dPd2XzL0iHVp"
   },
   "outputs": [],
   "source": [
    "num_layers = 2\n",
    "rnn_layer = nn.RNN(input_size=input_size, \n",
    "                   hidden_size=hidden_size, \n",
    "                   num_layers=num_layers,\n",
    "                   batch_first=True)"
   ]
  },
  {
   "cell_type": "code",
   "execution_count": 6,
   "id": "3b2638bd-1c66-4add-babd-57bbbcfbe120",
   "metadata": {
    "colab": {
     "base_uri": "https://localhost:8080/",
     "height": 55
    },
    "colab_type": "code",
    "executionInfo": {
     "elapsed": 1001,
     "status": "ok",
     "timestamp": 1575966838103,
     "user": {
      "displayName": "ROCK HYUN CHOI",
      "photoUrl": "https://lh3.googleusercontent.com/a-/AAuE7mB5wtT-fIEWz-aT0bAUPpYscyKfrk-Osqn-JKHu=s64",
      "userId": "14080414791584977144"
     },
     "user_tz": -540
    },
    "id": "jApvP22ziHVr",
    "outputId": "d85452ec-0e32-45cc-a0d6-005defb236bb"
   },
   "outputs": [
    {
     "name": "stdout",
     "output_type": "stream",
     "text": [
      "outputs: torch.Size([5, 4, 20])\n",
      "hiddens: torch.Size([2, 5, 20])\n"
     ]
    }
   ],
   "source": [
    "inputs = torch.rand(batch, time_step, input_size)\n",
    "outputs, hiddens = rnn_layer(inputs)\n",
    "\n",
    "# inputs: (B, T, I)\n",
    "# outputs: (B, T, H)\n",
    "# hiddens: (num_layer, B, H)\n",
    "\n",
    "print(f\"outputs: {outputs.size()}\\nhiddens: {hiddens.size()}\")"
   ]
  },
  {
   "cell_type": "markdown",
   "id": "f2127e72-2dc3-4b2e-91ae-961a0e6fe9cd",
   "metadata": {
    "colab_type": "text",
    "id": "n4P8eMTFiHVt"
   },
   "source": [
    "**bidirectional rnn**"
   ]
  },
  {
   "cell_type": "code",
   "execution_count": 7,
   "id": "e3654e41-59f7-432b-b139-9f63144df599",
   "metadata": {
    "colab": {},
    "colab_type": "code",
    "id": "QuLdxwUUiHVt"
   },
   "outputs": [],
   "source": [
    "bidirection = True\n",
    "rnn_layer = nn.RNN(input_size=input_size, \n",
    "                   hidden_size=hidden_size, \n",
    "                   num_layers=num_layers,\n",
    "                   batch_first=True,\n",
    "                   bidirectional=bidirection)"
   ]
  },
  {
   "cell_type": "code",
   "execution_count": 8,
   "id": "18b55bfc-6a57-41a6-a432-4f823de59930",
   "metadata": {
    "colab": {
     "base_uri": "https://localhost:8080/",
     "height": 55
    },
    "colab_type": "code",
    "executionInfo": {
     "elapsed": 722,
     "status": "ok",
     "timestamp": 1575966840812,
     "user": {
      "displayName": "ROCK HYUN CHOI",
      "photoUrl": "https://lh3.googleusercontent.com/a-/AAuE7mB5wtT-fIEWz-aT0bAUPpYscyKfrk-Osqn-JKHu=s64",
      "userId": "14080414791584977144"
     },
     "user_tz": -540
    },
    "id": "PJTeW1q8iHVv",
    "outputId": "84b88450-511a-40ff-9fb7-769bc8186110"
   },
   "outputs": [
    {
     "name": "stdout",
     "output_type": "stream",
     "text": [
      "outputs: torch.Size([5, 4, 40])\n",
      "hiddens: torch.Size([4, 5, 20])\n"
     ]
    }
   ],
   "source": [
    "inputs = torch.rand(batch, time_step, input_size)\n",
    "outputs, hiddens = rnn_layer(inputs)\n",
    "\n",
    "# inputs: (B, T, I)\n",
    "# outputs: (B, T, H*2)\n",
    "# hiddens: (num_layer*2, B, H)\n",
    "\n",
    "print(f\"outputs: {outputs.size()}\\nhiddens: {hiddens.size()}\")"
   ]
  },
  {
   "cell_type": "markdown",
   "id": "6a30c86f-49a3-4872-8e91-37414fe0bb68",
   "metadata": {
    "colab_type": "text",
    "id": "jsgsxOTRiHVw"
   },
   "source": [
    "### LSTM Layer"
   ]
  },
  {
   "cell_type": "code",
   "execution_count": 9,
   "id": "2c011b99-c20d-4773-9863-777efd14d5a8",
   "metadata": {
    "colab": {
     "base_uri": "https://localhost:8080/",
     "height": 73
    },
    "colab_type": "code",
    "executionInfo": {
     "elapsed": 862,
     "status": "ok",
     "timestamp": 1575966842445,
     "user": {
      "displayName": "ROCK HYUN CHOI",
      "photoUrl": "https://lh3.googleusercontent.com/a-/AAuE7mB5wtT-fIEWz-aT0bAUPpYscyKfrk-Osqn-JKHu=s64",
      "userId": "14080414791584977144"
     },
     "user_tz": -540
    },
    "id": "iKYuqsk6iHVx",
    "outputId": "0eb903d9-0754-4cd9-da3c-ecbed6120f5c"
   },
   "outputs": [
    {
     "name": "stdout",
     "output_type": "stream",
     "text": [
      "outputs: torch.Size([5, 4, 20])\n",
      "hiddens: torch.Size([2, 5, 20])\n",
      "cells: torch.Size([2, 5, 20])\n"
     ]
    }
   ],
   "source": [
    "lstm_layer = nn.LSTM(input_size, hidden_size, num_layers, batch_first=True)\n",
    "hiddens = torch.zeros(num_layers, batch, hidden_size)\n",
    "cells = torch.zeros(num_layers, batch, hidden_size)\n",
    "\n",
    "outputs, (hiddens, cells) = lstm_layer(inputs, (hiddens, cells))\n",
    "\n",
    "# inputs: (B, T, I)\n",
    "# outputs: (B, T, H)\n",
    "# hiddens: (num_layer, B, H)\n",
    "# cells: (num_layer, B, H)\n",
    "\n",
    "print(f\"outputs: {outputs.size()}\\nhiddens: {hiddens.size()}\\ncells: {cells.size()}\")"
   ]
  },
  {
   "cell_type": "markdown",
   "id": "4d62f74a-e4e8-4c4d-8d55-e827ef205a90",
   "metadata": {
    "colab_type": "text",
    "id": "nVDmRRxyiHVy"
   },
   "source": [
    "### GRU Layer"
   ]
  },
  {
   "cell_type": "code",
   "execution_count": 10,
   "id": "77442982-6d89-4af5-b8d7-55881ae34ea5",
   "metadata": {
    "colab": {
     "base_uri": "https://localhost:8080/",
     "height": 55
    },
    "colab_type": "code",
    "executionInfo": {
     "elapsed": 934,
     "status": "ok",
     "timestamp": 1575966844466,
     "user": {
      "displayName": "ROCK HYUN CHOI",
      "photoUrl": "https://lh3.googleusercontent.com/a-/AAuE7mB5wtT-fIEWz-aT0bAUPpYscyKfrk-Osqn-JKHu=s64",
      "userId": "14080414791584977144"
     },
     "user_tz": -540
    },
    "id": "Kzd2jM9_iHVz",
    "outputId": "e8de5491-4e21-4b1d-c2eb-7be178e82580"
   },
   "outputs": [
    {
     "name": "stdout",
     "output_type": "stream",
     "text": [
      "outputs: torch.Size([5, 4, 20])\n",
      "hiddens: torch.Size([2, 5, 20])\n"
     ]
    }
   ],
   "source": [
    "gru_layer = nn.GRU(input_size, hidden_size, num_layers, batch_first=True)\n",
    "hiddens = torch.zeros(num_layers, batch, hidden_size)\n",
    "\n",
    "outputs, hiddens = gru_layer(inputs, hiddens)\n",
    "\n",
    "# inputs: (B, T, I)\n",
    "# outputs: (B, T, H)\n",
    "# hiddens: (num_layer, B, H)\n",
    "\n",
    "print(f\"outputs: {outputs.size()}\\nhiddens: {hiddens.size()}\")"
   ]
  },
  {
   "cell_type": "markdown",
   "id": "e67b2144-76f7-45b5-bab9-4fca78fcad2c",
   "metadata": {
    "colab_type": "text",
    "id": "wm2OjWnSiHV0"
   },
   "source": [
    "---\n",
    "\n",
    "# Name Classifier\n",
    "\n",
    "Use RNN to classify 5 countries(\"German\", \"United States\", \"Spain\", \"Korean\", \"Russian\") names\n",
    "\n",
    "## Sequential Data Processing\n",
    "\n",
    "1. Split all data as single character\n",
    "2. assign all character one unique number(including paddping, unknown)\n",
    "3. each batch need same lenght ot tokens, to do it add '\\<pad\\>' to end of characters\n",
    "    \n",
    "    * `<unk>`: if a new letter is never seen in train data, it will refer to this token\n",
    "    * `<pad>`: use it to match input size\n",
    "\n",
    "    ```\n",
    "    length = 15: \n",
    "    'D', 'i', 'e', 't', 'h', 'a', 'r', 'd', ' ', 'T', 'e', 'x', 't', 'o', 'r'\n",
    "\n",
    "    length = 11 + 4: \n",
    "    'M', 'a', 'r', 'c', 'o', ' ', 'D', 'i', 'e', 't', 'z', '<pad>', '<pad>', '<pad>', '<pad>'\n",
    "    ```\n",
    "\n",
    "4. apply one hot encoding\n",
    "    \n",
    "    ```\n",
    "    example: total character length = 5\n",
    "    \n",
    "    each index map to following vector\n",
    "    \n",
    "    0 = [1, 0, 0, 0, 0]\n",
    "    1 = [0, 1, 0, 0, 0]\n",
    "    2 = [0, 0, 1, 0, 0]\n",
    "    3 = [0, 0, 0, 1, 0]\n",
    "    4 = [0, 0, 0, 0, 1]\n",
    "    ```\n",
    "\n",
    "### Custom Dataset\n",
    "\n",
    "Build a custom Dataset. must implement `__getitem__` and `__len__`\n",
    "\n",
    "```python\n",
    "class CustomDataset(Dataset):\n",
    "    def __init__(self):\n",
    "        # Load data & Preprocessing here\n",
    "        self.x = list(range(10))\n",
    "        \n",
    "    def __getitem__(self, index):\n",
    "        # return the matched index data\n",
    "        return self.x[index]\n",
    "        \n",
    "    def __len__(self):\n",
    "        # length of dataset\n",
    "        return len(self.x)\n",
    "```"
   ]
  },
  {
   "cell_type": "code",
   "execution_count": 61,
   "id": "20b2743c-d3ca-4ff9-a3b4-a27079cc25c0",
   "metadata": {
    "colab": {},
    "colab_type": "code",
    "id": "Suro5ulCiHV1"
   },
   "outputs": [],
   "source": [
    "from torch.utils.data import Dataset, DataLoader\n",
    "from collections import defaultdict\n",
    "\n",
    "class CustomDataset(Dataset):\n",
    "    def __init__(self, path, fmt=\"\\t\", pad_idx=1, vocab_stoi=None, labels_stoi=None):\n",
    "        # read files\n",
    "        with Path(path).open(mode=\"r\", encoding=\"utf-8\") as file:\n",
    "            datas = file.readlines()\n",
    "        datas = [line.strip().lower().split(fmt) for line in datas]\n",
    "        datas, labels = list(zip(*datas))\n",
    "        datas = [list(d) for d in datas]\n",
    "        self.pad_idx = pad_idx\n",
    "        \n",
    "        if (vocab_stoi is None) and (labels_stoi is None):\n",
    "            self.vocab_stoi = defaultdict()           # dictionary\n",
    "            self.vocab_stoi[\"<unk>\"] = 0\n",
    "            self.vocab_stoi[\"<pad>\"] = self.pad_idx   # 1\n",
    "        \n",
    "            self.labels_stoi = defaultdict()  \n",
    "            labels_unique = [\"german\", \"united states\", \"spain\", \"korean\", \"russian\"]\n",
    "            for i, label in enumerate(labels_unique):\n",
    "                self.labels_stoi[label] = i\n",
    "        else:\n",
    "            self.vocab_stoi = vocab_stoi\n",
    "            self.labels_stoi = labels_stoi\n",
    "        \n",
    "        # create index\n",
    "        for name in datas:\n",
    "            for letter in name:\n",
    "                letter = letter.lower()\n",
    "                if self.vocab_stoi.get(letter) is None:\n",
    "                    self.vocab_stoi[letter] = len(self.vocab_stoi)\n",
    "        self.vocab_len = len(self.vocab_stoi)\n",
    "        self.vector_matrix = torch.eye(self.vocab_len)\n",
    "        \n",
    "        # change string to numeric numbers\n",
    "        datas = [list(map(self.vocab_stoi.get, name)) for name in datas]\n",
    "        labels = list(map(self.labels_stoi.get, labels))\n",
    "        \n",
    "        self.datas = datas\n",
    "        self.labels = labels\n",
    "        self.classes = list(self.labels_stoi)\n",
    "        self.vocab_itos = {v: k for k, v in self.vocab_stoi.items()}\n",
    "        \n",
    "    def __getitem__(self, index):\n",
    "        # return the matched index data\n",
    "        return self.datas[index], self.labels[index]\n",
    "        \n",
    "    def __len__(self):\n",
    "        # length of dataset\n",
    "        return len(self.datas)\n",
    "    \n",
    "    def custom_collate_fn(self, data):\n",
    "        \"\"\"\n",
    "        data = [\n",
    "            self.__getitem__(i) for i in range(batch_size)\n",
    "        ]\n",
    "        \"\"\"\n",
    "        # [(data1, label1), (data2, label2), ...] -> (data1, data2, ...), (label1, label2, ...)\n",
    "        \n",
    "        datas, labels = list(zip(*data))\n",
    "        max_len = max([len(name) for name in datas])\n",
    "        # pad all idx\n",
    "        datas = [name + [self.pad_idx]*(max_len - len(name)) if len(name) < max_len else name for name in datas]\n",
    "        datas = torch.stack([torch.stack([self.vector_matrix[idx] for idx in name]) for name in datas])\n",
    "        return datas, torch.LongTensor(labels)"
   ]
  },
  {
   "cell_type": "code",
   "execution_count": 62,
   "id": "f6c21c3f-ef49-4437-9f0c-8bc9ab58615d",
   "metadata": {
    "colab": {},
    "colab_type": "code",
    "id": "2xWcseWEiHV2"
   },
   "outputs": [],
   "source": [
    "from pathlib import Path\n",
    "\n",
    "path_txt = \"./data/names/names_{}.tsv\"\n",
    "batch_size = 128\n",
    "train_dataset = CustomDataset(path_txt.format(\"train\"), fmt=\"\\t\")\n",
    "test_dataset = CustomDataset(path_txt.format(\"test\"), fmt=\"\\t\", \n",
    "                             vocab_stoi=train_dataset.vocab_stoi,\n",
    "                             labels_stoi=train_dataset.labels_stoi)\n",
    "\n",
    "train_loader = DataLoader(dataset=train_dataset,\n",
    "                          collate_fn=train_dataset.custom_collate_fn,\n",
    "                          batch_size=batch_size, \n",
    "                          shuffle=True)\n",
    "\n",
    "test_loader = DataLoader(dataset=test_dataset,\n",
    "                         collate_fn=test_dataset.custom_collate_fn,\n",
    "                         batch_size=batch_size, \n",
    "                         shuffle=True)"
   ]
  },
  {
   "cell_type": "code",
   "execution_count": 63,
   "id": "c702df2e-6e8b-4b1d-a304-f5e0c799ba6b",
   "metadata": {
    "colab": {
     "base_uri": "https://localhost:8080/",
     "height": 36
    },
    "colab_type": "code",
    "executionInfo": {
     "elapsed": 979,
     "status": "ok",
     "timestamp": 1575966850226,
     "user": {
      "displayName": "ROCK HYUN CHOI",
      "photoUrl": "https://lh3.googleusercontent.com/a-/AAuE7mB5wtT-fIEWz-aT0bAUPpYscyKfrk-Osqn-JKHu=s64",
      "userId": "14080414791584977144"
     },
     "user_tz": -540
    },
    "id": "iVzQYDAOiHV3",
    "outputId": "6ddf57c7-a969-4ea9-d5d2-605233832161"
   },
   "outputs": [
    {
     "name": "stdout",
     "output_type": "stream",
     "text": [
      "torch.Size([128, 33, 166]) torch.Size([128])\n"
     ]
    }
   ],
   "source": [
    "for names, labels in train_loader:\n",
    "    break\n",
    "    \n",
    "# Batch size, length of tokens, input_size(=length of total unique characters)\n",
    "print(names.size(), labels.size())"
   ]
  },
  {
   "cell_type": "markdown",
   "id": "06524177-43fd-49ea-9616-7c710eabd685",
   "metadata": {
    "colab_type": "text",
    "id": "MPSjdsofiHV5"
   },
   "source": [
    "## RNN Model\n",
    "\n",
    "### Desing Network\n",
    "\n",
    "* Input Size = (B, T, vocab_size)\n",
    "* Output Size = (B, 5)\n",
    "* Loss Function(`nn.CrossEntropyLoss`): Cross Entropy Loss\n",
    "* Optimizer(`optim.Adam`): Adam\n",
    "* RNN Layer: Use `nn.LSTM` to `self.lstm_layer`"
   ]
  },
  {
   "cell_type": "code",
   "execution_count": 64,
   "id": "98d78a3f-dfe8-4906-986a-ab12fbec3eaa",
   "metadata": {
    "colab": {},
    "colab_type": "code",
    "id": "Gvwj6YYXiHV5"
   },
   "outputs": [],
   "source": [
    "class Network(nn.Module):\n",
    "    def __init__(self, input_size, hidden_size, output_size, num_layers):\n",
    "        super().__init__()\n",
    "        \n",
    "        self.lstm_layer = nn.LSTM(input_size, hidden_size, num_layers, batch_first=True, dropout=0.1)\n",
    "        self.linear = nn.Linear(hidden_size, output_size)\n",
    "        \n",
    "    def forward(self, x):\n",
    "        # forward propagation\n",
    "        outputs, (hiddens, cells) = self.lstm_layer(x)\n",
    "        # x: (B, T, I)\n",
    "        # outputs: (B, T, H)\n",
    "        # hiddens: (num_layer, B, H)\n",
    "        # cells: (num_layer, B, H)\n",
    "        last_hidden = hiddens[-1]  # (B, H)\n",
    "        o = self.linear(last_hidden)\n",
    "        \n",
    "        return o"
   ]
  },
  {
   "cell_type": "markdown",
   "id": "eba89eab-f7e8-4ab1-8b1b-2c2e23709e63",
   "metadata": {
    "colab_type": "text",
    "id": "R4UiNmOHiHV8"
   },
   "source": [
    "## Training Model\n",
    "\n",
    "### Train function"
   ]
  },
  {
   "cell_type": "code",
   "execution_count": 65,
   "id": "29214984-df79-42ad-89ab-ac24c49b2ff5",
   "metadata": {
    "colab": {},
    "colab_type": "code",
    "id": "AoUiL8DDiHV9"
   },
   "outputs": [],
   "source": [
    "def train(model, train_loader, loss_function, optimizer, print_step, device):\n",
    "    # Training\n",
    "    model.train()\n",
    "    n_train = len(train_loader.dataset)\n",
    "    for batch_idx, (data, target) in enumerate(train_loader):\n",
    "        \n",
    "        data, target = data.to(device), target.to(device)\n",
    "        # 1) need to initialize for every trackable tensors\n",
    "        optimizer.zero_grad()\n",
    "        # 2) forward propagation\n",
    "        output = model(data)\n",
    "        # 3) calculate Loss\n",
    "        loss = loss_function(output, target)\n",
    "        # 4) back propagation\n",
    "        loss.backward()\n",
    "        # 5) update parameters\n",
    "        optimizer.step()\n",
    "        \n",
    "        if batch_idx % print_step == 0:\n",
    "            percentage = (batch_idx*train_loader.batch_size / n_train) * 100\n",
    "            print(f\" - [{percentage:.2f}%] train loss: {loss:.4f}\")"
   ]
  },
  {
   "cell_type": "markdown",
   "id": "8b0ccd89-3697-4695-b80d-1bf8f6318181",
   "metadata": {
    "colab_type": "text",
    "id": "noKRx6r2iHV-"
   },
   "source": [
    "### Validation 함수"
   ]
  },
  {
   "cell_type": "code",
   "execution_count": 66,
   "id": "3c2b3f89-2c96-45a6-a10c-1744fc350d60",
   "metadata": {
    "colab": {},
    "colab_type": "code",
    "id": "iB-2wud7iHV_"
   },
   "outputs": [],
   "source": [
    "def validation(model, test_loader, loss_function, device):\n",
    "    # Validation\n",
    "    model.eval()\n",
    "    test_loss = 0\n",
    "    correct = 0\n",
    "    n_test = len(test_loader.dataset)\n",
    "\n",
    "    with torch.no_grad():\n",
    "        for data, target in test_loader:\n",
    "            \n",
    "            data, target = data.to(device), target.to(device)\n",
    "            # 1) forward propagation\n",
    "            output = model(data)\n",
    "            # 2) calculate Loss\n",
    "            test_loss += loss_function(output, target).item()\n",
    "            # 3) predict the class\n",
    "            pred = output.argmax(dim=1)\n",
    "            # 4) calculate correct numbers\n",
    "            correct += pred.eq(target).sum().item()\n",
    "            \n",
    "    test_accuracy = correct / n_test\n",
    "    \n",
    "    return test_loss, test_accuracy\n"
   ]
  },
  {
   "cell_type": "markdown",
   "id": "fe3c7733-4c9d-4e02-a185-efdda9c4e2db",
   "metadata": {
    "colab_type": "text",
    "id": "8Li-Xba-iHWA"
   },
   "source": [
    "### Start Training"
   ]
  },
  {
   "cell_type": "code",
   "execution_count": 67,
   "id": "da473879-39a1-4dac-8df7-9af4643bc590",
   "metadata": {
    "colab": {
     "base_uri": "https://localhost:8080/",
     "height": 1000
    },
    "colab_type": "code",
    "executionInfo": {
     "elapsed": 114195,
     "status": "ok",
     "timestamp": 1575966985725,
     "user": {
      "displayName": "ROCK HYUN CHOI",
      "photoUrl": "https://lh3.googleusercontent.com/a-/AAuE7mB5wtT-fIEWz-aT0bAUPpYscyKfrk-Osqn-JKHu=s64",
      "userId": "14080414791584977144"
     },
     "user_tz": -540
    },
    "id": "ISKZrdFRiHWB",
    "outputId": "ab1c3d7d-345a-408d-936c-8a342373a9d2"
   },
   "outputs": [
    {
     "name": "stdout",
     "output_type": "stream",
     "text": [
      "[Step] 1/10\n",
      " [Training Step]\n",
      " - [0.00%] train loss: 1.6115\n",
      " - [76.80%] train loss: 0.3918\n",
      " [Validation Step]\n",
      " - test loss: 1.3656 test accuracy: 80.60 %\n",
      "[Step] 2/10\n",
      " [Training Step]\n",
      " - [0.00%] train loss: 0.3162\n",
      " - [76.80%] train loss: 0.3828\n",
      " [Validation Step]\n",
      " - test loss: 1.4272 test accuracy: 85.00 %\n",
      "[Step] 3/10\n",
      " [Training Step]\n",
      " - [0.00%] train loss: 0.2825\n",
      " - [76.80%] train loss: 0.2592\n",
      " [Validation Step]\n",
      " - test loss: 0.9901 test accuracy: 90.00 %\n",
      "[Step] 4/10\n",
      " [Training Step]\n",
      " - [0.00%] train loss: 0.2344\n",
      " - [76.80%] train loss: 0.2949\n",
      " [Validation Step]\n",
      " - test loss: 0.7809 test accuracy: 91.20 %\n",
      "[Step] 5/10\n",
      " [Training Step]\n",
      " - [0.00%] train loss: 0.1612\n",
      " - [76.80%] train loss: 0.1598\n",
      " [Validation Step]\n",
      " - test loss: 0.7434 test accuracy: 91.60 %\n",
      "[Step] 6/10\n",
      " [Training Step]\n",
      " - [0.00%] train loss: 0.1631\n",
      " - [76.80%] train loss: 0.1836\n",
      " [Validation Step]\n",
      " - test loss: 0.6332 test accuracy: 92.80 %\n",
      "[Step] 7/10\n",
      " [Training Step]\n",
      " - [0.00%] train loss: 0.1706\n",
      " - [76.80%] train loss: 0.2665\n",
      " [Validation Step]\n",
      " - test loss: 0.7707 test accuracy: 92.20 %\n",
      "[Step] 8/10\n",
      " [Training Step]\n",
      " - [0.00%] train loss: 0.1998\n",
      " - [76.80%] train loss: 0.1344\n",
      " [Validation Step]\n",
      " - test loss: 0.5017 test accuracy: 95.20 %\n",
      "[Step] 9/10\n",
      " [Training Step]\n",
      " - [0.00%] train loss: 0.1483\n",
      " - [76.80%] train loss: 0.0857\n",
      " [Validation Step]\n",
      " - test loss: 0.4842 test accuracy: 95.40 %\n",
      "[Step] 10/10\n",
      " [Training Step]\n",
      " - [0.00%] train loss: 0.1329\n",
      " - [76.80%] train loss: 0.1441\n",
      " [Validation Step]\n",
      " - test loss: 0.4211 test accuracy: 96.40 %\n"
     ]
    }
   ],
   "source": [
    "torch.manual_seed(777)\n",
    "torch.cuda.manual_seed(777)\n",
    "\n",
    "device = \"cuda\" if torch.cuda.is_available() else \"cpu\"\n",
    "input_size = len(train_dataset.vocab_stoi)\n",
    "hidden_size = 300\n",
    "output_size = len(train_dataset.classes)\n",
    "num_layers = 2\n",
    "model = Network(input_size, hidden_size, output_size, num_layers).to(device)\n",
    "\n",
    "loss_function = nn.CrossEntropyLoss()\n",
    "optimizer = optim.Adam(model.parameters(), lr=0.001, weight_decay=1e-5)\n",
    "\n",
    "n_step = 10\n",
    "print_step = 300\n",
    "best_accuracy = 0\n",
    "for step in range(n_step):\n",
    "    print(f\"[Step] {step+1}/{n_step}\\n [Training Step]\")\n",
    "    train(model, train_loader, loss_function, optimizer, print_step, device)\n",
    "    test_loss, test_accuracy = validation(model, test_loader, loss_function, device)\n",
    "    print(f\" [Validation Step]\")\n",
    "    print(f\" - test loss: {test_loss:.4f} test accuracy: {test_accuracy*100:.2f} %\")\n",
    "    # 제일 성능을 보인 좋은 모델 저장하기\n",
    "    if test_accuracy > best_accuracy:\n",
    "        best_accuracy = test_accuracy\n",
    "        torch.save(model.state_dict(), \"./states/best_model-namecls.pt\")"
   ]
  },
  {
   "cell_type": "code",
   "execution_count": 68,
   "id": "fc9e168f-5ff4-4bd2-a641-1daba2ca4e9d",
   "metadata": {
    "colab": {},
    "colab_type": "code",
    "id": "wgk6TBjGiHWD"
   },
   "outputs": [],
   "source": [
    "def get_test_result(model, test_loader):\n",
    "    test_guesses = {\"target\": [], \"pred\": []}\n",
    "    with torch.no_grad():\n",
    "        for data, target in test_loader:\n",
    "\n",
    "            output = model(data)\n",
    "            pred = output.argmax(dim=1)\n",
    "\n",
    "            test_guesses[\"target\"].append(target.detach().numpy())\n",
    "            test_guesses[\"pred\"].append(pred.detach().numpy())\n",
    "    test_guesses[\"target\"] = np.concatenate(test_guesses[\"target\"])\n",
    "    test_guesses[\"pred\"] = np.concatenate(test_guesses[\"pred\"])\n",
    "    return test_guesses\n",
    "\n",
    "def preprocessing(text, vocab):\n",
    "    text = text.lower()\n",
    "    temp = []\n",
    "    for x in list(text):\n",
    "        if vocab.get(x) is None:\n",
    "            temp.append(vocab[\"<unk>\"])\n",
    "        else:\n",
    "            temp.append(vocab[x])\n",
    "    \n",
    "    print(f\"Preprocessed: {temp}\")\n",
    "    idx = torch.LongTensor(temp)\n",
    "    input_tensor = torch.zeros(len(idx), len(vocab)).scatter(1, idx.unsqueeze(1), 1)\n",
    "    return input_tensor.unsqueeze(0)\n",
    "    \n",
    "def predict(model, vocab, classes):\n",
    "    model.eval()\n",
    "    text = input(\"Insert Name: \")\n",
    "    input_tensor = preprocessing(text, vocab)\n",
    "    o = model(input_tensor).detach()\n",
    "    pred = classes[o.argmax(1).item()]\n",
    "    probs = o.softmax(1).squeeze(0).numpy()\n",
    "    probs_dict = {label: p for label, p in zip(classes, probs)}\n",
    "    print(f\"Prediction: {pred}\\nProbabilities: \")\n",
    "    for k, v in probs_dict.items():\n",
    "        print(f\"  {k} = {v:.4f}\")"
   ]
  },
  {
   "cell_type": "code",
   "execution_count": 69,
   "id": "1618f09a-11e2-45a3-a607-3f78a138ae69",
   "metadata": {},
   "outputs": [],
   "source": [
    "model = Network(input_size, hidden_size, output_size, num_layers)\n",
    "model.load_state_dict(torch.load(\"./states/best_model-namecls.pt\", map_location=\"cpu\"))\n",
    "vocab = train_dataset.vocab_stoi\n",
    "classes = train_dataset.classes\n",
    "test_guesses = get_test_result(model, test_loader)"
   ]
  },
  {
   "cell_type": "markdown",
   "id": "c26f0493-7b63-4f76-824b-c2913bd7ae2e",
   "metadata": {},
   "source": [
    "### Analysis of model after training"
   ]
  },
  {
   "cell_type": "code",
   "execution_count": 70,
   "id": "cd9875e8-c114-4af1-887c-05fcb6e356ba",
   "metadata": {},
   "outputs": [
    {
     "name": "stdin",
     "output_type": "stream",
     "text": [
      "Insert Name:  john\n"
     ]
    },
    {
     "name": "stdout",
     "output_type": "stream",
     "text": [
      "Preprocessed: [31, 5, 19, 8]\n",
      "Prediction: united states\n",
      "Probabilities: \n",
      "  german = 0.1793\n",
      "  united states = 0.3737\n",
      "  spain = 0.2827\n",
      "  korean = 0.0517\n",
      "  russian = 0.1126\n"
     ]
    }
   ],
   "source": [
    "predict(model, vocab, classes)"
   ]
  },
  {
   "cell_type": "code",
   "execution_count": 71,
   "id": "59ff639d-86b7-451e-8611-266ba83a0501",
   "metadata": {},
   "outputs": [
    {
     "name": "stdin",
     "output_type": "stream",
     "text": [
      "Insert Name:  장지수\n"
     ]
    },
    {
     "name": "stdout",
     "output_type": "stream",
     "text": [
      "Preprocessed: [64, 54, 47]\n",
      "Prediction: united states\n",
      "Probabilities: \n",
      "  german = 0.1907\n",
      "  united states = 0.3393\n",
      "  spain = 0.1244\n",
      "  korean = 0.2030\n",
      "  russian = 0.1426\n"
     ]
    }
   ],
   "source": [
    "predict(model, vocab, classes)"
   ]
  },
  {
   "cell_type": "code",
   "execution_count": 73,
   "id": "a10a2a41-27c2-4869-9241-e4b1a6b90dbc",
   "metadata": {},
   "outputs": [
    {
     "name": "stdin",
     "output_type": "stream",
     "text": [
      "Insert Name:  wkdwltn\n"
     ]
    },
    {
     "name": "stdout",
     "output_type": "stream",
     "text": [
      "Preprocessed: [22, 25, 4, 22, 21, 14, 8]\n",
      "Prediction: united states\n",
      "Probabilities: \n",
      "  german = 0.0670\n",
      "  united states = 0.8555\n",
      "  spain = 0.0715\n",
      "  korean = 0.0034\n",
      "  russian = 0.0026\n"
     ]
    }
   ],
   "source": [
    "# it the model really understand meaning? wkdwltn = 장지수 in typing english\n",
    "predict(model, vocab, classes)"
   ]
  },
  {
   "cell_type": "code",
   "execution_count": 74,
   "id": "a09a2863-394d-4de1-857b-d428684a3c94",
   "metadata": {
    "colab": {
     "base_uri": "https://localhost:8080/",
     "height": 167
    },
    "colab_type": "code",
    "executionInfo": {
     "elapsed": 8122,
     "status": "ok",
     "timestamp": 1575967476983,
     "user": {
      "displayName": "ROCK HYUN CHOI",
      "photoUrl": "https://lh3.googleusercontent.com/a-/AAuE7mB5wtT-fIEWz-aT0bAUPpYscyKfrk-Osqn-JKHu=s64",
      "userId": "14080414791584977144"
     },
     "user_tz": -540
    },
    "id": "Z-EUgnqOiHWG",
    "outputId": "89afb551-ecc8-40ce-f10d-d96ecadfcaee"
   },
   "outputs": [
    {
     "name": "stdin",
     "output_type": "stream",
     "text": [
      "Insert Name:  amelia\n"
     ]
    },
    {
     "name": "stdout",
     "output_type": "stream",
     "text": [
      "Preprocessed: [7, 26, 2, 21, 12, 7]\n",
      "Prediction: spain\n",
      "Probabilities: \n",
      "  german = 0.0738\n",
      "  united states = 0.0905\n",
      "  spain = 0.8205\n",
      "  korean = 0.0061\n",
      "  russian = 0.0092\n"
     ]
    }
   ],
   "source": [
    "# think about the names\n",
    "# Amelia: English? Gemmen? Spanish?\n",
    "# https://en.wikipedia.org/wiki/Amelia_(given_name)\n",
    "predict(model, vocab, classes)"
   ]
  },
  {
   "cell_type": "code",
   "execution_count": 75,
   "id": "83afa3a6-699d-4ded-879e-9b76c0bb28a8",
   "metadata": {},
   "outputs": [
    {
     "data": {
      "image/png": "[encoded data removed]",
      "text/plain": [
       "<Figure size 504x432 with 2 Axes>"
      ]
     },
     "metadata": {
      "needs_background": "light"
     },
     "output_type": "display_data"
    }
   ],
   "source": [
    "fig, ax = plt.subplots(1, 1, figsize=(7, 6))\n",
    "cm = confusion_matrix(y_true=test_guesses[\"target\"], y_pred=test_guesses[\"pred\"], labels=list(range(len(classes))))\n",
    "sns.heatmap(cm, annot=cm, fmt='', cmap=\"coolwarm\", annot_kws={\"fontsize\": 12}, \n",
    "            linewidths=1, linecolor='white', ax=ax)\n",
    "\n",
    "ax.set_title(\"Confusion Matrix\", fontsize=14)\n",
    "ax.set_xticklabels(classes)\n",
    "ax.set_yticklabels(classes, rotation='horizontal')\n",
    "ax.set_xlabel(\"Predict\", fontsize=12)\n",
    "ax.set_ylabel(\"Target\", fontsize=12)\n",
    "plt.show()"
   ]
  },
  {
   "cell_type": "code",
   "execution_count": 76,
   "id": "49b28c92-5cd4-4616-9e58-c011d7a315e7",
   "metadata": {},
   "outputs": [
    {
     "data": {
      "image/png": "[encoded data removed]",
      "text/plain": [
       "<Figure size 1152x288 with 5 Axes>"
      ]
     },
     "metadata": {
      "needs_background": "light"
     },
     "output_type": "display_data"
    }
   ],
   "source": [
    "# Seems like model classify the names by length name?\n",
    "data_dict = {k: [] for k in range(len(train_dataset.labels_stoi))}\n",
    "for data, label in zip(train_dataset.datas, train_dataset.labels):\n",
    "    data_dict[label].append(len(data))\n",
    "\n",
    "fig, axes = plt.subplots(1, 5, figsize=(16, 4))\n",
    "for ax, label in zip(axes.flatten(), data_dict):\n",
    "    sns.histplot(data=data_dict[label], bins=20, ax=ax)\n",
    "    ax.set_title(f\"'{classes[label]}' Length Dist.\")\n",
    "plt.tight_layout()\n",
    "plt.show()"
   ]
  },
  {
   "cell_type": "markdown",
   "id": "77ad3a55-2a77-4f7a-bf20-58998b27f214",
   "metadata": {},
   "source": [
    "---"
   ]
  },
  {
   "cell_type": "markdown",
   "id": "e4ad7770-c983-4c62-83e8-e8ce66059a2d",
   "metadata": {},
   "source": [
    "# Language Modeling with RNN"
   ]
  },
  {
   "cell_type": "code",
   "execution_count": 77,
   "id": "28e04cf4-c1a7-490a-a7a6-ab63bcf4119c",
   "metadata": {},
   "outputs": [],
   "source": [
    "from torch.utils.data import Dataset, DataLoader\n",
    "from collections import defaultdict\n",
    "    \n",
    "class CustomDataset2(Dataset):\n",
    "    def __init__(self, path, fmt=\"\\t\", pad_idx=1, vocab_stoi=None, labels_stoi=None):\n",
    "        # read files\n",
    "        with Path(path).open(mode=\"r\", encoding=\"utf-8\") as file:\n",
    "            datas = file.readlines()\n",
    "        datas = [line.strip().lower().split(fmt) for line in datas]\n",
    "        datas, labels = list(zip(*datas))\n",
    "        datas = [list(d) for d in datas]  # split all tokens into single character\n",
    "        self.pad_idx = pad_idx\n",
    "        \n",
    "        if (vocab_stoi is None) and (labels_stoi is None):\n",
    "            self.vocab_stoi = defaultdict()           # dictionary\n",
    "            self.vocab_stoi[\"<unk>\"] = 0\n",
    "            self.vocab_stoi[\"<pad>\"] = self.pad_idx   # 1\n",
    "        \n",
    "            self.labels_stoi = defaultdict()  \n",
    "            labels_unique = [\"german\", \"united states\", \"spain\", \"korean\", \"russian\"]\n",
    "            for i, label in enumerate(labels_unique):\n",
    "                self.labels_stoi[label] = i\n",
    "        else:\n",
    "            self.vocab_stoi = vocab_stoi\n",
    "            self.labels_stoi = labels_stoi\n",
    "        \n",
    "        # create index\n",
    "        for name in datas:\n",
    "            for letter in name:\n",
    "                letter = letter.lower()\n",
    "                if self.vocab_stoi.get(letter) is None:\n",
    "                    self.vocab_stoi[letter] = len(self.vocab_stoi)\n",
    "        self.vocab_len = len(self.vocab_stoi)\n",
    "        self.vector_matrix = torch.eye(self.vocab_len)\n",
    "        \n",
    "        # change string to numeric numbers\n",
    "        datas = [list(map(self.vocab_stoi.get, name)) for name in datas]\n",
    "        labels = list(map(self.labels_stoi.get, labels))\n",
    "        \n",
    "        self.datas = datas\n",
    "        self.labels = labels\n",
    "        self.classes = list(self.labels_stoi)\n",
    "        self.vocab_itos = {v: k for k, v in self.vocab_stoi.items()}\n",
    "        \n",
    "    def __getitem__(self, index):\n",
    "        # return the matched index data\n",
    "        return self.datas[index], self.labels[index]\n",
    "        \n",
    "    def __len__(self):\n",
    "        # length of dataset\n",
    "        return len(self.datas)\n",
    "    \n",
    "    def custom_collate_fn(self, data):\n",
    "        \"\"\"\n",
    "        data = [\n",
    "            self.__getitem__(i) for i in range(batch_size)\n",
    "        ]\n",
    "        \"\"\"\n",
    "        # [(data1, label1), (data2, label2), ...] -> (data1, data2, ...), (label1, label2, ...)\n",
    "        \n",
    "        datas, labels = list(zip(*data))\n",
    "        max_len = max([len(name) for name in datas])\n",
    "        # pad all idx\n",
    "        datas = [name + [self.pad_idx]*(max_len - len(name)) if len(name) < max_len else name for name in datas]\n",
    "        return torch.LongTensor(datas), torch.LongTensor(labels)"
   ]
  },
  {
   "cell_type": "code",
   "execution_count": 78,
   "id": "3cf080ee-ced0-4f4f-841c-dfe567b506d1",
   "metadata": {},
   "outputs": [],
   "source": [
    "path_txt = \"./data/names/names_{}.tsv\"\n",
    "batch_size = 128\n",
    "train_dataset = CustomDataset2(path_txt.format(\"train\"), fmt=\"\\t\")\n",
    "test_dataset = CustomDataset2(path_txt.format(\"test\"), fmt=\"\\t\", \n",
    "                             vocab_stoi=train_dataset.vocab_stoi,\n",
    "                             labels_stoi=train_dataset.labels_stoi)\n",
    "\n",
    "train_loader = DataLoader(dataset=train_dataset,\n",
    "                          collate_fn=train_dataset.custom_collate_fn,\n",
    "                          batch_size=batch_size, \n",
    "                          shuffle=True)\n",
    "\n",
    "test_loader = DataLoader(dataset=test_dataset,\n",
    "                         collate_fn=test_dataset.custom_collate_fn,\n",
    "                         batch_size=batch_size, \n",
    "                         shuffle=True)"
   ]
  },
  {
   "cell_type": "markdown",
   "id": "c3d9ffac-7c08-485a-a813-4bebbd093d6e",
   "metadata": {},
   "source": [
    "## Embeddings"
   ]
  },
  {
   "cell_type": "code",
   "execution_count": 79,
   "id": "171df240-b7c2-4a84-87e1-4431a118f493",
   "metadata": {},
   "outputs": [
    {
     "name": "stdout",
     "output_type": "stream",
     "text": [
      "Data size = torch.Size([128, 35])\n",
      "After Embedding Size = torch.Size([128, 35, 20])\n"
     ]
    }
   ],
   "source": [
    "data, label = next(iter(train_loader))\n",
    "embedding_layer = nn.Embedding(train_dataset.vocab_len, 20)  # (222, 20)\n",
    "print(f\"Data size = {data.size()}\")  # (B, longest_token_length)\n",
    "print(f\"After Embedding Size = {embedding_layer(data).size()}\")  # (B, longest_token_length, embedding_size)"
   ]
  },
  {
   "cell_type": "markdown",
   "id": "da31c451-1b42-4042-93de-d43dda6e14f6",
   "metadata": {},
   "source": [
    "## RNN Model"
   ]
  },
  {
   "cell_type": "code",
   "execution_count": 80,
   "id": "c30f9f80-c3fd-4fab-98e6-a6b1022fde4d",
   "metadata": {},
   "outputs": [],
   "source": [
    "class Network2(nn.Module):\n",
    "    def __init__(self, vocab_len, emb_size, hidden_size, output_size, num_layers):\n",
    "        super().__init__()\n",
    "        \n",
    "        # Embedding Layer\n",
    "        self.embedding_layer = nn.Embedding(vocab_len, emb_size)\n",
    "        self.lstm_layer = nn.LSTM(emb_size, hidden_size, num_layers, batch_first=True, dropout=0.1)\n",
    "        self.linear = nn.Linear(hidden_size, output_size)\n",
    "        \n",
    "    def forward(self, x):\n",
    "        # forward propagation\n",
    "        # x: (B, T) \n",
    "        # emb: (B, T, E)\n",
    "        emb = self.embedding_layer(x)\n",
    "        outputs, (hiddens, cells) = self.lstm_layer(emb)\n",
    "        \n",
    "        # outputs: (B, T, H)\n",
    "        # hiddens: (num_layer, B, H)\n",
    "        # cells: (num_layer, B, H)\n",
    "        last_hidden = hiddens[-1]  # (B, H)\n",
    "        o = self.linear(last_hidden)\n",
    "        \n",
    "        return o"
   ]
  },
  {
   "cell_type": "markdown",
   "id": "dc90f44c-0088-4f3f-87e0-335263ce642e",
   "metadata": {},
   "source": [
    "## Train Model"
   ]
  },
  {
   "cell_type": "code",
   "execution_count": 81,
   "id": "8bc14c6f-710e-4f39-a8a9-6d0c0ea28c6e",
   "metadata": {},
   "outputs": [
    {
     "name": "stdout",
     "output_type": "stream",
     "text": [
      "[Step] 1/10\n",
      " [Training Step]\n",
      " - [0.00%] train loss: 1.6147\n",
      " - [76.80%] train loss: 0.4334\n",
      " [Validation Step]\n",
      " - test loss: 1.8541 test accuracy: 80.40 %\n",
      "[Step] 2/10\n",
      " [Training Step]\n",
      " - [0.00%] train loss: 0.4470\n",
      " - [76.80%] train loss: 0.2203\n",
      " [Validation Step]\n",
      " - test loss: 0.7462 test accuracy: 91.80 %\n",
      "[Step] 3/10\n",
      " [Training Step]\n",
      " - [0.00%] train loss: 0.2075\n",
      " - [76.80%] train loss: 0.1488\n",
      " [Validation Step]\n",
      " - test loss: 0.5650 test accuracy: 93.20 %\n",
      "[Step] 4/10\n",
      " [Training Step]\n",
      " - [0.00%] train loss: 0.0714\n",
      " - [76.80%] train loss: 0.0707\n",
      " [Validation Step]\n",
      " - test loss: 0.3222 test accuracy: 97.60 %\n",
      "[Step] 5/10\n",
      " [Training Step]\n",
      " - [0.00%] train loss: 0.0668\n",
      " - [76.80%] train loss: 0.0745\n",
      " [Validation Step]\n",
      " - test loss: 0.2810 test accuracy: 97.60 %\n",
      "[Step] 6/10\n",
      " [Training Step]\n",
      " - [0.00%] train loss: 0.0509\n",
      " - [76.80%] train loss: 0.0785\n",
      " [Validation Step]\n",
      " - test loss: 0.2895 test accuracy: 97.80 %\n",
      "[Step] 7/10\n",
      " [Training Step]\n",
      " - [0.00%] train loss: 0.0529\n",
      " - [76.80%] train loss: 0.1059\n",
      " [Validation Step]\n",
      " - test loss: 0.1773 test accuracy: 98.80 %\n",
      "[Step] 8/10\n",
      " [Training Step]\n",
      " - [0.00%] train loss: 0.0263\n",
      " - [76.80%] train loss: 0.0360\n",
      " [Validation Step]\n",
      " - test loss: 0.1819 test accuracy: 98.60 %\n",
      "[Step] 9/10\n",
      " [Training Step]\n",
      " - [0.00%] train loss: 0.0170\n",
      " - [76.80%] train loss: 0.0335\n",
      " [Validation Step]\n",
      " - test loss: 0.2024 test accuracy: 98.60 %\n",
      "[Step] 10/10\n",
      " [Training Step]\n",
      " - [0.00%] train loss: 0.0049\n",
      " - [76.80%] train loss: 0.0050\n",
      " [Validation Step]\n",
      " - test loss: 0.2128 test accuracy: 98.00 %\n"
     ]
    }
   ],
   "source": [
    "torch.manual_seed(777)\n",
    "torch.cuda.manual_seed(777)\n",
    "\n",
    "device = \"cuda\" if torch.cuda.is_available() else \"cpu\"\n",
    "vocab_len = train_dataset.vocab_len\n",
    "emb_size = 20\n",
    "hidden_size = 300\n",
    "output_size = len(train_dataset.classes)\n",
    "num_layers = 2\n",
    "\n",
    "model = Network2(vocab_len, emb_size, hidden_size, output_size, num_layers).to(device)\n",
    "\n",
    "loss_function = nn.CrossEntropyLoss()\n",
    "optimizer = optim.Adam(model.parameters(), lr=0.001, weight_decay=1e-5)\n",
    "\n",
    "n_step = 10\n",
    "print_step = 300\n",
    "best_accuracy = 0\n",
    "for step in range(n_step):\n",
    "    print(f\"[Step] {step+1}/{n_step}\\n [Training Step]\")\n",
    "    train(model, train_loader, loss_function, optimizer, print_step, device)\n",
    "    test_loss, test_accuracy = validation(model, test_loader, loss_function, device)\n",
    "    print(f\" [Validation Step]\")\n",
    "    print(f\" - test loss: {test_loss:.4f} test accuracy: {test_accuracy*100:.2f} %\")\n",
    "    \n",
    "    if test_accuracy > best_accuracy:\n",
    "        best_accuracy = test_accuracy\n",
    "        torch.save(model.state_dict(), \"./states/best_model-namecls-emb.pt\")"
   ]
  },
  {
   "cell_type": "code",
   "execution_count": 82,
   "id": "0dc3bcb1-bacc-4137-9574-2b41fa13701a",
   "metadata": {},
   "outputs": [],
   "source": [
    "model = Network2(vocab_len, emb_size, hidden_size, output_size, num_layers)\n",
    "model.load_state_dict(torch.load(\"./states/best_model-namecls-emb.pt\", map_location=\"cpu\"))\n",
    "vocab = train_dataset.vocab_stoi\n",
    "classes = train_dataset.classes\n",
    "test_guesses = get_test_result(model, test_loader)"
   ]
  },
  {
   "cell_type": "code",
   "execution_count": 83,
   "id": "55b58015-6344-4934-a655-a8a9b3e6bc77",
   "metadata": {},
   "outputs": [
    {
     "data": {
      "image/png": "[encoded data removed]",
      "text/plain": [
       "<Figure size 504x432 with 2 Axes>"
      ]
     },
     "metadata": {
      "needs_background": "light"
     },
     "output_type": "display_data"
    }
   ],
   "source": [
    "fig, ax = plt.subplots(1, 1, figsize=(7, 6))\n",
    "cm = confusion_matrix(y_true=test_guesses[\"target\"], y_pred=test_guesses[\"pred\"], labels=list(range(len(classes))))\n",
    "sns.heatmap(cm, annot=cm, fmt='', cmap=\"coolwarm\", annot_kws={\"fontsize\": 12}, \n",
    "            linewidths=1, linecolor='white', ax=ax)\n",
    "\n",
    "ax.set_title(\"Confusion Matrix\", fontsize=14)\n",
    "ax.set_xticklabels(classes)\n",
    "ax.set_yticklabels(classes, rotation='horizontal')\n",
    "ax.set_xlabel(\"Predict\", fontsize=12)\n",
    "ax.set_ylabel(\"Target\", fontsize=12)\n",
    "plt.show()"
   ]
  },
  {
   "cell_type": "code",
   "execution_count": 84,
   "id": "170e300f-b920-4552-bd9b-94be55f44a71",
   "metadata": {},
   "outputs": [],
   "source": [
    "def preprocessing(text, vocab):\n",
    "    temp = []\n",
    "    for x in list(text):\n",
    "        if vocab.get(x) is None:\n",
    "            temp.append(vocab[\"<unk>\"])\n",
    "        else:\n",
    "            temp.append(vocab[x])\n",
    "\n",
    "    idx = torch.LongTensor(temp)\n",
    "    return idx.unsqueeze(0)"
   ]
  },
  {
   "cell_type": "code",
   "execution_count": 85,
   "id": "c483d694-c524-4678-bec9-5499b24a3bd3",
   "metadata": {},
   "outputs": [
    {
     "name": "stdin",
     "output_type": "stream",
     "text": [
      "Insert Name:  김우진\n"
     ]
    },
    {
     "name": "stdout",
     "output_type": "stream",
     "text": [
      "Prediction: german\n",
      "Probabilities: \n",
      "  german = 0.3681\n",
      "  united states = 0.2903\n",
      "  spain = 0.0965\n",
      "  korean = 0.1495\n",
      "  russian = 0.0957\n"
     ]
    }
   ],
   "source": [
    "predict(model, vocab, classes)"
   ]
  },
  {
   "cell_type": "code",
   "execution_count": 86,
   "id": "427d0a5f-e65b-4987-b5e6-b9c8c33c9db4",
   "metadata": {},
   "outputs": [
    {
     "name": "stdin",
     "output_type": "stream",
     "text": [
      "Insert Name:  장지수\n"
     ]
    },
    {
     "name": "stdout",
     "output_type": "stream",
     "text": [
      "Prediction: spain\n",
      "Probabilities: \n",
      "  german = 0.0416\n",
      "  united states = 0.1001\n",
      "  spain = 0.4822\n",
      "  korean = 0.0861\n",
      "  russian = 0.2900\n"
     ]
    }
   ],
   "source": [
    "# seems like the task dataset it too simple that cannot generalize all name\n",
    "predict(model, vocab, classes)"
   ]
  },
  {
   "cell_type": "markdown",
   "id": "bf625728-ec42-4040-84f0-4507c89559bf",
   "metadata": {},
   "source": [
    "# the problem is on the dataset!?\n",
    "\n",
    "Did so well in Test datset, but why not good in general cases?"
   ]
  },
  {
   "cell_type": "code",
   "execution_count": 96,
   "id": "7534a49b-55a8-49a8-ab1f-449912657b8f",
   "metadata": {},
   "outputs": [],
   "source": [
    "import pandas as pd\n",
    "\n",
    "df_train = pd.read_csv(\"./data/names/names_train.tsv\", sep=\"\\t\", header=None).rename(columns=dict(enumerate([\"name\", \"label\"])))\n",
    "df_test = pd.read_csv(\"./data/names/names_test.tsv\", sep=\"\\t\", header=None).rename(columns=dict(enumerate([\"name\", \"label\"])))"
   ]
  },
  {
   "cell_type": "code",
   "execution_count": 116,
   "id": "cb15cb69-7fe3-4896-b381-3687ba87e6db",
   "metadata": {},
   "outputs": [
    {
     "name": "stdout",
     "output_type": "stream",
     "text": [
      "Classes: German\n",
      "  (1) Duplicated in Train: 16 \n",
      "  (2) Also in Test?: 0.0 %\n",
      "\n",
      "Classes: United States\n",
      "  (1) Duplicated in Train: 501 \n",
      "  (2) Also in Test?: 0.1 %\n",
      "\n",
      "Classes: Spain\n",
      "  (1) Duplicated in Train: 5 \n",
      "  (2) Also in Test?: 0.0 %\n",
      "\n",
      "Classes: Korean\n",
      "  (1) Duplicated in Train: 1492 \n",
      "  (2) Also in Test?: 8.48 %\n",
      "\n",
      "Classes: Russian\n",
      "  (1) Duplicated in Train: 11 \n",
      "  (2) Also in Test?: 0.0 %\n",
      "\n"
     ]
    }
   ],
   "source": [
    "labels = df_train[\"label\"].unique()\n",
    "for l in labels:\n",
    "    df_train_l = df_train.loc[df_train[\"label\"] == l]\n",
    "    df_test_l = df_test.loc[df_test[\"label\"] == l]\n",
    "    df_temp = df_train_l[\"name\"].isin(df_test_l[\"name\"])\n",
    "    print(f\"Classes: {l}\")\n",
    "    print(f\"  (1) Duplicated in Train: {len(df_train_l.loc[df_train_l.duplicated(keep=False)]) - len(df_train_l.loc[df_train_l.duplicated()])} \")\n",
    "    print(f\"  (2) Also in Test?: {df_temp.sum() / len(df_temp) * 100} %\")\n",
    "    print()"
   ]
  }
 ],
 "metadata": {
  "kernelspec": {
   "display_name": "Python 3",
   "language": "python",
   "name": "python3"
  },
  "language_info": {
   "codemirror_mode": {
    "name": "ipython",
    "version": 3
   },
   "file_extension": ".py",
   "mimetype": "text/x-python",
   "name": "python",
   "nbconvert_exporter": "python",
   "pygments_lexer": "ipython3",
   "version": "3.8.10"
  }
 },
 "nbformat": 4,
 "nbformat_minor": 5
}
