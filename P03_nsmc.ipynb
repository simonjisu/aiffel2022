{
 "cells": [
  {
   "cell_type": "code",
   "execution_count": 1,
   "id": "4a845f77",
   "metadata": {},
   "outputs": [],
   "source": [
    "import pandas as pd\n",
    "import konlpy\n",
    "import gensim\n",
    "from pathlib import Path\n",
    "import tensorflow as tf\n",
    "import numpy as np\n",
    "import matplotlib.pyplot as plt\n",
    "import pickle\n",
    "import absl.logging\n",
    "absl.logging.set_verbosity(absl.logging.ERROR)"
   ]
  },
  {
   "cell_type": "markdown",
   "id": "3d10dee6",
   "metadata": {},
   "source": [
    "## 0. Load Data"
   ]
  },
  {
   "cell_type": "code",
   "execution_count": 2,
   "id": "0f4c2169",
   "metadata": {},
   "outputs": [
    {
     "data": {
      "text/html": [
       "<div>\n",
       "<style scoped>\n",
       "    .dataframe tbody tr th:only-of-type {\n",
       "        vertical-align: middle;\n",
       "    }\n",
       "\n",
       "    .dataframe tbody tr th {\n",
       "        vertical-align: top;\n",
       "    }\n",
       "\n",
       "    .dataframe thead th {\n",
       "        text-align: right;\n",
       "    }\n",
       "</style>\n",
       "<table border=\"1\" class=\"dataframe\">\n",
       "  <thead>\n",
       "    <tr style=\"text-align: right;\">\n",
       "      <th></th>\n",
       "      <th>document</th>\n",
       "      <th>label</th>\n",
       "    </tr>\n",
       "  </thead>\n",
       "  <tbody>\n",
       "    <tr>\n",
       "      <th>0</th>\n",
       "      <td>아 더빙 진짜 짜증나네요 목소리</td>\n",
       "      <td>0</td>\n",
       "    </tr>\n",
       "    <tr>\n",
       "      <th>1</th>\n",
       "      <td>흠포스터보고 초딩영화줄오버연기조차 가볍지 않구나</td>\n",
       "      <td>1</td>\n",
       "    </tr>\n",
       "    <tr>\n",
       "      <th>2</th>\n",
       "      <td>너무재밓었다그래서보는것을추천한다</td>\n",
       "      <td>0</td>\n",
       "    </tr>\n",
       "    <tr>\n",
       "      <th>3</th>\n",
       "      <td>교도소 이야기구먼 솔직히 재미는 없다평점 조정</td>\n",
       "      <td>0</td>\n",
       "    </tr>\n",
       "    <tr>\n",
       "      <th>4</th>\n",
       "      <td>사이몬페그의 익살스런 연기가 돋보였던 영화스파이더맨에서 늙어보이기만 했던 커스틴 던...</td>\n",
       "      <td>1</td>\n",
       "    </tr>\n",
       "  </tbody>\n",
       "</table>\n",
       "</div>"
      ],
      "text/plain": [
       "                                            document  label\n",
       "0                                  아 더빙 진짜 짜증나네요 목소리      0\n",
       "1                         흠포스터보고 초딩영화줄오버연기조차 가볍지 않구나      1\n",
       "2                                  너무재밓었다그래서보는것을추천한다      0\n",
       "3                          교도소 이야기구먼 솔직히 재미는 없다평점 조정      0\n",
       "4  사이몬페그의 익살스런 연기가 돋보였던 영화스파이더맨에서 늙어보이기만 했던 커스틴 던...      1"
      ]
     },
     "execution_count": 2,
     "metadata": {},
     "output_type": "execute_result"
    }
   ],
   "source": [
    "train_data = pd.read_table('~/aiffel/sentiment_classification/data/ratings_train.txt')\n",
    "test_data = pd.read_table('~/aiffel/sentiment_classification/data/ratings_test.txt')\n",
    "\n",
    "# 정규화를 통해 한글만 남기기\n",
    "train_data['document'] = train_data['document'].str.replace(\"[^가-힣 ]\", \"\", regex=True)\n",
    "test_data['document'] = test_data['document'].str.replace(\"[^가-힣 ]\", \"\", regex=True)\n",
    "\n",
    "train_data = train_data.drop(columns=['id'])\n",
    "test_data = test_data.drop(columns=['id'])\n",
    "train_data.head()"
   ]
  },
  {
   "cell_type": "markdown",
   "id": "204d37f4",
   "metadata": {},
   "source": [
    "How do you think about this data?\n",
    "\n",
    "| id | text | label | \n",
    "|---|---|---|\n",
    "| 10265843 | 너무재밓었다그래서보는것을추천한다 | 0 | \n",
    "| 3989148 | 약탈자를 위한 변명, 이라. 저놈들은 착한놈들 절대 아닌걸요. | 1 |\n",
    "| 7726829 | 와... | 0 |"
   ]
  },
  {
   "cell_type": "markdown",
   "id": "0dfef7a2",
   "metadata": {},
   "source": [
    "## 1. Preprocessing Data"
   ]
  },
  {
   "cell_type": "code",
   "execution_count": 3,
   "id": "cef694dd",
   "metadata": {},
   "outputs": [
    {
     "name": "stdout",
     "output_type": "stream",
     "text": [
      "Train\n",
      "Number of null in data: 5\n",
      "Test\n",
      "Number of null in data: 3\n",
      "\n",
      "Train: (149995, 2), Test: (49997, 2)\n"
     ]
    }
   ],
   "source": [
    "# NaN 결측치 제거\n",
    "def get_null_index(df):\n",
    "    null_index = df.loc[df.isnull().sum(1) > 0].index\n",
    "    print(f'Number of null in data: {len(null_index)}')\n",
    "    return null_index\n",
    "\n",
    "print('Train')\n",
    "train_null_index = get_null_index(train_data)\n",
    "print('Test')\n",
    "test_null_index = get_null_index(test_data)\n",
    "\n",
    "train_data = train_data.drop(index=train_null_index)\n",
    "test_data = test_data.drop(index=test_null_index)\n",
    "\n",
    "print()\n",
    "print(f'Train: {train_data.shape}, Test: {test_data.shape}')"
   ]
  },
  {
   "cell_type": "code",
   "execution_count": 4,
   "id": "a0c2e8ba",
   "metadata": {
    "scrolled": true
   },
   "outputs": [
    {
     "name": "stdout",
     "output_type": "stream",
     "text": [
      "Before remove:\n",
      "Train duplicated data: 6660\n",
      "Test duplicated data: 1668\n",
      "\n",
      "After remove:\n",
      "Train duplicated data: 0\n",
      "Test duplicated data: 0\n"
     ]
    }
   ],
   "source": [
    "# 데이터의 중복 제거\n",
    "print('Before remove:')\n",
    "print(f'Train duplicated data: {train_data.duplicated().sum()}')\n",
    "print(f'Test duplicated data: {test_data.duplicated().sum()}')\n",
    "\n",
    "train_data = train_data.loc[~train_data.duplicated()].reset_index(drop=True)\n",
    "test_data = test_data.loc[~test_data.duplicated()].reset_index(drop=True)\n",
    "\n",
    "print()\n",
    "print('After remove:')\n",
    "print(f'Train duplicated data: {train_data.duplicated().sum()}')\n",
    "print(f'Test duplicated data: {test_data.duplicated().sum()}')\n"
   ]
  },
  {
   "cell_type": "markdown",
   "id": "23ec360c",
   "metadata": {},
   "source": [
    "### Introduction to Tokenizer"
   ]
  },
  {
   "cell_type": "code",
   "execution_count": 28,
   "id": "12c6d88f",
   "metadata": {},
   "outputs": [
    {
     "name": "stdout",
     "output_type": "stream",
     "text": [
      "['영화', '재밌', '네요']\n"
     ]
    }
   ],
   "source": [
    "from konlpy.tag import Mecab\n",
    "\n",
    "tokenizer = Mecab()\n",
    "txt = '영화 재밌네요'\n",
    "# 형태소로 토큰화\n",
    "print(tokenizer.morphs(txt))"
   ]
  },
  {
   "cell_type": "markdown",
   "id": "8a3c05bd",
   "metadata": {},
   "source": [
    "### Prepare tokenization"
   ]
  },
  {
   "cell_type": "markdown",
   "id": "ce78d541",
   "metadata": {},
   "source": [
    "* Mecab\n",
    "* Sentencepiece(BPE: Byte pair encoding)\n",
    "* ..."
   ]
  },
  {
   "cell_type": "code",
   "execution_count": 7,
   "id": "ee27d93d",
   "metadata": {},
   "outputs": [],
   "source": [
    "# tokenization\n",
    "def tokenize(txt):\n",
    "    stopwords = ['의','가', '이','은','들','는', '과','도','를','으로','에', '한', '하다']\n",
    "    tokens = tokenizer.morphs(txt)        \n",
    "    return [t for t in tokens if t not in stopwords]"
   ]
  },
  {
   "cell_type": "code",
   "execution_count": 7,
   "id": "0707cbe7",
   "metadata": {},
   "outputs": [],
   "source": [
    "\n",
    "train_tokens = train_data['document'].apply(tokenize)\n",
    "test_tokens = test_data['document'].apply(tokenize)\n",
    "\n",
    "# delete some of data\n",
    "train_idx_del = train_tokens.loc[train_tokens.apply(len) == 0].index\n",
    "test_idx_del = test_tokens.loc[test_tokens.apply(len) == 0].index\n",
    "\n",
    "train_tokens = train_tokens.drop(index=train_idx_del)\n",
    "test_tokens = test_tokens.drop(index=test_idx_del)\n",
    "\n",
    "train_labels = train_data.loc[train_tokens.index, 'label'].to_list()\n",
    "test_labels = test_data.loc[test_tokens.index, 'label'].to_list()"
   ]
  },
  {
   "cell_type": "code",
   "execution_count": 8,
   "id": "1c43cf38",
   "metadata": {},
   "outputs": [],
   "source": [
    "import pickle\n",
    "with Path('train_tokens.pickle').open('wb') as file:\n",
    "    pickle.dump((train_tokens.to_list(), train_labels), file)\n",
    "\n",
    "with Path('test_tokens.pickle').open('wb') as file:\n",
    "    pickle.dump((test_tokens.to_list(), test_labels), file)"
   ]
  },
  {
   "cell_type": "code",
   "execution_count": 9,
   "id": "ff96b026",
   "metadata": {},
   "outputs": [
    {
     "name": "stdout",
     "output_type": "stream",
     "text": [
      "Number of unique tokens: 47930\n"
     ]
    }
   ],
   "source": [
    "from collections import Counter\n",
    "\n",
    "LABEL2INDEX = {'negative': 0, 'positive': 1}\n",
    "INDEX2LABEL = ['negative', 'positive']\n",
    "\n",
    "# create vocabulary\n",
    "VOCAB2INDEX = {}\n",
    "VOCAB2INDEX['[PAD]'] = 0\n",
    "VOCAB2INDEX['[UNK]'] = 1\n",
    "\n",
    "unique_tokens = set()  # to get non_duplicate tokens\n",
    "counter = Counter()\n",
    "for s in train_tokens:\n",
    "    unique_tokens.update(set(s))\n",
    "counter.update(unique_tokens)\n",
    "print(f'Number of unique tokens: {len(unique_tokens)}')"
   ]
  },
  {
   "cell_type": "code",
   "execution_count": 10,
   "id": "f6885aeb",
   "metadata": {},
   "outputs": [],
   "source": [
    "for index, token in enumerate(unique_tokens, 2):\n",
    "    VOCAB2INDEX[token] = index\n",
    "INDEX2VOCAB = list(VOCAB2INDEX.keys()) "
   ]
  },
  {
   "cell_type": "markdown",
   "id": "8710f51d",
   "metadata": {},
   "source": [
    "### Prepare vocab2index"
   ]
  },
  {
   "cell_type": "code",
   "execution_count": 6,
   "id": "a7928312",
   "metadata": {},
   "outputs": [],
   "source": [
    "# map to vocab2index\n",
    "def encode(tokens):\n",
    "    idx_tokens = []\n",
    "    for token in tokens:\n",
    "        if VOCAB2INDEX.get(token) is None:\n",
    "            idx = VOCAB2INDEX['[UNK]']\n",
    "        else:\n",
    "            idx = VOCAB2INDEX[token]\n",
    "        idx_tokens.append(idx)\n",
    "    return idx_tokens\n",
    "\n",
    "def decode(idx_tokens, keep_pad=False):\n",
    "    tokens = []\n",
    "    for idx in idx_tokens:\n",
    "        token = INDEX2VOCAB[idx]\n",
    "        if not keep_pad and token == '[PAD]':\n",
    "            continue\n",
    "        tokens.append(token)\n",
    "    return ''.join(tokens)"
   ]
  },
  {
   "cell_type": "markdown",
   "id": "ef273d60",
   "metadata": {},
   "source": [
    "### Train-Validation-Test Split"
   ]
  },
  {
   "cell_type": "code",
   "execution_count": 35,
   "id": "0be439b6",
   "metadata": {},
   "outputs": [],
   "source": [
    "with Path('train_tokens.pickle').open('rb') as file:\n",
    "    (train_tokens, train_labels) = pickle.load(file)\n",
    "\n",
    "with Path('test_tokens.pickle').open('rb') as file:\n",
    "    (test_tokens, test_labels) = pickle.load(file)\n",
    "    \n",
    "train_data = pd.DataFrame(list(zip(*[train_tokens, train_labels])), columns=['document', 'label'])\n",
    "test_data = pd.DataFrame(zip(*[test_tokens, test_labels]), columns=['document', 'label'])"
   ]
  },
  {
   "cell_type": "code",
   "execution_count": 5,
   "id": "4fa58dcc",
   "metadata": {},
   "outputs": [],
   "source": [
    "# select 5% data from train data as validation data\n",
    "\n",
    "def split_data(train_data, ratio=0.2):\n",
    "    train_idxes = []\n",
    "    valid_idxes = []\n",
    "    for label in range(2):\n",
    "        index = train_data.loc[train_data['label'] == label].index.to_numpy()\n",
    "        valid_idx = np.random.choice(index, size=(int(len(index)*ratio),), replace=False)\n",
    "        train_idx = index[~np.isin(index, valid_idx)]\n",
    "        train_idxes.append(train_idx)\n",
    "        valid_idxes.append(valid_idx)\n",
    "\n",
    "    train_idxes = np.concatenate(train_idxes, axis=0)\n",
    "    valid_idxes = np.concatenate(valid_idxes, axis=0)\n",
    "    return train_idxes, valid_idxes"
   ]
  },
  {
   "cell_type": "code",
   "execution_count": 36,
   "id": "8fc1998c",
   "metadata": {},
   "outputs": [
    {
     "name": "stdout",
     "output_type": "stream",
     "text": [
      "Train data = 114640, Valid data = 28659\n",
      "Number of train data: 114640\n",
      "Number of valid data: 28659\n",
      "Number of test data: 48307\n"
     ]
    }
   ],
   "source": [
    "train_idxes, valid_idxes = split_data(train_data, ratio=0.2)\n",
    "print(f'Train data = {len(train_idxes)}, Valid data = {len(valid_idxes)}')\n",
    "\n",
    "df_train = train_data.loc[train_idxes].sample(frac=1).reset_index(drop=True)\n",
    "df_valid = train_data.loc[valid_idxes].sample(frac=1).reset_index(drop=True)\n",
    "df_test = test_data.reset_index(drop=True)\n",
    "print(f'Number of train data: {len(df_train)}')\n",
    "print(f'Number of valid data: {len(df_valid)}')\n",
    "print(f'Number of test data: {len(df_test)}')"
   ]
  },
  {
   "cell_type": "markdown",
   "id": "2fca1ebe",
   "metadata": {},
   "source": [
    "### Prepare Dataloader"
   ]
  },
  {
   "cell_type": "code",
   "execution_count": 4,
   "id": "ad504824",
   "metadata": {},
   "outputs": [],
   "source": [
    "BATCH_SIZE = 256\n",
    "SHUFFLE_BUFFER_SIZE = 1000\n",
    "\n",
    "def data_generator(df):\n",
    "    docs = df['document'].apply(encode).to_list()\n",
    "    labels = df['label'].to_list()\n",
    "    for index in range(len(docs)):\n",
    "        yield docs[index], labels[index]\n",
    "\n",
    "def get_batches(df, test=False, cache_path=''):\n",
    "    output_signature = (\n",
    "        tf.TensorSpec(shape=(None,), dtype=tf.int32),  # names\n",
    "        tf.TensorSpec(shape=(), dtype=tf.int32)  # labels\n",
    "    )  # shape, except the batch_size\n",
    "    dataset = tf.data.Dataset.from_generator(\n",
    "        lambda: data_generator(df), \n",
    "        output_signature=output_signature\n",
    "    )\n",
    "    if not test:\n",
    "        dataset = dataset.shuffle(SHUFFLE_BUFFER_SIZE)\n",
    "    batches = dataset.cache(cache_path).padded_batch(\n",
    "        BATCH_SIZE, \n",
    "        padded_shapes=(tf.TensorShape([None,]), []), \n",
    "        padding_values=(VOCAB2INDEX['[PAD]'], 0)\n",
    "    )\n",
    "    return batches"
   ]
  },
  {
   "cell_type": "code",
   "execution_count": null,
   "id": "0a697ad1",
   "metadata": {},
   "outputs": [],
   "source": [
    "train_batches = get_batches(df_train, test=False, cache_path='train.loader.plain')\n",
    "validation_batches = get_batches(df_valid, test=True, cache_path='valid.loader.plain')\n",
    "test_batches = get_batches(df_test, test=True, cache_path='test.loader.plain')"
   ]
  },
  {
   "cell_type": "markdown",
   "id": "48e0fced",
   "metadata": {},
   "source": [
    "## 2. Write Model"
   ]
  },
  {
   "cell_type": "code",
   "execution_count": 44,
   "id": "03f19667",
   "metadata": {},
   "outputs": [
    {
     "name": "stdout",
     "output_type": "stream",
     "text": [
      "Model: \"sequential_1\"\n",
      "_________________________________________________________________\n",
      "Layer (type)                 Output Shape              Param #   \n",
      "=================================================================\n",
      "embedding_1 (Embedding)      (None, None, 200)         9586400   \n",
      "_________________________________________________________________\n",
      "lstm_1 (LSTM)                (None, 512)               1460224   \n",
      "_________________________________________________________________\n",
      "dense_1 (Dense)              (None, 2)                 1026      \n",
      "=================================================================\n",
      "Total params: 11,047,650\n",
      "Trainable params: 11,047,650\n",
      "Non-trainable params: 0\n",
      "_________________________________________________________________\n"
     ]
    }
   ],
   "source": [
    "EPOCHS = 5\n",
    "vocab_size = len(VOCAB2INDEX)\n",
    "embedding_size = 200\n",
    "hidden_size = 512\n",
    "output_size = len(LABEL2INDEX)\n",
    "checkpoint_dir = Path('./checkpoints/rnn')\n",
    "\n",
    "model = tf.keras.Sequential([\n",
    "    tf.keras.layers.Embedding(vocab_size, embedding_size),\n",
    "    tf.keras.layers.LSTM(units=hidden_size),  # output is hidden states of last time-stamp\n",
    "    tf.keras.layers.Dense(output_size) \n",
    "])\n",
    "model.summary()\n",
    "\n",
    "model_name = 'sent'\n",
    "checkpoint_path = checkpoint_dir / model_name\n",
    "\n",
    "cp_callback = tf.keras.callbacks.ModelCheckpoint(\n",
    "    filepath=checkpoint_path,\n",
    "    monitor='val_accuracy',\n",
    "    verbose=0,\n",
    "    save_best_only=True,\n",
    "    save_weight_only=False\n",
    ")\n",
    "\n",
    "optimizer = tf.keras.optimizers.Adam(learning_rate=0.01)\n",
    "loss_function = tf.keras.losses.SparseCategoricalCrossentropy(from_logits=True)\n",
    "model.compile(optimizer=optimizer, loss=loss_function, metrics=['accuracy'])"
   ]
  },
  {
   "cell_type": "markdown",
   "id": "4e605a27",
   "metadata": {},
   "source": [
    "### Fit model"
   ]
  },
  {
   "cell_type": "code",
   "execution_count": 45,
   "id": "eaad7075",
   "metadata": {
    "scrolled": false
   },
   "outputs": [
    {
     "name": "stdout",
     "output_type": "stream",
     "text": [
      "Epoch 1/5\n",
      "448/448 [==============================] - 46s 93ms/step - loss: 0.6690 - accuracy: 0.6133 - val_loss: 0.5761 - val_accuracy: 0.7051\n"
     ]
    },
    {
     "name": "stderr",
     "output_type": "stream",
     "text": [
      "WARNING:absl:Found untraced functions such as lstm_cell_1_layer_call_fn, lstm_cell_1_layer_call_and_return_conditional_losses, lstm_cell_1_layer_call_fn, lstm_cell_1_layer_call_and_return_conditional_losses, lstm_cell_1_layer_call_and_return_conditional_losses while saving (showing 5 of 5). These functions will not be directly callable after loading.\n"
     ]
    },
    {
     "name": "stdout",
     "output_type": "stream",
     "text": [
      "INFO:tensorflow:Assets written to: checkpoints/rnn/sent/assets\n"
     ]
    },
    {
     "name": "stderr",
     "output_type": "stream",
     "text": [
      "INFO:tensorflow:Assets written to: checkpoints/rnn/sent/assets\n"
     ]
    },
    {
     "name": "stdout",
     "output_type": "stream",
     "text": [
      "Epoch 2/5\n",
      "448/448 [==============================] - 26s 57ms/step - loss: 0.4871 - accuracy: 0.7719 - val_loss: 0.4661 - val_accuracy: 0.7856\n"
     ]
    },
    {
     "name": "stderr",
     "output_type": "stream",
     "text": [
      "WARNING:absl:Found untraced functions such as lstm_cell_1_layer_call_fn, lstm_cell_1_layer_call_and_return_conditional_losses, lstm_cell_1_layer_call_fn, lstm_cell_1_layer_call_and_return_conditional_losses, lstm_cell_1_layer_call_and_return_conditional_losses while saving (showing 5 of 5). These functions will not be directly callable after loading.\n"
     ]
    },
    {
     "name": "stdout",
     "output_type": "stream",
     "text": [
      "INFO:tensorflow:Assets written to: checkpoints/rnn/sent/assets\n"
     ]
    },
    {
     "name": "stderr",
     "output_type": "stream",
     "text": [
      "INFO:tensorflow:Assets written to: checkpoints/rnn/sent/assets\n"
     ]
    },
    {
     "name": "stdout",
     "output_type": "stream",
     "text": [
      "Epoch 3/5\n",
      "448/448 [==============================] - 26s 58ms/step - loss: 0.3658 - accuracy: 0.8426 - val_loss: 0.4601 - val_accuracy: 0.7981\n"
     ]
    },
    {
     "name": "stderr",
     "output_type": "stream",
     "text": [
      "WARNING:absl:Found untraced functions such as lstm_cell_1_layer_call_fn, lstm_cell_1_layer_call_and_return_conditional_losses, lstm_cell_1_layer_call_fn, lstm_cell_1_layer_call_and_return_conditional_losses, lstm_cell_1_layer_call_and_return_conditional_losses while saving (showing 5 of 5). These functions will not be directly callable after loading.\n"
     ]
    },
    {
     "name": "stdout",
     "output_type": "stream",
     "text": [
      "INFO:tensorflow:Assets written to: checkpoints/rnn/sent/assets\n"
     ]
    },
    {
     "name": "stderr",
     "output_type": "stream",
     "text": [
      "INFO:tensorflow:Assets written to: checkpoints/rnn/sent/assets\n"
     ]
    },
    {
     "name": "stdout",
     "output_type": "stream",
     "text": [
      "Epoch 4/5\n",
      "448/448 [==============================] - 26s 58ms/step - loss: 0.3205 - accuracy: 0.8682 - val_loss: 0.4677 - val_accuracy: 0.8017\n"
     ]
    },
    {
     "name": "stderr",
     "output_type": "stream",
     "text": [
      "WARNING:absl:Found untraced functions such as lstm_cell_1_layer_call_fn, lstm_cell_1_layer_call_and_return_conditional_losses, lstm_cell_1_layer_call_fn, lstm_cell_1_layer_call_and_return_conditional_losses, lstm_cell_1_layer_call_and_return_conditional_losses while saving (showing 5 of 5). These functions will not be directly callable after loading.\n"
     ]
    },
    {
     "name": "stdout",
     "output_type": "stream",
     "text": [
      "INFO:tensorflow:Assets written to: checkpoints/rnn/sent/assets\n"
     ]
    },
    {
     "name": "stderr",
     "output_type": "stream",
     "text": [
      "INFO:tensorflow:Assets written to: checkpoints/rnn/sent/assets\n"
     ]
    },
    {
     "name": "stdout",
     "output_type": "stream",
     "text": [
      "Epoch 5/5\n",
      "448/448 [==============================] - 26s 58ms/step - loss: 0.2802 - accuracy: 0.8868 - val_loss: 0.4796 - val_accuracy: 0.8063\n"
     ]
    },
    {
     "name": "stderr",
     "output_type": "stream",
     "text": [
      "WARNING:absl:Found untraced functions such as lstm_cell_1_layer_call_fn, lstm_cell_1_layer_call_and_return_conditional_losses, lstm_cell_1_layer_call_fn, lstm_cell_1_layer_call_and_return_conditional_losses, lstm_cell_1_layer_call_and_return_conditional_losses while saving (showing 5 of 5). These functions will not be directly callable after loading.\n"
     ]
    },
    {
     "name": "stdout",
     "output_type": "stream",
     "text": [
      "INFO:tensorflow:Assets written to: checkpoints/rnn/sent/assets\n"
     ]
    },
    {
     "name": "stderr",
     "output_type": "stream",
     "text": [
      "INFO:tensorflow:Assets written to: checkpoints/rnn/sent/assets\n"
     ]
    }
   ],
   "source": [
    "history = model.fit(\n",
    "    train_batches, \n",
    "    epochs=EPOCHS, \n",
    "    validation_data=validation_batches, \n",
    "    callbacks=[cp_callback]\n",
    ")"
   ]
  },
  {
   "cell_type": "markdown",
   "id": "f6e2a087",
   "metadata": {},
   "source": [
    "## 3. Evaluate Model"
   ]
  },
  {
   "cell_type": "code",
   "execution_count": 3,
   "id": "b31786e3",
   "metadata": {},
   "outputs": [],
   "source": [
    "def plot_results(history):\n",
    "    acc = history.history['accuracy']\n",
    "    val_acc = history.history['val_accuracy']\n",
    "\n",
    "    loss=history.history['loss']\n",
    "    val_loss=history.history['val_loss']\n",
    "\n",
    "    epochs_range = range(EPOCHS)\n",
    "\n",
    "    fig, axes = plt.subplots(1, 2, figsize=(12, 6))\n",
    "    ax1, ax2 = axes\n",
    "    ax1.plot(epochs_range, acc, label='Training Accuracy')\n",
    "    ax1.plot(epochs_range, val_acc, label='Validation Accuracy')\n",
    "    ax1.set_title('Training and Validation Accuracy')\n",
    "\n",
    "    ax2.plot(epochs_range, loss, label='Training Loss')\n",
    "    ax2.plot(epochs_range, val_loss, label='Validation Loss')\n",
    "    ax2.set_title('Training and Validation Loss')\n",
    "    plt.tight_layout()\n",
    "    plt.legend()\n",
    "    plt.show()"
   ]
  },
  {
   "cell_type": "code",
   "execution_count": 46,
   "id": "0ddd8aa9",
   "metadata": {},
   "outputs": [
    {
     "name": "stdout",
     "output_type": "stream",
     "text": [
      "10/10 [==============================] - 1s 55ms/step - loss: 0.4555 - accuracy: 0.8266\n",
      "Test Loss: 0.4555, Accuracy: 0.8266\n"
     ]
    },
    {
     "data": {
      "image/png": "[encoded data removed]",
      "text/plain": [
       "<Figure size 864x432 with 2 Axes>"
      ]
     },
     "metadata": {
      "needs_background": "light"
     },
     "output_type": "display_data"
    }
   ],
   "source": [
    "new_model = tf.keras.Sequential([\n",
    "    tf.keras.layers.Embedding(vocab_size, embedding_size),\n",
    "    tf.keras.layers.LSTM(units=hidden_size),  # output is hidden states of last time-stamp\n",
    "    tf.keras.layers.Dense(output_size) \n",
    "])\n",
    "new_model.compile(optimizer=optimizer, loss=loss_function, metrics=['accuracy'])\n",
    "\n",
    "new_model.load_weights(checkpoint_path)\n",
    "\n",
    "loss, accuracy = new_model.evaluate(test_batches, steps=10)\n",
    "print(f'Test Loss: {loss:.4f}, Accuracy: {accuracy:.4f}')\n",
    "\n",
    "plot_results(history)"
   ]
  },
  {
   "cell_type": "markdown",
   "id": "38242a92",
   "metadata": {},
   "source": [
    "### Try by ourself"
   ]
  },
  {
   "cell_type": "code",
   "execution_count": 8,
   "id": "8bc8e069",
   "metadata": {},
   "outputs": [],
   "source": [
    "def predict(model, txt):\n",
    "    tokens = tokenizer.morphs(txt)\n",
    "    idx_tokens = encode(tokens)\n",
    "    pred = model.predict(np.array([idx_tokens]))\n",
    "    return INDEX2LABEL[pred.argmax()]"
   ]
  },
  {
   "cell_type": "code",
   "execution_count": 47,
   "id": "340153a2",
   "metadata": {},
   "outputs": [
    {
     "name": "stdout",
     "output_type": "stream",
     "text": [
      "Please Insert Comment in Korean: 영화 참 잘 만들었네\n",
      "Your Name = 영화 참 잘 만들었네, Prediction = positive\n"
     ]
    }
   ],
   "source": [
    "name = input('Please Insert Comment in Korean: ')\n",
    "pred = predict(model, name)\n",
    "print(f'Your Name = {name}, Prediction = {pred}')"
   ]
  },
  {
   "cell_type": "markdown",
   "id": "85530431",
   "metadata": {},
   "source": [
    "## 4. Load Word2Vec as Pretrained Embedding\n",
    "\n",
    "\n",
    "```\n",
    "!pip install gdown\n",
    "!gdown https://drive.google.com/uc?id=101KTuugRt_iTaN_JANsCxcEx_4aSlOVJ\n",
    "```"
   ]
  },
  {
   "cell_type": "code",
   "execution_count": 22,
   "id": "3295f7c4",
   "metadata": {
    "scrolled": true
   },
   "outputs": [
    {
     "name": "stdout",
     "output_type": "stream",
     "text": [
      "Requirement already satisfied: gdown in /opt/conda/lib/python3.9/site-packages (4.5.1)\n",
      "Requirement already satisfied: beautifulsoup4 in /opt/conda/lib/python3.9/site-packages (from gdown) (4.6.0)\n",
      "Requirement already satisfied: requests[socks] in /opt/conda/lib/python3.9/site-packages (from gdown) (2.26.0)\n",
      "Requirement already satisfied: six in /opt/conda/lib/python3.9/site-packages (from gdown) (1.16.0)\n",
      "Requirement already satisfied: tqdm in /opt/conda/lib/python3.9/site-packages (from gdown) (4.62.3)\n",
      "Requirement already satisfied: filelock in /opt/conda/lib/python3.9/site-packages (from gdown) (3.4.0)\n",
      "Requirement already satisfied: urllib3<1.27,>=1.21.1 in /opt/conda/lib/python3.9/site-packages (from requests[socks]->gdown) (1.26.7)\n",
      "Requirement already satisfied: certifi>=2017.4.17 in /opt/conda/lib/python3.9/site-packages (from requests[socks]->gdown) (2021.10.8)\n",
      "Requirement already satisfied: charset-normalizer~=2.0.0 in /opt/conda/lib/python3.9/site-packages (from requests[socks]->gdown) (2.0.8)\n",
      "Requirement already satisfied: idna<4,>=2.5 in /opt/conda/lib/python3.9/site-packages (from requests[socks]->gdown) (2.10)\n",
      "Requirement already satisfied: PySocks!=1.5.7,>=1.5.6 in /opt/conda/lib/python3.9/site-packages (from requests[socks]->gdown) (1.7.1)\n",
      "\u001b[33mWARNING: Running pip as the 'root' user can result in broken permissions and conflicting behaviour with the system package manager. It is recommended to use a virtual environment instead: https://pip.pypa.io/warnings/venv\u001b[0m\n",
      "Downloading...\n",
      "From: https://drive.google.com/uc?id=101KTuugRt_iTaN_JANsCxcEx_4aSlOVJ\n",
      "To: /aiffel/aiffel2022/ko.model\n",
      "100%|██████████████████████████████████████| 68.1M/68.1M [00:01<00:00, 61.5MB/s]\n"
     ]
    }
   ],
   "source": [
    "!pip install gdown\n",
    "!gdown https://drive.google.com/uc?id=101KTuugRt_iTaN_JANsCxcEx_4aSlOVJ"
   ]
  },
  {
   "cell_type": "code",
   "execution_count": 9,
   "id": "87dd556c",
   "metadata": {},
   "outputs": [],
   "source": [
    "import gensim\n",
    "from gensim.models.keyedvectors import Word2VecKeyedVectors\n",
    "\n",
    "word_vectors = gensim.models.KeyedVectors.load_word2vec_format('ko.model')"
   ]
  },
  {
   "cell_type": "code",
   "execution_count": 10,
   "id": "9b624ade",
   "metadata": {},
   "outputs": [
    {
     "name": "stdout",
     "output_type": "stream",
     "text": [
      "Class of `word_vectors.vectors` = <class 'numpy.ndarray'>\n",
      "(Vocab Size, Embedding Size) = (30185, 200)\n",
      "Class of `word_vectors.index_to_key` = <class 'list'>\n",
      "['지구', '연결', '시기', '국민', '이탈리아', '므로', '진행', '한편', '주기', '생산']\n"
     ]
    }
   ],
   "source": [
    "print(f'Class of `word_vectors.vectors` = {type(word_vectors.vectors)}')\n",
    "print(f'(Vocab Size, Embedding Size) = {word_vectors.vectors.shape}')\n",
    "print(f'Class of `word_vectors.index_to_key` = {type(word_vectors.index_to_key)}')\n",
    "print(word_vectors.index_to_key[500:510])"
   ]
  },
  {
   "cell_type": "code",
   "execution_count": 11,
   "id": "b8ba9aab",
   "metadata": {},
   "outputs": [
    {
     "name": "stdout",
     "output_type": "stream",
     "text": [
      "index=500(지구) [-0.38355422  0.48232487 -2.477071    1.3113756  -2.0463424 ]\n",
      "index=500(지구) [-0.38355422  0.48232487 -2.477071    1.3113756  -2.0463424 ]\n"
     ]
    }
   ],
   "source": [
    "# indexing in word2vec object\n",
    "a = word_vectors[500]\n",
    "b = word_vectors['지구']\n",
    "\n",
    "print('index=500(지구)', a[:5])\n",
    "print('index=500(지구)', b[:5])"
   ]
  },
  {
   "cell_type": "code",
   "execution_count": 12,
   "id": "e4311dee",
   "metadata": {
    "scrolled": false
   },
   "outputs": [
    {
     "data": {
      "text/plain": [
       "[('스페인', 0.7812455296516418),\n",
       " ('프랑스', 0.7344648838043213),\n",
       " ('나폴리', 0.7137762308120728),\n",
       " ('네덜란드', 0.6884961128234863),\n",
       " ('밀라노', 0.6815128922462463),\n",
       " ('피렌체', 0.671885073184967),\n",
       " ('스웨덴', 0.6689110398292542),\n",
       " ('벨기에', 0.6632754802703857),\n",
       " ('헝가리', 0.662670373916626),\n",
       " ('제노바', 0.6600825786590576)]"
      ]
     },
     "execution_count": 12,
     "metadata": {},
     "output_type": "execute_result"
    }
   ],
   "source": [
    "# get similar words\n",
    "word_vectors.most_similar('이탈리아')"
   ]
  },
  {
   "cell_type": "code",
   "execution_count": 13,
   "id": "fca2066e",
   "metadata": {},
   "outputs": [
    {
     "name": "stdout",
     "output_type": "stream",
     "text": [
      "first index word in word_vectors is 하\n",
      "After modified, the shape is = (30187, 200), vocab size is = 30187\n"
     ]
    }
   ],
   "source": [
    "# redefine vocab\n",
    "LABEL2INDEX = {'negative': 0, 'positive': 1}\n",
    "INDEX2LABEL = ['negative', 'positive']\n",
    "\n",
    "EPOCHS = 5\n",
    "embedding_size = word_vectors.vector_size\n",
    "hidden_size = 512\n",
    "output_size = len(LABEL2INDEX)\n",
    "checkpoint_dir = Path('./checkpoints/rnn')\n",
    "\n",
    "print(f'first index word in word_vectors is {word_vectors.index_to_key[0]}')\n",
    "# need to add other index\n",
    "\n",
    "INDEX2VOCAB = ['[PAD]', '[UNK]'] + word_vectors.index_to_key\n",
    "VOCAB2INDEX = {v: i for i, v in enumerate(INDEX2VOCAB)}\n",
    "vocab_size = len(VOCAB2INDEX)\n",
    "\n",
    "# modify word_vectors\n",
    "wv = word_vectors.vectors\n",
    "modified_wv = np.vstack([np.zeros((1, embedding_size)), np.random.randn(1, embedding_size), wv])\n",
    "print(f'After modified, the shape is = {modified_wv.shape}, vocab size is = {len(INDEX2VOCAB)}')"
   ]
  },
  {
   "cell_type": "code",
   "execution_count": 65,
   "id": "90e3b459",
   "metadata": {},
   "outputs": [
    {
     "data": {
      "application/vnd.jupyter.widget-view+json": {
       "model_id": "81d51edb2ad8463a9d49f34207e9f58b",
       "version_major": 2,
       "version_minor": 0
      },
      "text/plain": [
       "  0%|          | 0/143299 [00:00<?, ?it/s]"
      ]
     },
     "metadata": {},
     "output_type": "display_data"
    },
    {
     "data": {
      "application/vnd.jupyter.widget-view+json": {
       "model_id": "a68b1ea569df4f1c9a5b9e689df0fd12",
       "version_major": 2,
       "version_minor": 0
      },
      "text/plain": [
       "  0%|          | 0/48307 [00:00<?, ?it/s]"
      ]
     },
     "metadata": {},
     "output_type": "display_data"
    }
   ],
   "source": [
    "from tqdm.notebook import tqdm\n",
    "\n",
    "# need to change tokenizer\n",
    "def remove_unused(tokens):\n",
    "    new_tokens = []\n",
    "    for tkn in tokens:\n",
    "        if tkn in INDEX2VOCAB:\n",
    "            new_tokens.append(tkn)\n",
    "    return new_tokens\n",
    "    \n",
    "def get_new_tokens_labels(old_tokens, old_labels):\n",
    "    new_tokens = []\n",
    "    new_labels = []\n",
    "    for i, tokens in tqdm(enumerate(old_tokens), total=len(old_tokens)):\n",
    "        new_tkns = remove_unused(tokens)\n",
    "        if len(new_tkns) > 0:\n",
    "            new_tokens.append(new_tkns)\n",
    "            new_labels.append(old_labels[i])\n",
    "    return new_tokens, new_labels\n",
    "\n",
    "with Path('train_tokens.pickle').open('rb') as file:\n",
    "    (train_tokens, train_labels) = pickle.load(file)\n",
    "\n",
    "with Path('test_tokens.pickle').open('rb') as file:\n",
    "    (test_tokens, test_labels) = pickle.load(file)\n",
    "\n",
    "    \n",
    "new_train_tokens, new_train_labels = get_new_tokens_labels(train_tokens, train_labels)\n",
    "new_test_tokens, new_test_labels = get_new_tokens_labels(test_tokens, test_labels)\n",
    "\n",
    "with Path('new_train_tokens.pickle').open('wb') as file:\n",
    "    pickle.dump((new_train_tokens, new_train_labels), file)\n",
    "\n",
    "with Path('new_test_tokens.pickle').open('wb') as file:\n",
    "    pickle.dump((new_test_tokens, new_test_labels), file)"
   ]
  },
  {
   "cell_type": "code",
   "execution_count": 14,
   "id": "0eda6e7e",
   "metadata": {},
   "outputs": [
    {
     "name": "stdout",
     "output_type": "stream",
     "text": [
      "Train data = 113930, Valid data = 28482\n",
      "Number of train data: 113930\n",
      "Number of valid data: 28482\n",
      "Number of test data: 47973\n"
     ]
    }
   ],
   "source": [
    "with Path('new_train_tokens.pickle').open('rb') as file:\n",
    "    (train_tokens, train_labels) = pickle.load(file)\n",
    "\n",
    "with Path('new_test_tokens.pickle').open('rb') as file:\n",
    "    (test_tokens, test_labels) = pickle.load(file)\n",
    "\n",
    "train_data = pd.DataFrame(list(zip(*[train_tokens, train_labels])), columns=['document', 'label'])\n",
    "test_data = pd.DataFrame(zip(*[test_tokens, test_labels]), columns=['document', 'label'])\n",
    "\n",
    "train_idxes, valid_idxes = split_data(train_data, ratio=0.2)\n",
    "print(f'Train data = {len(train_idxes)}, Valid data = {len(valid_idxes)}')\n",
    "\n",
    "df_train = train_data.loc[train_idxes].sample(frac=1).reset_index(drop=True)\n",
    "df_valid = train_data.loc[valid_idxes].sample(frac=1).reset_index(drop=True)\n",
    "df_test = test_data.reset_index(drop=True)\n",
    "print(f'Number of train data: {len(df_train)}')\n",
    "print(f'Number of valid data: {len(df_valid)}')\n",
    "print(f'Number of test data: {len(df_test)}')"
   ]
  },
  {
   "cell_type": "code",
   "execution_count": 15,
   "id": "0390272f",
   "metadata": {},
   "outputs": [],
   "source": [
    "train_batches = get_batches(df_train, test=False, cache_path='train.loader.wv')\n",
    "validation_batches = get_batches(df_valid, test=True, cache_path='valid.loader.wv')\n",
    "test_batches = get_batches(df_test, test=True, cache_path='test.loader.wv')"
   ]
  },
  {
   "cell_type": "markdown",
   "id": "89283f48",
   "metadata": {},
   "source": [
    "### apply word vectors into embedding layer"
   ]
  },
  {
   "cell_type": "code",
   "execution_count": 16,
   "id": "5c866385",
   "metadata": {},
   "outputs": [],
   "source": [
    "def initializer(shape, dtype=None):\n",
    "    return modified_wv\n",
    "\n",
    "embedding_layer = tf.keras.layers.Embedding(vocab_size, embedding_size, embeddings_initializer=initializer)"
   ]
  },
  {
   "cell_type": "code",
   "execution_count": 17,
   "id": "b8cf265c",
   "metadata": {},
   "outputs": [
    {
     "name": "stdout",
     "output_type": "stream",
     "text": [
      "tf.Tensor([-0.38355422  0.48232487 -2.477071    1.3113756  -2.0463424 ], shape=(5,), dtype=float32)\n"
     ]
    }
   ],
   "source": [
    "x = np.array([[502]])  # token idx for 지구\n",
    "e = embedding_layer(x)\n",
    "print(e[0, 0, :5])"
   ]
  },
  {
   "cell_type": "code",
   "execution_count": 23,
   "id": "7c3e1eda",
   "metadata": {},
   "outputs": [
    {
     "name": "stdout",
     "output_type": "stream",
     "text": [
      "Model: \"sequential_1\"\n",
      "_________________________________________________________________\n",
      "Layer (type)                 Output Shape              Param #   \n",
      "=================================================================\n",
      "embedding (Embedding)        (None, None, 200)         6037400   \n",
      "_________________________________________________________________\n",
      "lstm_1 (LSTM)                (None, 512)               1460224   \n",
      "_________________________________________________________________\n",
      "dense_1 (Dense)              (None, 2)                 1026      \n",
      "=================================================================\n",
      "Total params: 7,498,650\n",
      "Trainable params: 7,498,650\n",
      "Non-trainable params: 0\n",
      "_________________________________________________________________\n"
     ]
    }
   ],
   "source": [
    "model = tf.keras.Sequential([\n",
    "    embedding_layer,\n",
    "    tf.keras.layers.LSTM(units=hidden_size),  # output is hidden states of last time-stamp\n",
    "    tf.keras.layers.Dense(output_size) \n",
    "])\n",
    "model.summary()\n",
    "\n",
    "model_name = 'sent_wv'\n",
    "checkpoint_path = checkpoint_dir / model_name\n",
    "\n",
    "cp_callback = tf.keras.callbacks.ModelCheckpoint(\n",
    "    filepath=checkpoint_path,\n",
    "    monitor='val_accuracy',\n",
    "    verbose=0,\n",
    "    save_best_only=True,\n",
    "    save_weight_only=True\n",
    ")\n",
    "\n",
    "optimizer = tf.keras.optimizers.Adam(learning_rate=0.01)\n",
    "loss_function = tf.keras.losses.SparseCategoricalCrossentropy(from_logits=True)\n",
    "model.compile(optimizer=optimizer, loss=loss_function, metrics=['accuracy'])"
   ]
  },
  {
   "cell_type": "code",
   "execution_count": 24,
   "id": "924cf0b3",
   "metadata": {
    "scrolled": false
   },
   "outputs": [
    {
     "name": "stdout",
     "output_type": "stream",
     "text": [
      "Epoch 1/5\n",
      "446/446 [==============================] - 24s 52ms/step - loss: 0.6442 - accuracy: 0.5843 - val_loss: 0.4669 - val_accuracy: 0.7910\n",
      "INFO:tensorflow:Assets written to: checkpoints/rnn/sent_wv/assets\n"
     ]
    },
    {
     "name": "stderr",
     "output_type": "stream",
     "text": [
      "INFO:tensorflow:Assets written to: checkpoints/rnn/sent_wv/assets\n"
     ]
    },
    {
     "name": "stdout",
     "output_type": "stream",
     "text": [
      "Epoch 2/5\n",
      "446/446 [==============================] - 23s 52ms/step - loss: 0.3865 - accuracy: 0.8312 - val_loss: 0.4210 - val_accuracy: 0.8166\n",
      "INFO:tensorflow:Assets written to: checkpoints/rnn/sent_wv/assets\n"
     ]
    },
    {
     "name": "stderr",
     "output_type": "stream",
     "text": [
      "INFO:tensorflow:Assets written to: checkpoints/rnn/sent_wv/assets\n"
     ]
    },
    {
     "name": "stdout",
     "output_type": "stream",
     "text": [
      "Epoch 3/5\n",
      "446/446 [==============================] - 23s 52ms/step - loss: 0.3460 - accuracy: 0.8510 - val_loss: 0.4324 - val_accuracy: 0.8184\n",
      "INFO:tensorflow:Assets written to: checkpoints/rnn/sent_wv/assets\n"
     ]
    },
    {
     "name": "stderr",
     "output_type": "stream",
     "text": [
      "INFO:tensorflow:Assets written to: checkpoints/rnn/sent_wv/assets\n"
     ]
    },
    {
     "name": "stdout",
     "output_type": "stream",
     "text": [
      "Epoch 4/5\n",
      "446/446 [==============================] - 23s 52ms/step - loss: 0.3298 - accuracy: 0.8596 - val_loss: 0.4286 - val_accuracy: 0.8176\n",
      "Epoch 5/5\n",
      "446/446 [==============================] - 23s 52ms/step - loss: 0.3201 - accuracy: 0.8638 - val_loss: 0.4235 - val_accuracy: 0.8186\n",
      "INFO:tensorflow:Assets written to: checkpoints/rnn/sent_wv/assets\n"
     ]
    },
    {
     "name": "stderr",
     "output_type": "stream",
     "text": [
      "INFO:tensorflow:Assets written to: checkpoints/rnn/sent_wv/assets\n"
     ]
    }
   ],
   "source": [
    "history = model.fit(\n",
    "    train_batches, \n",
    "    epochs=EPOCHS, \n",
    "    validation_data=validation_batches, \n",
    "    callbacks=[cp_callback]\n",
    ")"
   ]
  },
  {
   "cell_type": "code",
   "execution_count": 26,
   "id": "79b53561",
   "metadata": {},
   "outputs": [
    {
     "name": "stdout",
     "output_type": "stream",
     "text": [
      "10/10 [==============================] - 1s 53ms/step - loss: 0.4159 - accuracy: 0.8262\n",
      "Test Loss: 0.4159, Accuracy: 0.8262\n"
     ]
    },
    {
     "data": {
      "image/png": "[encoded data removed]",
      "text/plain": [
       "<Figure size 864x432 with 2 Axes>"
      ]
     },
     "metadata": {
      "needs_background": "light"
     },
     "output_type": "display_data"
    }
   ],
   "source": [
    "new_model = tf.keras.Sequential([\n",
    "    embedding_layer,\n",
    "    tf.keras.layers.LSTM(units=hidden_size),  # output is hidden states of last time-stamp\n",
    "    tf.keras.layers.Dense(output_size) \n",
    "])\n",
    "new_model.compile(optimizer=optimizer, loss=loss_function, metrics=['accuracy'])\n",
    "new_model.load_weights(checkpoint_path)\n",
    "\n",
    "loss, accuracy = new_model.evaluate(test_batches, steps=10)\n",
    "print(f'Test Loss: {loss:.4f}, Accuracy: {accuracy:.4f}')\n",
    "\n",
    "plot_results(history)"
   ]
  },
  {
   "cell_type": "code",
   "execution_count": 32,
   "id": "34d55ded",
   "metadata": {},
   "outputs": [],
   "source": [
    "def new_tokenizer(txt):\n",
    "    tokens = tokenizer.morphs(txt)\n",
    "    new_tokens = []\n",
    "    for tkn in tokens:\n",
    "        if tkn in INDEX2VOCAB:\n",
    "            new_tokens.append(tkn)\n",
    "    return new_tokens\n",
    "\n",
    "def predict2(model, txt):\n",
    "    tokens = new_tokenizer(txt)\n",
    "    print(tokens)\n",
    "    idx_tokens = encode(tokens)\n",
    "    pred = model.predict(np.array([idx_tokens]))\n",
    "    return INDEX2LABEL[pred.argmax()]"
   ]
  },
  {
   "cell_type": "code",
   "execution_count": 33,
   "id": "46f348e4",
   "metadata": {},
   "outputs": [
    {
     "name": "stdout",
     "output_type": "stream",
     "text": [
      "Please Insert Comment in Korean: 아니 진짜 이게 맞아?\n",
      "['아니', '진짜', '맞', '아', '?']\n",
      "Your Name = 아니 진짜 이게 맞아?, Prediction = negative\n"
     ]
    }
   ],
   "source": [
    "name = input('Please Insert Comment in Korean: ')\n",
    "pred = predict2(model, name)\n",
    "print(f'Your Name = {name}, Prediction = {pred}')"
   ]
  },
  {
   "cell_type": "code",
   "execution_count": null,
   "id": "b4c4174c",
   "metadata": {},
   "outputs": [],
   "source": []
  }
 ],
 "metadata": {
  "kernelspec": {
   "display_name": "Python 3 (ipykernel)",
   "language": "python",
   "name": "python3"
  },
  "language_info": {
   "codemirror_mode": {
    "name": "ipython",
    "version": 3
   },
   "file_extension": ".py",
   "mimetype": "text/x-python",
   "name": "python",
   "nbconvert_exporter": "python",
   "pygments_lexer": "ipython3",
   "version": "3.9.7"
  },
  "vscode": {
   "interpreter": {
    "hash": "d1a1b9479b242366efcd00035e60f2e24dbc2c54df35946856cbb4607e74fc36"
   }
  }
 },
 "nbformat": 4,
 "nbformat_minor": 5
}
